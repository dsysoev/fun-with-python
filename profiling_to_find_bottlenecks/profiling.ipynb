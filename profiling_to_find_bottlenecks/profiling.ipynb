{
 "cells": [
  {
   "cell_type": "markdown",
   "metadata": {},
   "source": [
    "# Helful tips\n",
    "\n",
    "This notebook help you to understand how to build quality code\n",
    "- write test first\n",
    "- check performance (timeit and line_profiler)\n",
    "- check memory usage (memory_profiler)"
   ]
  },
  {
   "cell_type": "markdown",
   "metadata": {},
   "source": [
    "# Let's analyze the example of an algorithm\n",
    "    \n",
    "    We have a list with integers \n",
    "    and list of targets \n",
    "    find sum all elements not exceeding to all targets\n",
    "    \n",
    "    Example 1:\n",
    "    Input: elements [10, 1, -1, 0], targets [-1, 100]\n",
    "    for target -1 -> sum([-1]) = -1, for target 100 -> sum([10, 1, -1, 0]) = 10\n",
    "    answer sum([-1, 10]) = 9\n",
    "    Output: 9"
   ]
  },
  {
   "cell_type": "code",
   "execution_count": null,
   "metadata": {},
   "outputs": [],
   "source": [
    "%load_ext autoreload\n",
    "%autoreload 2"
   ]
  },
  {
   "cell_type": "markdown",
   "metadata": {},
   "source": [
    "# Write tests first"
   ]
  },
  {
   "cell_type": "code",
   "execution_count": 2,
   "metadata": {},
   "outputs": [
    {
     "name": "stdout",
     "output_type": "stream",
     "text": [
      "Overwriting test_find_closest_sum.py\n"
     ]
    }
   ],
   "source": [
    "%%writefile test_find_closest_sum.py\n",
    "\n",
    "def utest_find_closest_sum(func):\n",
    "    assert func([0, 1, 2, 3, 4, 5, 6, 7, 8, 9], [0]) == 0\n",
    "    assert func([0, 1, 2, 3, 4, 5, 6, 7, 8, 9], [-1]) == 0\n",
    "    assert func([0, 1, 2, 3, 4, 5, 6, 7, 8, 9], [11]) == 45\n",
    "    assert func([0, 1, 2, 3, 4, 5, 6, 7, 8, 9], [5]) == 15\n",
    "    assert func([0, 1, 2, 3, 4, 5, 6, 7, 8, 9], [-10, 10]) == 45\n",
    "    assert func([-10, -9, -8, -7, -6, -5, -4, -3, -2, -1], [-11]) == -10\n",
    "    assert func([-10, -9, -8, -7, -6, -5, -4, -3, -2, -1], [10]) == -55\n",
    "    assert func([-10, -9, -8, -7, -6, -5, -4, -3, -2, -1], [-5]) == -45\n",
    "    assert func([100, 0, 1], [100, -1]) == 101\n",
    "    assert func([100, 0, 1], [100, 10]) == 102\n",
    "    assert func([10, 1, -1, 0], [-1, 100]) == 9\n"
   ]
  },
  {
   "cell_type": "code",
   "execution_count": 3,
   "metadata": {},
   "outputs": [
    {
     "name": "stdout",
     "output_type": "stream",
     "text": [
      "Overwriting find_closest_sum.py\n"
     ]
    }
   ],
   "source": [
    "%%writefile find_closest_sum.py\n",
    "\n",
    "import random\n",
    "\n",
    "def generate_lists(n):\n",
    "    return [random.randint(0, n) for _ in range(n)], [random.randint(-n - 1, n + 1) for _ in range(n)]\n"
   ]
  },
  {
   "cell_type": "code",
   "execution_count": 4,
   "metadata": {},
   "outputs": [],
   "source": [
    "from find_closest_sum import generate_lists\n",
    "\n",
    "lst_values, lst_targets = generate_lists(int(1e4))"
   ]
  },
  {
   "cell_type": "markdown",
   "metadata": {},
   "source": [
    "# find_closest1: Dummy solution "
   ]
  },
  {
   "cell_type": "code",
   "execution_count": 5,
   "metadata": {},
   "outputs": [
    {
     "name": "stdout",
     "output_type": "stream",
     "text": [
      "Appending to find_closest_sum.py\n"
     ]
    }
   ],
   "source": [
    "%%writefile -a find_closest_sum.py\n",
    "\n",
    "def find_closest_sum1(vlst, tlst):\n",
    "    \n",
    "    # sort\n",
    "    vlist = sorted(vlst)\n",
    "    \n",
    "    targets = []\n",
    "    for target in tlst:\n",
    "        vmin = float('Inf')\n",
    "        closest = None\n",
    "        for i in range(len(vlist)):\n",
    "            value = abs(vlist[i] - target)\n",
    "            if value <= vmin:\n",
    "                vmin = value\n",
    "                closest = i\n",
    "\n",
    "        targets.extend(vlist[:closest + 1])\n",
    "        \n",
    "    return sum(targets)\n"
   ]
  },
  {
   "cell_type": "markdown",
   "metadata": {},
   "source": [
    "# Add test"
   ]
  },
  {
   "cell_type": "code",
   "execution_count": 6,
   "metadata": {},
   "outputs": [
    {
     "name": "stdout",
     "output_type": "stream",
     "text": [
      "Appending to test_find_closest_sum.py\n"
     ]
    }
   ],
   "source": [
    "%%writefile -a test_find_closest_sum.py\n",
    "\n",
    "from find_closest_sum import find_closest_sum1\n",
    "\n",
    "def test_find_closest_sum1():\n",
    "    utest_find_closest_sum(find_closest_sum1)\n"
   ]
  },
  {
   "cell_type": "markdown",
   "metadata": {},
   "source": [
    "# Check performance"
   ]
  },
  {
   "cell_type": "code",
   "execution_count": 7,
   "metadata": {},
   "outputs": [
    {
     "name": "stdout",
     "output_type": "stream",
     "text": [
      "Appending to test_find_closest_sum.py\n"
     ]
    }
   ],
   "source": [
    "%%writefile -a test_find_closest_sum.py\n",
    "\n",
    "from find_closest_sum import generate_lists\n",
    "\n",
    "lst_values, lst_targets = generate_lists(int(1e4))\n",
    "\n",
    "from find_closest_sum import find_closest_sum1\n",
    "\n",
    "def test_performance1():\n",
    "    find_closest_sum1(lst_values, lst_targets)\n",
    "    "
   ]
  },
  {
   "cell_type": "code",
   "execution_count": 8,
   "metadata": {},
   "outputs": [
    {
     "name": "stdout",
     "output_type": "stream",
     "text": [
      "\u001b[1m============================= test session starts ==============================\u001b[0m\n",
      "platform linux -- Python 3.6.8, pytest-5.3.1, py-1.8.0, pluggy-0.13.1 -- /home/dsysoev/.virtualenvs/lab/bin/python3\n",
      "cachedir: .pytest_cache\n",
      "rootdir: /media/data/devel/fun-with-python/cpu_profiling\n",
      "collected 2 items                                                              \u001b[0m\n",
      "\n",
      "test_find_closest_sum.py::test_find_closest_sum1 \u001b[32mPASSED\u001b[0m\u001b[32m                  [ 50%]\u001b[0m\n",
      "test_find_closest_sum.py::test_performance1 \u001b[32mPASSED\u001b[0m\u001b[32m                       [100%]\u001b[0m\n",
      "\n",
      "============================ slowest test durations ============================\n",
      "13.28s call     test_find_closest_sum.py::test_performance1\n",
      "0.00s call     test_find_closest_sum.py::test_find_closest_sum1\n",
      "0.00s setup    test_find_closest_sum.py::test_find_closest_sum1\n",
      "0.00s teardown test_find_closest_sum.py::test_performance1\n",
      "0.00s teardown test_find_closest_sum.py::test_find_closest_sum1\n",
      "0.00s setup    test_find_closest_sum.py::test_performance1\n",
      "\u001b[32m============================== \u001b[32m\u001b[1m2 passed\u001b[0m\u001b[32m in 13.33s\u001b[0m\u001b[32m ==============================\u001b[0m\n"
     ]
    }
   ],
   "source": [
    "!pytest -vv --durations=0 test_find_closest_sum.py"
   ]
  },
  {
   "cell_type": "markdown",
   "metadata": {},
   "source": [
    "# Conclusion: find_closest_sum1\n",
    "\n",
    "Worst performance.\n"
   ]
  },
  {
   "cell_type": "markdown",
   "metadata": {},
   "source": [
    "# find_closest_sum2: Speed up find element with O(n) -> O(log n)"
   ]
  },
  {
   "cell_type": "code",
   "execution_count": 9,
   "metadata": {},
   "outputs": [
    {
     "name": "stdout",
     "output_type": "stream",
     "text": [
      "Appending to find_closest_sum.py\n"
     ]
    }
   ],
   "source": [
    "%%writefile -a find_closest_sum.py\n",
    "\n",
    "import bisect\n",
    "\n",
    "\n",
    "def find_closest_sum2(vlst, tlst):\n",
    "    \n",
    "    # list should be sorted\n",
    "    vlist = sorted(vlst)\n",
    "    \n",
    "    targets = []\n",
    "    for target in tlst:\n",
    "        # bisect.bisect_left will return the first value in the list\n",
    "        # that is greater than or equal to the target\n",
    "        i = bisect.bisect_left(vlist, target)\n",
    "        \n",
    "        if i == len(vlist):\n",
    "            indx = i - 1\n",
    "        elif vlist[i] == target:\n",
    "            indx = i\n",
    "        elif i > 0:\n",
    "            j = i - 1\n",
    "            # since we know value is larger than target \n",
    "            # (and vice versa for the value at j),\n",
    "            # we don't need to use absolute values here\n",
    "            if vlist[i] - target > target - vlist[j]:\n",
    "                indx = j\n",
    "        else:\n",
    "            indx = i\n",
    "        \n",
    "        targets.extend(vlist[:indx + 1])\n",
    "            \n",
    "    return sum(targets)\n"
   ]
  },
  {
   "cell_type": "code",
   "execution_count": 10,
   "metadata": {},
   "outputs": [
    {
     "name": "stdout",
     "output_type": "stream",
     "text": [
      "Appending to test_find_closest_sum.py\n"
     ]
    }
   ],
   "source": [
    "%%writefile -a test_find_closest_sum.py\n",
    "\n",
    "from find_closest_sum import find_closest_sum2\n",
    "\n",
    "def test_find_closest_sum2():\n",
    "    utest_find_closest_sum(find_closest_sum2)\n",
    "    \n",
    "def test_performance2():\n",
    "    find_closest_sum2(lst_values, lst_targets)\n"
   ]
  },
  {
   "cell_type": "code",
   "execution_count": 11,
   "metadata": {},
   "outputs": [
    {
     "name": "stdout",
     "output_type": "stream",
     "text": [
      "\u001b[1m============================= test session starts ==============================\u001b[0m\n",
      "platform linux -- Python 3.6.8, pytest-5.3.1, py-1.8.0, pluggy-0.13.1 -- /home/dsysoev/.virtualenvs/lab/bin/python3\n",
      "cachedir: .pytest_cache\n",
      "rootdir: /media/data/devel/fun-with-python/cpu_profiling\n",
      "collected 4 items                                                              \u001b[0m\n",
      "\n",
      "test_find_closest_sum.py::test_find_closest_sum1 \u001b[32mPASSED\u001b[0m\u001b[32m                  [ 25%]\u001b[0m\n",
      "test_find_closest_sum.py::test_performance1 \u001b[32mPASSED\u001b[0m\u001b[32m                       [ 50%]\u001b[0m\n",
      "test_find_closest_sum.py::test_find_closest_sum2 \u001b[32mPASSED\u001b[0m\u001b[32m                  [ 75%]\u001b[0m\n",
      "test_find_closest_sum.py::test_performance2 \u001b[32mPASSED\u001b[0m\u001b[32m                       [100%]\u001b[0m\n",
      "\n",
      "============================ slowest test durations ============================\n",
      "12.71s call     test_find_closest_sum.py::test_performance1\n",
      "0.42s call     test_find_closest_sum.py::test_performance2\n",
      "0.00s call     test_find_closest_sum.py::test_find_closest_sum1\n",
      "0.00s setup    test_find_closest_sum.py::test_find_closest_sum1\n",
      "0.00s call     test_find_closest_sum.py::test_find_closest_sum2\n",
      "0.00s setup    test_find_closest_sum.py::test_find_closest_sum2\n",
      "0.00s teardown test_find_closest_sum.py::test_performance1\n",
      "0.00s teardown test_find_closest_sum.py::test_performance2\n",
      "0.00s setup    test_find_closest_sum.py::test_performance2\n",
      "0.00s teardown test_find_closest_sum.py::test_find_closest_sum2\n",
      "0.00s teardown test_find_closest_sum.py::test_find_closest_sum1\n",
      "0.00s setup    test_find_closest_sum.py::test_performance1\n",
      "\u001b[32m============================== \u001b[32m\u001b[1m4 passed\u001b[0m\u001b[32m in 13.18s\u001b[0m\u001b[32m ==============================\u001b[0m\n"
     ]
    }
   ],
   "source": [
    "!pytest -vv --durations=0 test_find_closest_sum.py"
   ]
  },
  {
   "cell_type": "markdown",
   "metadata": {},
   "source": [
    "# Run line profiler"
   ]
  },
  {
   "cell_type": "code",
   "execution_count": 12,
   "metadata": {},
   "outputs": [],
   "source": [
    "%load_ext line_profiler"
   ]
  },
  {
   "cell_type": "code",
   "execution_count": 13,
   "metadata": {},
   "outputs": [
    {
     "data": {
      "text/plain": [
       "Timer unit: 1e-06 s\n",
       "\n",
       "Total time: 0.407341 s\n",
       "File: /media/data/devel/fun-with-python/cpu_profiling/find_closest_sum.py\n",
       "Function: find_closest_sum2 at line 29\n",
       "\n",
       "Line #      Hits         Time  Per Hit   % Time  Line Contents\n",
       "==============================================================\n",
       "    29                                           def find_closest_sum2(vlst, tlst):\n",
       "    30                                               \n",
       "    31                                               # list should be sorted\n",
       "    32         1       2350.0   2350.0      0.6      vlist = sorted(vlst)\n",
       "    33                                               \n",
       "    34         1          1.0      1.0      0.0      targets = []\n",
       "    35     10001       6010.0      0.6      1.5      for target in tlst:\n",
       "    36                                                   # bisect.bisect_left will return the first value in the list\n",
       "    37                                                   # that is greater than or equal to the target\n",
       "    38     10000      12352.0      1.2      3.0          i = bisect.bisect_left(vlist, target)\n",
       "    39                                                   \n",
       "    40     10000       6045.0      0.6      1.5          if i == len(vlist):\n",
       "    41                                                       indx = i - 1\n",
       "    42     10000       5163.0      0.5      1.3          elif vlist[i] == target:\n",
       "    43      3190       1421.0      0.4      0.3              indx = i\n",
       "    44      6810       3161.0      0.5      0.8          elif i > 0:\n",
       "    45      1880       1025.0      0.5      0.3              j = i - 1\n",
       "    46                                                       # since we know value is larger than target \n",
       "    47                                                       # (and vice versa for the value at j),\n",
       "    48                                                       # we don't need to use absolute values here\n",
       "    49      1880       1211.0      0.6      0.3              if vlist[i] - target > target - vlist[j]:\n",
       "    50       516        213.0      0.4      0.1                  indx = j\n",
       "    51                                                   else:\n",
       "    52      4930       2155.0      0.4      0.5              indx = i\n",
       "    53                                                   \n",
       "    54     10000     226393.0     22.6     55.6          targets.extend(vlist[:indx + 1])\n",
       "    55                                                       \n",
       "    56         1     139841.0 139841.0     34.3      return sum(targets)"
      ]
     },
     "metadata": {},
     "output_type": "display_data"
    }
   ],
   "source": [
    "from test_find_closest_sum import find_closest_sum2\n",
    "\n",
    "%lprun -f find_closest_sum2 find_closest_sum2(lst_values, lst_targets)"
   ]
  },
  {
   "cell_type": "markdown",
   "metadata": {},
   "source": [
    "# Run memory profiler"
   ]
  },
  {
   "cell_type": "code",
   "execution_count": 14,
   "metadata": {},
   "outputs": [],
   "source": [
    "%load_ext memory_profiler"
   ]
  },
  {
   "cell_type": "code",
   "execution_count": 15,
   "metadata": {},
   "outputs": [
    {
     "name": "stdout",
     "output_type": "stream",
     "text": [
      "\n"
     ]
    },
    {
     "data": {
      "text/plain": [
       "Filename: /media/data/devel/fun-with-python/cpu_profiling/find_closest_sum.py\n",
       "\n",
       "Line #    Mem usage    Increment   Line Contents\n",
       "================================================\n",
       "    29     52.2 MiB     52.2 MiB   def find_closest_sum2(vlst, tlst):\n",
       "    30                                 \n",
       "    31                                 # list should be sorted\n",
       "    32     52.2 MiB      0.0 MiB       vlist = sorted(vlst)\n",
       "    33                                 \n",
       "    34     52.2 MiB      0.0 MiB       targets = []\n",
       "    35    215.1 MiB      0.0 MiB       for target in tlst:\n",
       "    36                                     # bisect.bisect_left will return the first value in the list\n",
       "    37                                     # that is greater than or equal to the target\n",
       "    38    214.9 MiB      0.0 MiB           i = bisect.bisect_left(vlist, target)\n",
       "    39                                     \n",
       "    40    214.9 MiB      0.0 MiB           if i == len(vlist):\n",
       "    41                                         indx = i - 1\n",
       "    42    214.9 MiB      0.0 MiB           elif vlist[i] == target:\n",
       "    43    214.9 MiB      0.0 MiB               indx = i\n",
       "    44    214.9 MiB      0.0 MiB           elif i > 0:\n",
       "    45    214.9 MiB      0.0 MiB               j = i - 1\n",
       "    46                                         # since we know value is larger than target \n",
       "    47                                         # (and vice versa for the value at j),\n",
       "    48                                         # we don't need to use absolute values here\n",
       "    49    214.9 MiB      0.0 MiB               if vlist[i] - target > target - vlist[j]:\n",
       "    50    214.9 MiB      0.0 MiB                   indx = j\n",
       "    51                                     else:\n",
       "    52    214.9 MiB      0.0 MiB               indx = i\n",
       "    53                                     \n",
       "    54    215.1 MiB      0.5 MiB           targets.extend(vlist[:indx + 1])\n",
       "    55                                         \n",
       "    56    215.1 MiB      0.0 MiB       return sum(targets)"
      ]
     },
     "metadata": {},
     "output_type": "display_data"
    }
   ],
   "source": [
    "from test_find_closest_sum import find_closest_sum2\n",
    "\n",
    "%mprun -f find_closest_sum2 find_closest_sum2(lst_values, lst_targets)"
   ]
  },
  {
   "cell_type": "markdown",
   "metadata": {},
   "source": [
    "# Conclusion: find_closest_sum2\n",
    "\n",
    "Good performance, but huge memory usage.\n"
   ]
  },
  {
   "cell_type": "markdown",
   "metadata": {},
   "source": [
    "# find_closest_sum3: use hash for store computed values"
   ]
  },
  {
   "cell_type": "code",
   "execution_count": 16,
   "metadata": {},
   "outputs": [
    {
     "name": "stdout",
     "output_type": "stream",
     "text": [
      "Appending to find_closest_sum.py\n"
     ]
    }
   ],
   "source": [
    "%%writefile -a find_closest_sum.py\n",
    "\n",
    "import bisect\n",
    "\n",
    "\n",
    "def find_closest_sum3(vlst, tlst):\n",
    "    \n",
    "    # list should be sorted\n",
    "    vlist = sorted(vlst)\n",
    "    \n",
    "    # create hash for store target results\n",
    "    hash_map = {}\n",
    "    \n",
    "    vsum = 0\n",
    "    targets = []\n",
    "    for target in tlst:\n",
    "        # bisect.bisect_left will return the first value in the list\n",
    "        # that is greater than or equal to the target\n",
    "        i = bisect.bisect_left(vlist, target)\n",
    "        \n",
    "        if i == len(vlist):\n",
    "            indx = i - 1\n",
    "        elif vlist[i] == target:\n",
    "            indx = i\n",
    "        elif i > 0:\n",
    "            j = i - 1\n",
    "            # since we know value is larger than target \n",
    "            # (and vice versa for the value at j),\n",
    "            # we don't need to use absolute values here\n",
    "            if vlist[i] - target > target - vlist[j]:\n",
    "                indx = j\n",
    "        else:\n",
    "            indx = i\n",
    "        \n",
    "        if target not in hash_map:\n",
    "            hash_map[target] = sum(vlist[:indx + 1])\n",
    "        \n",
    "        vsum += hash_map[target]\n",
    "            \n",
    "    return vsum\n"
   ]
  },
  {
   "cell_type": "code",
   "execution_count": 17,
   "metadata": {},
   "outputs": [
    {
     "name": "stdout",
     "output_type": "stream",
     "text": [
      "Appending to test_find_closest_sum.py\n"
     ]
    }
   ],
   "source": [
    "%%writefile -a test_find_closest_sum.py\n",
    "\n",
    "from find_closest_sum import find_closest_sum3\n",
    "\n",
    "def test_find_closest_sum3():\n",
    "    utest_find_closest_sum(find_closest_sum3)\n",
    "    \n",
    "def test_performance3():\n",
    "    find_closest_sum3(lst_values, lst_targets)"
   ]
  },
  {
   "cell_type": "code",
   "execution_count": 18,
   "metadata": {},
   "outputs": [
    {
     "name": "stdout",
     "output_type": "stream",
     "text": [
      "\u001b[1m============================= test session starts ==============================\u001b[0m\n",
      "platform linux -- Python 3.6.8, pytest-5.3.1, py-1.8.0, pluggy-0.13.1 -- /home/dsysoev/.virtualenvs/lab/bin/python3\n",
      "cachedir: .pytest_cache\n",
      "rootdir: /media/data/devel/fun-with-python/cpu_profiling\n",
      "collected 6 items                                                              \u001b[0m\n",
      "\n",
      "test_find_closest_sum.py::test_find_closest_sum1 \u001b[32mPASSED\u001b[0m\u001b[32m                  [ 16%]\u001b[0m\n",
      "test_find_closest_sum.py::test_performance1 \u001b[32mPASSED\u001b[0m\u001b[32m                       [ 33%]\u001b[0m\n",
      "test_find_closest_sum.py::test_find_closest_sum2 \u001b[32mPASSED\u001b[0m\u001b[32m                  [ 50%]\u001b[0m\n",
      "test_find_closest_sum.py::test_performance2 \u001b[32mPASSED\u001b[0m\u001b[32m                       [ 66%]\u001b[0m\n",
      "test_find_closest_sum.py::test_find_closest_sum3 \u001b[32mPASSED\u001b[0m\u001b[32m                  [ 83%]\u001b[0m\n",
      "test_find_closest_sum.py::test_performance3 \u001b[32mPASSED\u001b[0m\u001b[32m                       [100%]\u001b[0m\n",
      "\n",
      "============================ slowest test durations ============================\n",
      "12.66s call     test_find_closest_sum.py::test_performance1\n",
      "0.44s call     test_find_closest_sum.py::test_performance2\n",
      "0.21s call     test_find_closest_sum.py::test_performance3\n",
      "0.00s teardown test_find_closest_sum.py::test_performance2\n",
      "0.00s setup    test_find_closest_sum.py::test_find_closest_sum3\n",
      "0.00s setup    test_find_closest_sum.py::test_find_closest_sum1\n",
      "0.00s call     test_find_closest_sum.py::test_find_closest_sum1\n",
      "0.00s call     test_find_closest_sum.py::test_find_closest_sum3\n",
      "0.00s call     test_find_closest_sum.py::test_find_closest_sum2\n",
      "0.00s setup    test_find_closest_sum.py::test_performance3\n",
      "0.00s setup    test_find_closest_sum.py::test_find_closest_sum2\n",
      "0.00s teardown test_find_closest_sum.py::test_performance3\n",
      "0.00s teardown test_find_closest_sum.py::test_performance1\n",
      "0.00s setup    test_find_closest_sum.py::test_performance1\n",
      "0.00s teardown test_find_closest_sum.py::test_find_closest_sum1\n",
      "0.00s teardown test_find_closest_sum.py::test_find_closest_sum3\n",
      "0.00s setup    test_find_closest_sum.py::test_performance2\n",
      "0.00s teardown test_find_closest_sum.py::test_find_closest_sum2\n",
      "\u001b[32m============================== \u001b[32m\u001b[1m6 passed\u001b[0m\u001b[32m in 13.37s\u001b[0m\u001b[32m ==============================\u001b[0m\n"
     ]
    }
   ],
   "source": [
    "!pytest -vv --durations=0 test_find_closest_sum.py"
   ]
  },
  {
   "cell_type": "code",
   "execution_count": 19,
   "metadata": {},
   "outputs": [
    {
     "data": {
      "text/plain": [
       "Timer unit: 1e-06 s\n",
       "\n",
       "Total time: 0.233755 s\n",
       "File: /media/data/devel/fun-with-python/cpu_profiling/find_closest_sum.py\n",
       "Function: find_closest_sum3 at line 61\n",
       "\n",
       "Line #      Hits         Time  Per Hit   % Time  Line Contents\n",
       "==============================================================\n",
       "    61                                           def find_closest_sum3(vlst, tlst):\n",
       "    62                                               \n",
       "    63                                               # list should be sorted\n",
       "    64         1       2339.0   2339.0      1.0      vlist = sorted(vlst)\n",
       "    65                                               \n",
       "    66                                               # create hash for store target results\n",
       "    67         1          2.0      2.0      0.0      hash_map = {}\n",
       "    68                                               \n",
       "    69         1          1.0      1.0      0.0      vsum = 0\n",
       "    70         1          1.0      1.0      0.0      targets = []\n",
       "    71     10001       3736.0      0.4      1.6      for target in tlst:\n",
       "    72                                                   # bisect.bisect_left will return the first value in the list\n",
       "    73                                                   # that is greater than or equal to the target\n",
       "    74     10000       9883.0      1.0      4.2          i = bisect.bisect_left(vlist, target)\n",
       "    75                                                   \n",
       "    76     10000       4713.0      0.5      2.0          if i == len(vlist):\n",
       "    77                                                       indx = i - 1\n",
       "    78     10000       4446.0      0.4      1.9          elif vlist[i] == target:\n",
       "    79      3190       1217.0      0.4      0.5              indx = i\n",
       "    80      6810       2664.0      0.4      1.1          elif i > 0:\n",
       "    81      1880        820.0      0.4      0.4              j = i - 1\n",
       "    82                                                       # since we know value is larger than target \n",
       "    83                                                       # (and vice versa for the value at j),\n",
       "    84                                                       # we don't need to use absolute values here\n",
       "    85      1880       1065.0      0.6      0.5              if vlist[i] - target > target - vlist[j]:\n",
       "    86       516        206.0      0.4      0.1                  indx = j\n",
       "    87                                                   else:\n",
       "    88      4930       1788.0      0.4      0.8              indx = i\n",
       "    89                                                   \n",
       "    90     10000       4467.0      0.4      1.9          if target not in hash_map:\n",
       "    91      7844     190501.0     24.3     81.5              hash_map[target] = sum(vlist[:indx + 1])\n",
       "    92                                                   \n",
       "    93     10000       5906.0      0.6      2.5          vsum += hash_map[target]\n",
       "    94                                                       \n",
       "    95         1          0.0      0.0      0.0      return vsum"
      ]
     },
     "metadata": {},
     "output_type": "display_data"
    }
   ],
   "source": [
    "from test_find_closest_sum import find_closest_sum3\n",
    "\n",
    "%lprun -f find_closest_sum3 find_closest_sum3(lst_values, lst_targets)"
   ]
  },
  {
   "cell_type": "code",
   "execution_count": 20,
   "metadata": {},
   "outputs": [
    {
     "name": "stdout",
     "output_type": "stream",
     "text": [
      "\n"
     ]
    },
    {
     "data": {
      "text/plain": [
       "Filename: /media/data/devel/fun-with-python/cpu_profiling/find_closest_sum.py\n",
       "\n",
       "Line #    Mem usage    Increment   Line Contents\n",
       "================================================\n",
       "    61     53.1 MiB     53.1 MiB   def find_closest_sum3(vlst, tlst):\n",
       "    62                                 \n",
       "    63                                 # list should be sorted\n",
       "    64     53.1 MiB      0.0 MiB       vlist = sorted(vlst)\n",
       "    65                                 \n",
       "    66                                 # create hash for store target results\n",
       "    67     53.1 MiB      0.0 MiB       hash_map = {}\n",
       "    68                                 \n",
       "    69     53.1 MiB      0.0 MiB       vsum = 0\n",
       "    70     53.1 MiB      0.0 MiB       targets = []\n",
       "    71     53.1 MiB      0.0 MiB       for target in tlst:\n",
       "    72                                     # bisect.bisect_left will return the first value in the list\n",
       "    73                                     # that is greater than or equal to the target\n",
       "    74     53.1 MiB      0.0 MiB           i = bisect.bisect_left(vlist, target)\n",
       "    75                                     \n",
       "    76     53.1 MiB      0.0 MiB           if i == len(vlist):\n",
       "    77                                         indx = i - 1\n",
       "    78     53.1 MiB      0.0 MiB           elif vlist[i] == target:\n",
       "    79     53.1 MiB      0.0 MiB               indx = i\n",
       "    80     53.1 MiB      0.0 MiB           elif i > 0:\n",
       "    81     53.1 MiB      0.0 MiB               j = i - 1\n",
       "    82                                         # since we know value is larger than target \n",
       "    83                                         # (and vice versa for the value at j),\n",
       "    84                                         # we don't need to use absolute values here\n",
       "    85     53.1 MiB      0.0 MiB               if vlist[i] - target > target - vlist[j]:\n",
       "    86     53.1 MiB      0.0 MiB                   indx = j\n",
       "    87                                     else:\n",
       "    88     53.1 MiB      0.0 MiB               indx = i\n",
       "    89                                     \n",
       "    90     53.1 MiB      0.0 MiB           if target not in hash_map:\n",
       "    91     53.1 MiB      0.0 MiB               hash_map[target] = sum(vlist[:indx + 1])\n",
       "    92                                     \n",
       "    93     53.1 MiB      0.0 MiB           vsum += hash_map[target]\n",
       "    94                                         \n",
       "    95     53.1 MiB      0.0 MiB       return vsum"
      ]
     },
     "metadata": {},
     "output_type": "display_data"
    }
   ],
   "source": [
    "from find_closest_sum import find_closest_sum3\n",
    "\n",
    "%mprun -f find_closest_sum3 find_closest_sum3(lst_values, lst_targets)"
   ]
  },
  {
   "cell_type": "markdown",
   "metadata": {},
   "source": [
    "# Conclusion: find_closest_sum3\n",
    "\n",
    "Good performance and low memory usage.\n",
    "\n",
    "# Comparison table\n",
    "\n",
    "| Name              | Tests | Performance | Memory  |\n",
    "|-------------------|-------|-------------|---------|\n",
    "| find_closest_sum1 | Ok    | 12660  ms     | - |\n",
    "| find_closest_sum2 | Ok    | 440 ms (28x faster) | 215 Mb |\n",
    "| find_closest_sum3 | Ok    | 210 ms (2x faster) | 53 Mb (4x lower) |"
   ]
  },
  {
   "cell_type": "markdown",
   "metadata": {},
   "source": [
    "# Dis module"
   ]
  },
  {
   "cell_type": "code",
   "execution_count": 21,
   "metadata": {},
   "outputs": [
    {
     "name": "stdout",
     "output_type": "stream",
     "text": [
      " 64           0 LOAD_GLOBAL              0 (sorted)\n",
      "              2 LOAD_FAST                0 (vlst)\n",
      "              4 CALL_FUNCTION            1\n",
      "              6 STORE_FAST               2 (vlist)\n",
      "\n",
      " 67           8 BUILD_MAP                0\n",
      "             10 STORE_FAST               3 (hash_map)\n",
      "\n",
      " 69          12 LOAD_CONST               1 (0)\n",
      "             14 STORE_FAST               4 (vsum)\n",
      "\n",
      " 70          16 BUILD_LIST               0\n",
      "             18 STORE_FAST               5 (targets)\n",
      "\n",
      " 71          20 SETUP_LOOP             158 (to 180)\n",
      "             22 LOAD_FAST                1 (tlst)\n",
      "             24 GET_ITER\n",
      "        >>   26 FOR_ITER               150 (to 178)\n",
      "             28 STORE_FAST               6 (target)\n",
      "\n",
      " 74          30 LOAD_GLOBAL              1 (bisect)\n",
      "             32 LOAD_ATTR                2 (bisect_left)\n",
      "             34 LOAD_FAST                2 (vlist)\n",
      "             36 LOAD_FAST                6 (target)\n",
      "             38 CALL_FUNCTION            2\n",
      "             40 STORE_FAST               7 (i)\n",
      "\n",
      " 76          42 LOAD_FAST                7 (i)\n",
      "             44 LOAD_GLOBAL              3 (len)\n",
      "             46 LOAD_FAST                2 (vlist)\n",
      "             48 CALL_FUNCTION            1\n",
      "             50 COMPARE_OP               2 (==)\n",
      "             52 POP_JUMP_IF_FALSE       64\n",
      "\n",
      " 77          54 LOAD_FAST                7 (i)\n",
      "             56 LOAD_CONST               2 (1)\n",
      "             58 BINARY_SUBTRACT\n",
      "             60 STORE_FAST               8 (indx)\n",
      "             62 JUMP_FORWARD            68 (to 132)\n",
      "\n",
      " 78     >>   64 LOAD_FAST                2 (vlist)\n",
      "             66 LOAD_FAST                7 (i)\n",
      "             68 BINARY_SUBSCR\n",
      "             70 LOAD_FAST                6 (target)\n",
      "             72 COMPARE_OP               2 (==)\n",
      "             74 POP_JUMP_IF_FALSE       82\n",
      "\n",
      " 79          76 LOAD_FAST                7 (i)\n",
      "             78 STORE_FAST               8 (indx)\n",
      "             80 JUMP_FORWARD            50 (to 132)\n",
      "\n",
      " 80     >>   82 LOAD_FAST                7 (i)\n",
      "             84 LOAD_CONST               1 (0)\n",
      "             86 COMPARE_OP               4 (>)\n",
      "             88 POP_JUMP_IF_FALSE      128\n",
      "\n",
      " 81          90 LOAD_FAST                7 (i)\n",
      "             92 LOAD_CONST               2 (1)\n",
      "             94 BINARY_SUBTRACT\n",
      "             96 STORE_FAST               9 (j)\n",
      "\n",
      " 85          98 LOAD_FAST                2 (vlist)\n",
      "            100 LOAD_FAST                7 (i)\n",
      "            102 BINARY_SUBSCR\n",
      "            104 LOAD_FAST                6 (target)\n",
      "            106 BINARY_SUBTRACT\n",
      "            108 LOAD_FAST                6 (target)\n",
      "            110 LOAD_FAST                2 (vlist)\n",
      "            112 LOAD_FAST                9 (j)\n",
      "            114 BINARY_SUBSCR\n",
      "            116 BINARY_SUBTRACT\n",
      "            118 COMPARE_OP               4 (>)\n",
      "            120 POP_JUMP_IF_FALSE      132\n",
      "\n",
      " 86         122 LOAD_FAST                9 (j)\n",
      "            124 STORE_FAST               8 (indx)\n",
      "            126 JUMP_FORWARD             4 (to 132)\n",
      "\n",
      " 88     >>  128 LOAD_FAST                7 (i)\n",
      "            130 STORE_FAST               8 (indx)\n",
      "\n",
      " 90     >>  132 LOAD_FAST                6 (target)\n",
      "            134 LOAD_FAST                3 (hash_map)\n",
      "            136 COMPARE_OP               7 (not in)\n",
      "            138 POP_JUMP_IF_FALSE      164\n",
      "\n",
      " 91         140 LOAD_GLOBAL              4 (sum)\n",
      "            142 LOAD_FAST                2 (vlist)\n",
      "            144 LOAD_CONST               0 (None)\n",
      "            146 LOAD_FAST                8 (indx)\n",
      "            148 LOAD_CONST               2 (1)\n",
      "            150 BINARY_ADD\n",
      "            152 BUILD_SLICE              2\n",
      "            154 BINARY_SUBSCR\n",
      "            156 CALL_FUNCTION            1\n",
      "            158 LOAD_FAST                3 (hash_map)\n",
      "            160 LOAD_FAST                6 (target)\n",
      "            162 STORE_SUBSCR\n",
      "\n",
      " 93     >>  164 LOAD_FAST                4 (vsum)\n",
      "            166 LOAD_FAST                3 (hash_map)\n",
      "            168 LOAD_FAST                6 (target)\n",
      "            170 BINARY_SUBSCR\n",
      "            172 INPLACE_ADD\n",
      "            174 STORE_FAST               4 (vsum)\n",
      "            176 JUMP_ABSOLUTE           26\n",
      "        >>  178 POP_BLOCK\n",
      "\n",
      " 95     >>  180 LOAD_FAST                4 (vsum)\n",
      "            182 RETURN_VALUE\n"
     ]
    }
   ],
   "source": [
    "import dis\n",
    "\n",
    "from find_closest_sum import find_closest_sum3\n",
    "\n",
    "dis.dis(find_closest_sum3)"
   ]
  },
  {
   "cell_type": "code",
   "execution_count": null,
   "metadata": {},
   "outputs": [],
   "source": []
  }
 ],
 "metadata": {
  "kernelspec": {
   "display_name": "Python 3",
   "language": "python",
   "name": "python3"
  },
  "language_info": {
   "codemirror_mode": {
    "name": "ipython",
    "version": 3
   },
   "file_extension": ".py",
   "mimetype": "text/x-python",
   "name": "python",
   "nbconvert_exporter": "python",
   "pygments_lexer": "ipython3",
   "version": "3.6.8"
  }
 },
 "nbformat": 4,
 "nbformat_minor": 4
}
