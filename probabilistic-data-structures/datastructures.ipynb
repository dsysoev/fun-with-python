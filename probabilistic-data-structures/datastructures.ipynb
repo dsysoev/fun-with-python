{
 "cells": [
  {
   "cell_type": "code",
   "execution_count": 1,
   "metadata": {},
   "outputs": [
    {
     "name": "stdout",
     "output_type": "stream",
     "text": [
      "Overwriting requirements.txt\n"
     ]
    }
   ],
   "source": [
    "%%writefile requirements.txt\n",
    "mmh3\n",
    "bitarray\n",
    "blist\n",
    "countmemaybe"
   ]
  },
  {
   "cell_type": "code",
   "execution_count": 2,
   "metadata": {},
   "outputs": [],
   "source": [
    "# !pip install -r requirements.txt"
   ]
  },
  {
   "cell_type": "code",
   "execution_count": 3,
   "metadata": {},
   "outputs": [],
   "source": [
    "%load_ext autoreload\n",
    "%autoreload 2"
   ]
  },
  {
   "cell_type": "code",
   "execution_count": 4,
   "metadata": {},
   "outputs": [],
   "source": [
    "n_times = 3\n",
    "size_list = list(map(int, [1e2, 1e3, 1e4, 1e5, 1e6]))"
   ]
  },
  {
   "cell_type": "code",
   "execution_count": 5,
   "metadata": {},
   "outputs": [
    {
     "name": "stdout",
     "output_type": "stream",
     "text": [
      "Overwriting morris_counter.py\n"
     ]
    }
   ],
   "source": [
    "%%writefile morris_counter.py\n",
    "#!/usr/bin/env python\n",
    "# -*- coding: utf-8 -*-\n",
    "\n",
    "import math\n",
    "import array\n",
    "import random\n",
    "\n",
    "\n",
    "class MorrisCounter(object):\n",
    "\n",
    "    def __init__(self, array_type=u'B', nbr_counters=1):\n",
    "        self.exponents = array.array(array_type, [0] * nbr_counters)\n",
    "\n",
    "    def __len__(self):\n",
    "        return len(self.exponents)\n",
    "\n",
    "    def add_counter(self):\n",
    "        \"\"\"Add a new zeroed counter\"\"\"\n",
    "        self.exponents.append(0)\n",
    "\n",
    "    def get(self, counter=0):\n",
    "        \"\"\"Calculate approximate value represented by counter\"\"\"\n",
    "        return math.pow(2, self.exponents[counter])\n",
    "\n",
    "    def add(self, counter=0):\n",
    "        \"\"\"Probabilistically add 1 to counter\"\"\"\n",
    "        value = self.get(counter)\n",
    "        probability = 1.0 / value\n",
    "        if random.uniform(0, 1) < probability:\n",
    "            self.exponents[counter] += 1\n",
    "    \n",
    "    def __str__(self):\n",
    "        return str(self.get())\n",
    "    \n",
    "    def __repr__(self):\n",
    "        return self.get()\n",
    "        "
   ]
  },
  {
   "cell_type": "code",
   "execution_count": 6,
   "metadata": {},
   "outputs": [
    {
     "name": "stdout",
     "output_type": "stream",
     "text": [
      "65536.0\n"
     ]
    }
   ],
   "source": [
    "import morris_counter\n",
    "\n",
    "cnt = morris_counter.MorrisCounter()\n",
    "for n in range(50000):\n",
    "    cnt.add()\n",
    "print(cnt)"
   ]
  },
  {
   "cell_type": "code",
   "execution_count": 7,
   "metadata": {},
   "outputs": [
    {
     "name": "stdout",
     "output_type": "stream",
     "text": [
      "actual: 100 Counter: 64 (36.00% error)\n",
      "actual: 1000 Counter: 1024 (2.40% error)\n",
      "actual: 10000 Counter: 8192 (18.08% error)\n",
      "actual: 100000 Counter: 65536 (34.46% error)\n",
      "actual: 1000000 Counter: 524288 (47.57% error)\n"
     ]
    }
   ],
   "source": [
    "import morris_counter\n",
    "\n",
    "# compare actual size and counter size\n",
    "cnt = morris_counter.MorrisCounter()\n",
    "for size in size_list:\n",
    "    for __ in range(size): \n",
    "        cnt.add()\n",
    "\n",
    "    print(\"actual: {} Counter: {} ({:.2f}% error)\".format(\n",
    "        size, int(cnt.get()), abs(cnt.get() - size) / size * 100))"
   ]
  },
  {
   "cell_type": "code",
   "execution_count": 8,
   "metadata": {},
   "outputs": [
    {
     "name": "stdout",
     "output_type": "stream",
     "text": [
      "size: 100 time: 0.00\n",
      "size: 1000 time: 0.00\n",
      "size: 10000 time: 0.01\n",
      "size: 100000 time: 0.09\n",
      "size: 1000000 time: 0.85\n"
     ]
    }
   ],
   "source": [
    "import timeit\n",
    "\n",
    "# estimate time\n",
    "for size in size_list:\n",
    "    time = timeit.Timer(\"for __ in range({}): cnt.add()\".format(size),\n",
    "                        \"from morris_counter import MorrisCounter;\"\n",
    "                        \"cnt = MorrisCounter()\")\n",
    "    lookup_time = time.timeit(n_times) / n_times   \n",
    "    print(\"size: {} time: {:.2f}\".format(size, lookup_time))\n"
   ]
  },
  {
   "cell_type": "markdown",
   "metadata": {},
   "source": [
    "# KMinValues"
   ]
  },
  {
   "cell_type": "code",
   "execution_count": 9,
   "metadata": {},
   "outputs": [
    {
     "name": "stdout",
     "output_type": "stream",
     "text": [
      "Overwriting kmin_values.py\n"
     ]
    }
   ],
   "source": [
    "%%writefile kmin_values.py\n",
    "#!/usr/bin/env python\n",
    "# -*- coding: utf-8 -*-\n",
    "\n",
    "import mmh3\n",
    "import blist\n",
    "\n",
    "\n",
    "class KMinValues(object):\n",
    "\n",
    "    def __init__(self, num_hashes):\n",
    "        self.num_hashes = num_hashes\n",
    "        self.data = blist.sortedset()\n",
    "\n",
    "    def add(self, item):\n",
    "        item_hash = mmh3.hash(item)\n",
    "        self.data.add(item_hash)\n",
    "        if len(self.data) > self.num_hashes:\n",
    "            self.data.pop()\n",
    "\n",
    "    def __len__(self):\n",
    "        if len(self.data) < self.num_hashes:\n",
    "            return len(self.data)\n",
    "        value = (self.num_hashes - 1) * (2 ** 32 - 1) / \\\n",
    "            float(self.data[-2] + 2 ** 31 - 1)\n",
    "        return int(value)\n"
   ]
  },
  {
   "cell_type": "code",
   "execution_count": 10,
   "metadata": {},
   "outputs": [
    {
     "data": {
      "text/plain": [
       "9920"
      ]
     },
     "execution_count": 10,
     "metadata": {},
     "output_type": "execute_result"
    }
   ],
   "source": [
    "import kmin_values\n",
    "\n",
    "# add 10000 elements\n",
    "kmv = kmin_values.KMinValues(50)\n",
    "for x in list(range(0, 10000)):\n",
    "    kmv.add(str(x))\n",
    "    \n",
    "len(kmv)"
   ]
  },
  {
   "cell_type": "code",
   "execution_count": 11,
   "metadata": {},
   "outputs": [
    {
     "data": {
      "text/plain": [
       "9920"
      ]
     },
     "execution_count": 11,
     "metadata": {},
     "output_type": "execute_result"
    }
   ],
   "source": [
    "import kmin_values\n",
    "\n",
    "# add 10000 dublicated elements\n",
    "kmv = kmin_values.KMinValues(50)\n",
    "for x in 2 * list(range(0, 10000)):\n",
    "    kmv.add(str(x))\n",
    "    \n",
    "len(kmv)"
   ]
  },
  {
   "cell_type": "code",
   "execution_count": 12,
   "metadata": {},
   "outputs": [
    {
     "name": "stdout",
     "output_type": "stream",
     "text": [
      "actual: 100 KMinValues: 100 (0.00% error)\n",
      "actual: 1000 KMinValues: 1000 (0.00% error)\n",
      "actual: 10000 KMinValues: 10078 (0.78% error)\n",
      "actual: 100000 KMinValues: 101311 (1.31% error)\n",
      "actual: 1000000 KMinValues: 1009457 (0.95% error)\n"
     ]
    }
   ],
   "source": [
    "import kmin_values\n",
    "\n",
    "# compare actual size and counter size\n",
    "kmv = kmin_values.KMinValues(1024)\n",
    "for size in size_list:\n",
    "    for i in range(size): \n",
    "        kmv.add(str(i))\n",
    "\n",
    "    print(\"actual: {} KMinValues: {} ({:.2f}% error)\".format(\n",
    "        size, len(kmv), abs(len(kmv) - size) / size * 100))"
   ]
  },
  {
   "cell_type": "code",
   "execution_count": 13,
   "metadata": {},
   "outputs": [
    {
     "name": "stdout",
     "output_type": "stream",
     "text": [
      "size: 100 time: 0.00\n",
      "size: 1000 time: 0.01\n",
      "size: 10000 time: 0.07\n",
      "size: 100000 time: 0.64\n",
      "size: 1000000 time: 6.47\n"
     ]
    }
   ],
   "source": [
    "import timeit\n",
    "\n",
    "for size in size_list:\n",
    "    time = timeit.Timer(\"for x in range({}): kmv.add(str(x))\".format(size),\n",
    "                        \"from kmin_values import KMinValues;\"\n",
    "                        \"kmv = KMinValues(3)\")\n",
    "    lookup_time = time.timeit(n_times) / n_times   \n",
    "    print(\"size: {} time: {:.2f}\".format(size, lookup_time))\n",
    "    "
   ]
  },
  {
   "cell_type": "markdown",
   "metadata": {},
   "source": [
    "# KMinValues from countmemaybe\n"
   ]
  },
  {
   "cell_type": "code",
   "execution_count": 14,
   "metadata": {},
   "outputs": [
    {
     "data": {
      "text/plain": [
       "9176.640274793317"
      ]
     },
     "execution_count": 14,
     "metadata": {},
     "output_type": "execute_result"
    }
   ],
   "source": [
    "import countmemaybe\n",
    "\n",
    "# add 10000 elements\n",
    "kmv = countmemaybe.KMinValues(k=50)\n",
    "for x in list(range(0, 10000)):\n",
    "    kmv.add(str(x))\n",
    "    \n",
    "kmv.cardinality()"
   ]
  },
  {
   "cell_type": "code",
   "execution_count": 15,
   "metadata": {},
   "outputs": [
    {
     "name": "stdout",
     "output_type": "stream",
     "text": [
      "actual: 100 KMinValues: 100 (0.00% error)\n",
      "actual: 1000 KMinValues: 1000 (0.00% error)\n",
      "actual: 10000 KMinValues: 10292 (2.93% error)\n",
      "actual: 100000 KMinValues: 97765 (2.23% error)\n",
      "actual: 1000000 KMinValues: 993007 (0.70% error)\n"
     ]
    }
   ],
   "source": [
    "import countmemaybe\n",
    "\n",
    "# compare actual size and counter size\n",
    "kmv = countmemaybe.KMinValues(k=1024)\n",
    "for size in size_list:\n",
    "    for i in range(size): \n",
    "        kmv.add(str(i))\n",
    "\n",
    "    print(\"actual: {} KMinValues: {} ({:.2f}% error)\".format(\n",
    "        size, int(kmv.cardinality()), abs(kmv.cardinality() - size) / size * 100))"
   ]
  },
  {
   "cell_type": "code",
   "execution_count": 16,
   "metadata": {},
   "outputs": [
    {
     "data": {
      "text/plain": [
       "9176.640274793317"
      ]
     },
     "execution_count": 16,
     "metadata": {},
     "output_type": "execute_result"
    }
   ],
   "source": [
    "import countmemaybe\n",
    "\n",
    "# add 10000 dublicated elements\n",
    "kmv = countmemaybe.KMinValues(k=50)\n",
    "for x in 2 * list(range(0, 10000)):\n",
    "    kmv.add(str(x))\n",
    "    \n",
    "kmv.cardinality()"
   ]
  },
  {
   "cell_type": "code",
   "execution_count": 17,
   "metadata": {},
   "outputs": [
    {
     "data": {
      "text/plain": [
       "1"
      ]
     },
     "execution_count": 17,
     "metadata": {},
     "output_type": "execute_result"
    }
   ],
   "source": [
    "import countmemaybe\n",
    "\n",
    "# add one element\n",
    "kmv = countmemaybe.KMinValues(k=50)\n",
    "for x in range(0, 10000):\n",
    "    kmv.add('1')\n",
    "    \n",
    "kmv.cardinality()"
   ]
  },
  {
   "cell_type": "code",
   "execution_count": 18,
   "metadata": {},
   "outputs": [
    {
     "name": "stdout",
     "output_type": "stream",
     "text": [
      "kmv1 9176.640274793317\n",
      "kmv2 8652.692389314136\n"
     ]
    }
   ],
   "source": [
    "import countmemaybe\n",
    "\n",
    "kmv1 = countmemaybe.KMinValues(k=50)\n",
    "for x in range(0, 10000):\n",
    "    kmv1.add(str(x))\n",
    "\n",
    "print('kmv1', kmv1.cardinality())\n",
    "\n",
    "kmv2 = countmemaybe.KMinValues(k=50)\n",
    "for x in range(5000, 15000):\n",
    "    kmv2.add(str(x))\n",
    "\n",
    "print('kmv2', kmv2.cardinality())"
   ]
  },
  {
   "cell_type": "code",
   "execution_count": 19,
   "metadata": {},
   "outputs": [
    {
     "name": "stdout",
     "output_type": "stream",
     "text": [
      "intersection : 6351 (true: 5000)\n",
      "union        : 13808 (true: 15000)\n"
     ]
    }
   ],
   "source": [
    "print(\"\"\"intersection : {} (true: {})\n",
    "union        : {} (true: {})\"\"\".format(int(kmv1.cardinality_intersection(kmv2)), 5000,\n",
    "                              int(kmv1.cardinality_union(kmv2)), 15000))"
   ]
  },
  {
   "cell_type": "code",
   "execution_count": 20,
   "metadata": {},
   "outputs": [
    {
     "name": "stdout",
     "output_type": "stream",
     "text": [
      "size: 100 time: 0.00\n",
      "size: 1000 time: 0.00\n",
      "size: 10000 time: 0.02\n",
      "size: 100000 time: 0.17\n",
      "size: 1000000 time: 1.68\n"
     ]
    }
   ],
   "source": [
    "import timeit\n",
    "\n",
    "for size in size_list:\n",
    "    time = timeit.Timer(\"for x in range({}): kmv.add(str(x))\".format(size),\n",
    "                        \"from countmemaybe.kminvalues import KMinValues;\"\n",
    "                        \"kmv = KMinValues(k=3)\")\n",
    "    lookup_time = time.timeit(n_times) / n_times   \n",
    "    print(\"size: {} time: {:.2f}\".format(size, lookup_time))\n"
   ]
  },
  {
   "cell_type": "markdown",
   "metadata": {},
   "source": [
    "# BloomFilter"
   ]
  },
  {
   "cell_type": "code",
   "execution_count": 21,
   "metadata": {},
   "outputs": [
    {
     "name": "stdout",
     "output_type": "stream",
     "text": [
      "Overwriting bloom_filter.py\n"
     ]
    }
   ],
   "source": [
    "%%writefile bloom_filter.py\n",
    "#!/usr/bin/env python\n",
    "# -*- coding: utf-8 -*-\n",
    "\n",
    "import bitarray\n",
    "import math\n",
    "import mmh3\n",
    "import random\n",
    "\n",
    "\n",
    "class BloomFilter(object):\n",
    "\n",
    "    def __init__(self, capacity, error=0.005):\n",
    "        \"\"\"\n",
    "        Initialize a bloom filter with given capacity and false positive rate\n",
    "        \"\"\"\n",
    "        self.capacity = capacity\n",
    "        self.error = error\n",
    "        self.num_bits = int(-capacity * math.log(error) / math.log(2) ** 2) + 1\n",
    "        self.num_hashes = int(self.num_bits * math.log(2) / capacity) + 1\n",
    "        self.data = bitarray.bitarray(self.num_bits)\n",
    "\n",
    "    def _indexes(self, key):\n",
    "        h1, h2 = mmh3.hash64(key)\n",
    "        for i in range(self.num_hashes):\n",
    "            yield (h1 + i * h2) % self.num_bits\n",
    "\n",
    "    def add(self, key):\n",
    "        for index in self._indexes(key):\n",
    "            self.data[index] = True\n",
    "\n",
    "    def __contains__(self, key):\n",
    "        return all(self.data[index] for index in self._indexes(key))\n",
    "\n",
    "    def _len(self):\n",
    "        num_bits_on = self.data.count(True)\n",
    "        if num_bits_on == self.num_bits:\n",
    "            raise Exception('bloom filter is full')\n",
    "        log = 1.0 - num_bits_on / self.num_bits\n",
    "        return -1.0 * self.num_bits * math.log(log) / self.num_hashes\n",
    "    \n",
    "    def __len__(self):\n",
    "        return int(self._len())\n",
    "    \n",
    "    def get_free_bits_ratio(self):\n",
    "        return self.data.count(True) / self.num_bits\n",
    "\n",
    "    @staticmethod\n",
    "    def union(bloom_a, bloom_b):\n",
    "        assert bloom_a.capacity == bloom_b.capacity, \"Capacities must be equal\"\n",
    "        assert bloom_a.error == bloom_b.error, \"Error rates must be equal\"\n",
    "\n",
    "        bloom_union = BloomFilter(bloom_a.capacity, bloom_a.error)\n",
    "        bloom_union.data = bloom_a.data | bloom_b.data\n",
    "        return bloom_union\n",
    "    "
   ]
  },
  {
   "cell_type": "code",
   "execution_count": 22,
   "metadata": {},
   "outputs": [
    {
     "name": "stdout",
     "output_type": "stream",
     "text": [
      "Overwriting tools.py\n"
     ]
    }
   ],
   "source": [
    "%%writefile tools.py\n",
    "#!/usr/bin/env python\n",
    "# -*- coding: utf-8 -*-\n",
    "\n",
    "import random\n",
    "\n",
    "\n",
    "def confusion_matrix(bloomfilter, size, low=0, prob=0.5, random_state=None):\n",
    "        \n",
    "    random.seed(random_state)\n",
    "    num_list = set(map(str, range(low, low + size)))\n",
    "    seen_list = {x for x in num_list if random.random() < prob}\n",
    "    \n",
    "    for x in seen_list:\n",
    "        bloomfilter.add(x)\n",
    "        \n",
    "    true = (x in seen_list for x in num_list)\n",
    "    pred = (x in bloomfilter for x in num_list)\n",
    "\n",
    "    results = {}\n",
    "    for t, p in [(True, True), (True, False), (False, True), (False, False)]:\n",
    "        results[(t, p)] = 0\n",
    "\n",
    "    for t, p in zip(true, pred):\n",
    "        results[(t, p)] += 1\n",
    "        \n",
    "    return results, bloomfilter\n",
    "\n",
    "def accuracy(results):\n",
    "    return (results[(True, True)] + results[False, False]) / (sum(results.values()))\n",
    "\n",
    "def precision(results):\n",
    "    return results[(True, True)] / (results[(True, True)] + results[False, True])\n",
    "\n",
    "def recall(results):\n",
    "    return results[(True, True)] / (results[(True, True)] + results[True, False])\n",
    "\n",
    "def pretty_print(results):\n",
    "    print('          True     False')\n",
    "    print('Positive  {:<8d} {:<8d}'.format(results[(True, True)], results[(False, True)]))\n",
    "    print('Negative  {:<8d} {:<8d}'.format(results[(True, False)], results[(False, False)]))\n",
    "    print('accuracy  : {:.4f}'.format(accuracy(results)))\n",
    "    print('precision : {:.4f}'.format(precision(results)))\n",
    "    print('recall    : {:.4f}'.format(recall(results)))\n"
   ]
  },
  {
   "cell_type": "code",
   "execution_count": 23,
   "metadata": {},
   "outputs": [
    {
     "name": "stdout",
     "output_type": "stream",
     "text": [
      "total elements : 1024 (error rate 2.4%)\n"
     ]
    }
   ],
   "source": [
    "import bloom_filter\n",
    "\n",
    "# set Bloom Filter with capacity 1024 elements and error rate 0.5%\n",
    "blf = bloom_filter.BloomFilter(capacity=1024, error=0.005)\n",
    "# add 1000 elements\n",
    "for x in range(0, 1000):\n",
    "    blf.add(str(x))\n",
    "\n",
    "# check 2000 elements\n",
    "sum_exists = sum((1 for x in range(0, 2000) if str(x) in blf))\n",
    "error_rate = abs(sum_exists - 1000) / 1000 * 100\n",
    "print(\"total elements : {} (error rate {}%)\".format(sum_exists, error_rate))\n"
   ]
  },
  {
   "cell_type": "code",
   "execution_count": 24,
   "metadata": {},
   "outputs": [
    {
     "name": "stdout",
     "output_type": "stream",
     "text": [
      "          True     False\n",
      "Positive  988      26      \n",
      "Negative  0        986     \n",
      "accuracy  : 0.9870\n",
      "precision : 0.9744\n",
      "recall    : 1.0000\n"
     ]
    }
   ],
   "source": [
    "import bloom_filter\n",
    "from tools import confusion_matrix, pretty_print\n",
    "\n",
    "blf = bloom_filter.BloomFilter(capacity=1024, error=0.005)\n",
    "\n",
    "# check quality of bloom filter using confusion matrix\n",
    "results, blf = confusion_matrix(blf, size=2000, random_state=47)\n",
    "pretty_print(results)"
   ]
  },
  {
   "cell_type": "code",
   "execution_count": 25,
   "metadata": {},
   "outputs": [
    {
     "name": "stdout",
     "output_type": "stream",
     "text": [
      "size      : 100\n",
      "free bits : 0.2826\n",
      "          True     False\n",
      "Positive  49       0       \n",
      "Negative  0        51      \n",
      "accuracy  : 1.0000\n",
      "precision : 1.0000\n",
      "recall    : 1.0000\n",
      "\n",
      "size      : 1000\n",
      "free bits : 0.1873\n",
      "          True     False\n",
      "Positive  479      0       \n",
      "Negative  0        521     \n",
      "accuracy  : 1.0000\n",
      "precision : 1.0000\n",
      "recall    : 1.0000\n",
      "\n",
      "size      : 10000\n",
      "free bits : 0.7315\n",
      "          True     False\n",
      "Positive  4920     370     \n",
      "Negative  0        4710    \n",
      "accuracy  : 0.9630\n",
      "precision : 0.9301\n",
      "recall    : 1.0000\n",
      "\n",
      "size      : 20000\n",
      "free bits : 0.8789\n",
      "          True     False\n",
      "Positive  9954     3534    \n",
      "Negative  0        6512    \n",
      "accuracy  : 0.8233\n",
      "precision : 0.7380\n",
      "recall    : 1.0000\n",
      "\n",
      "size      : 40000\n",
      "free bits : 0.9891\n",
      "          True     False\n",
      "Positive  19784    18732   \n",
      "Negative  0        1484    \n",
      "accuracy  : 0.5317\n",
      "precision : 0.5137\n",
      "recall    : 1.0000\n",
      "\n"
     ]
    }
   ],
   "source": [
    "import bloom_filter\n",
    "from tools import confusion_matrix, pretty_print\n",
    "\n",
    "capacity = 4000\n",
    "for size in [100, 1000, 10000, 20000, 40000]:\n",
    "    print('size      : {}'.format(size))\n",
    "    results, blf = confusion_matrix(\n",
    "        bloom_filter.BloomFilter(capacity), size=size, random_state=47)\n",
    "    print('free bits : {:.4f}'.format(blf.get_free_bits_ratio()))\n",
    "    pretty_print(results)\n",
    "    print()"
   ]
  },
  {
   "cell_type": "code",
   "execution_count": 26,
   "metadata": {},
   "outputs": [
    {
     "name": "stdout",
     "output_type": "stream",
     "text": [
      "size: 100 time: 0.00\n",
      "size: 1000 time: 0.01\n",
      "size: 10000 time: 0.05\n",
      "size: 100000 time: 0.52\n",
      "size: 1000000 time: 5.28\n"
     ]
    }
   ],
   "source": [
    "import timeit\n",
    "\n",
    "for size in size_list:\n",
    "    time = timeit.Timer(\"for x in range({}): blf.add(str(x))\".format(size),\n",
    "                        \"from bloom_filter import BloomFilter;\"\n",
    "                        \"blf = BloomFilter({})\".format(size))\n",
    "    lookup_time = time.timeit(n_times) / n_times   \n",
    "    print(\"size: {} time: {:.2f}\".format(size, lookup_time))\n"
   ]
  },
  {
   "cell_type": "markdown",
   "metadata": {},
   "source": [
    "# HyperLogLog"
   ]
  },
  {
   "cell_type": "code",
   "execution_count": 27,
   "metadata": {},
   "outputs": [
    {
     "data": {
      "text/plain": [
       "9504.26461952862"
      ]
     },
     "execution_count": 27,
     "metadata": {},
     "output_type": "execute_result"
    }
   ],
   "source": [
    "import countmemaybe\n",
    "\n",
    "# add 10000 elements\n",
    "hll = countmemaybe.HyperLogLog(b=4)\n",
    "for x in list(range(0, 10000)):\n",
    "    hll.add(str(x))\n",
    "    \n",
    "hll.cardinality()"
   ]
  },
  {
   "cell_type": "code",
   "execution_count": 28,
   "metadata": {},
   "outputs": [
    {
     "name": "stdout",
     "output_type": "stream",
     "text": [
      "hll1 9504.26461952862\n",
      "hll2 8013.531843860895\n"
     ]
    }
   ],
   "source": [
    "import countmemaybe\n",
    "\n",
    "hll1 = countmemaybe.HyperLogLog()\n",
    "for x in range(0, 10000):\n",
    "    hll1.add(str(x))\n",
    "\n",
    "print('hll1', hll1.cardinality())\n",
    "\n",
    "hll2 = countmemaybe.HyperLogLog()\n",
    "for x in range(5000, 15000):\n",
    "    hll2.add(str(x))\n",
    "\n",
    "print('hll2', hll2.cardinality())"
   ]
  },
  {
   "cell_type": "code",
   "execution_count": 29,
   "metadata": {},
   "outputs": [
    {
     "name": "stdout",
     "output_type": "stream",
     "text": [
      "intersection : 1770 (true: 5000)\n",
      "union        : 15747 (true: 15000)\n"
     ]
    }
   ],
   "source": [
    "print(\"\"\"intersection : {} (true: {})\n",
    "union        : {} (true: {})\"\"\".format(int(hll1.cardinality_intersection(hll2)), 5000,\n",
    "                              int(hll1.cardinality_union(hll2)), 15000))"
   ]
  },
  {
   "cell_type": "code",
   "execution_count": 30,
   "metadata": {},
   "outputs": [
    {
     "name": "stdout",
     "output_type": "stream",
     "text": [
      "size: 100 time: 0.00\n",
      "size: 1000 time: 0.00\n",
      "size: 10000 time: 0.02\n",
      "size: 100000 time: 0.17\n",
      "size: 1000000 time: 1.82\n"
     ]
    }
   ],
   "source": [
    "import timeit\n",
    "\n",
    "for size in size_list:\n",
    "    time = timeit.Timer(\"for x in range({}): blf.add(str(x))\".format(size),\n",
    "                        \"from countmemaybe import HyperLogLog;\"\n",
    "                        \"blf = HyperLogLog()\".format(size))\n",
    "    lookup_time = time.timeit(n_times) / n_times   \n",
    "    print(\"size: {} time: {:.2f}\".format(size, lookup_time))\n"
   ]
  },
  {
   "cell_type": "code",
   "execution_count": null,
   "metadata": {},
   "outputs": [],
   "source": []
  }
 ],
 "metadata": {
  "kernelspec": {
   "display_name": "Python 3",
   "language": "python",
   "name": "python3"
  },
  "language_info": {
   "codemirror_mode": {
    "name": "ipython",
    "version": 3
   },
   "file_extension": ".py",
   "mimetype": "text/x-python",
   "name": "python",
   "nbconvert_exporter": "python",
   "pygments_lexer": "ipython3",
   "version": "3.6.8"
  }
 },
 "nbformat": 4,
 "nbformat_minor": 4
}
