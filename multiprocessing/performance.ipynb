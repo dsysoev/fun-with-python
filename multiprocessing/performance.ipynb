{
 "cells": [
  {
   "cell_type": "code",
   "execution_count": 1,
   "metadata": {},
   "outputs": [],
   "source": [
    "%load_ext autoreload\n",
    "%autoreload 2"
   ]
  },
  {
   "cell_type": "markdown",
   "metadata": {},
   "source": [
    "# Estimating Pi Using the Monte Carlo Method"
   ]
  },
  {
   "cell_type": "code",
   "execution_count": 2,
   "metadata": {},
   "outputs": [
    {
     "name": "stdout",
     "output_type": "stream",
     "text": [
      "Overwriting pi.py\n"
     ]
    }
   ],
   "source": [
    "%%writefile pi.py\n",
    "\n",
    "\n",
    "from random import uniform\n",
    "\n",
    "def estimate_total_in_circle(n_samples):\n",
    "    total_in_circle = 0\n",
    "    for step in range(int(n_samples)):\n",
    "        x = uniform(0, 1)\n",
    "        y = uniform(0, 1)\n",
    "        is_in_unit_circle = x * x + y * y <= 1.0\n",
    "        total_in_circle += is_in_unit_circle\n",
    "        \n",
    "    return total_in_circle\n",
    "\n",
    "def calc_pi(list_total_in_circle, n_samples):\n",
    "    return sum(list_total_in_circle) * 4 / n_samples\n"
   ]
  },
  {
   "cell_type": "code",
   "execution_count": 3,
   "metadata": {},
   "outputs": [],
   "source": [
    "n_times = 3\n",
    "n_samples = 1e7"
   ]
  },
  {
   "cell_type": "code",
   "execution_count": 4,
   "metadata": {},
   "outputs": [
    {
     "data": {
      "text/plain": [
       "3.1424724"
      ]
     },
     "execution_count": 4,
     "metadata": {},
     "output_type": "execute_result"
    }
   ],
   "source": [
    "from pi import calc_pi, estimate_total_in_circle\n",
    "\n",
    "calc_pi((estimate_total_in_circle(n_samples), ), n_samples)"
   ]
  },
  {
   "cell_type": "code",
   "execution_count": 5,
   "metadata": {},
   "outputs": [
    {
     "data": {
      "text/plain": [
       "5.513518258000356"
      ]
     },
     "execution_count": 5,
     "metadata": {},
     "output_type": "execute_result"
    }
   ],
   "source": [
    "import timeit\n",
    "\n",
    "time = timeit.Timer(\"calc_pi((estimate_total_in_circle({}), ), {})\".format(n_samples, n_samples),\n",
    "                    \"from pi import calc_pi, estimate_total_in_circle\")\n",
    "time.timeit(n_times) / n_times"
   ]
  },
  {
   "cell_type": "markdown",
   "metadata": {},
   "source": [
    "# Use multiprocessing for run in parallel"
   ]
  },
  {
   "cell_type": "code",
   "execution_count": 6,
   "metadata": {},
   "outputs": [
    {
     "name": "stdout",
     "output_type": "stream",
     "text": [
      "Appending to pi.py\n"
     ]
    }
   ],
   "source": [
    "%%writefile -a pi.py\n",
    "\n",
    "\n",
    "from multiprocessing import Pool\n",
    "\n",
    "\n",
    "def parallel_calc_pi(n_jobs, n_samples):\n",
    "    # get residual\n",
    "    residual = n_samples % n_jobs\n",
    "    # get number of samples per worker\n",
    "    n_samples_per_worker = (n_samples - residual) / n_jobs\n",
    "    n_samples_per_process = (n_samples_per_worker, ) * n_jobs\n",
    "    # apply residual for first worker\n",
    "    n_samples_per_process = (n_samples_per_process[0] + residual, ) + n_samples_per_process[1:]\n",
    "    \n",
    "    # create pool of executors and calc it\n",
    "    with Pool(processes=n_jobs) as p:\n",
    "        list_total_in_circle = p.map(estimate_total_in_circle, n_samples_per_process)\n",
    "        \n",
    "    value = calc_pi(list_total_in_circle, n_samples)\n",
    "    return value\n"
   ]
  },
  {
   "cell_type": "code",
   "execution_count": 7,
   "metadata": {},
   "outputs": [
    {
     "data": {
      "text/plain": [
       "3.1422132"
      ]
     },
     "execution_count": 7,
     "metadata": {},
     "output_type": "execute_result"
    }
   ],
   "source": [
    "from pi import parallel_calc_pi\n",
    "\n",
    "parallel_calc_pi(n_jobs=1, n_samples=n_samples)"
   ]
  },
  {
   "cell_type": "markdown",
   "metadata": {},
   "source": [
    "# Practically the same performance as without multiprocessing"
   ]
  },
  {
   "cell_type": "code",
   "execution_count": 8,
   "metadata": {},
   "outputs": [
    {
     "data": {
      "text/plain": [
       "5.646778676666145"
      ]
     },
     "execution_count": 8,
     "metadata": {},
     "output_type": "execute_result"
    }
   ],
   "source": [
    "import timeit\n",
    "\n",
    "time = timeit.Timer(\"parallel_calc_pi(n_jobs={}, n_samples={})\".format(1, n_samples),\n",
    "                    \"from pi import parallel_calc_pi\")\n",
    "time.timeit(n_times) / n_times"
   ]
  },
  {
   "cell_type": "markdown",
   "metadata": {},
   "source": [
    "# What number of processes is optimal\n",
    "\n",
    "My computer have 4 phisical cores and 8 threads"
   ]
  },
  {
   "cell_type": "code",
   "execution_count": 9,
   "metadata": {},
   "outputs": [
    {
     "name": "stdout",
     "output_type": "stream",
     "text": [
      "cpu cores\t: 4\n"
     ]
    }
   ],
   "source": [
    "!grep 'cpu cores' /proc/cpuinfo | uniq"
   ]
  },
  {
   "cell_type": "code",
   "execution_count": 10,
   "metadata": {},
   "outputs": [
    {
     "name": "stdout",
     "output_type": "stream",
     "text": [
      "CPU threads: 8\n"
     ]
    }
   ],
   "source": [
    "!echo \"CPU threads: $(grep -c processor /proc/cpuinfo)\""
   ]
  },
  {
   "cell_type": "code",
   "execution_count": 11,
   "metadata": {},
   "outputs": [
    {
     "data": {
      "text/plain": [
       "8"
      ]
     },
     "execution_count": 11,
     "metadata": {},
     "output_type": "execute_result"
    }
   ],
   "source": [
    "from multiprocessing import cpu_count\n",
    "\n",
    "cpu_count()"
   ]
  },
  {
   "cell_type": "markdown",
   "metadata": {},
   "source": [
    "# Calculate performance depends of number process"
   ]
  },
  {
   "cell_type": "code",
   "execution_count": 12,
   "metadata": {},
   "outputs": [
    {
     "name": "stderr",
     "output_type": "stream",
     "text": [
      "100%|██████████| 8/8 [00:57<00:00,  7.25s/it]\n"
     ]
    }
   ],
   "source": [
    "import tqdm\n",
    "import timeit\n",
    "from multiprocessing import cpu_count\n",
    "\n",
    "results = {}\n",
    "for i in tqdm.tqdm(range(1, cpu_count() + 1)):\n",
    "    time = timeit.Timer(\"parallel_calc_pi(n_jobs={}, n_samples={})\".format(i, n_samples),\n",
    "                        \"from pi import parallel_calc_pi\")\n",
    "    results[i] = time.timeit(n_times) / n_times\n"
   ]
  },
  {
   "cell_type": "code",
   "execution_count": 13,
   "metadata": {},
   "outputs": [
    {
     "data": {
      "text/html": [
       "<div>\n",
       "<style scoped>\n",
       "    .dataframe tbody tr th:only-of-type {\n",
       "        vertical-align: middle;\n",
       "    }\n",
       "\n",
       "    .dataframe tbody tr th {\n",
       "        vertical-align: top;\n",
       "    }\n",
       "\n",
       "    .dataframe thead th {\n",
       "        text-align: right;\n",
       "    }\n",
       "</style>\n",
       "<table border=\"1\" class=\"dataframe\">\n",
       "  <thead>\n",
       "    <tr style=\"text-align: right;\">\n",
       "      <th></th>\n",
       "      <th>0</th>\n",
       "      <th>1</th>\n",
       "      <th>2</th>\n",
       "      <th>3</th>\n",
       "      <th>4</th>\n",
       "    </tr>\n",
       "  </thead>\n",
       "  <tbody>\n",
       "    <tr>\n",
       "      <th>number of process</th>\n",
       "      <td>1</td>\n",
       "      <td>2</td>\n",
       "      <td>3</td>\n",
       "      <td>4</td>\n",
       "      <td>5</td>\n",
       "    </tr>\n",
       "    <tr>\n",
       "      <th>time, s</th>\n",
       "      <td>5.6134</td>\n",
       "      <td>2.948</td>\n",
       "      <td>2.0172</td>\n",
       "      <td>1.5536</td>\n",
       "      <td>1.8912</td>\n",
       "    </tr>\n",
       "    <tr>\n",
       "      <th>versus one</th>\n",
       "      <td>1</td>\n",
       "      <td>1.9041</td>\n",
       "      <td>2.7828</td>\n",
       "      <td>3.6132</td>\n",
       "      <td>2.9682</td>\n",
       "    </tr>\n",
       "    <tr>\n",
       "      <th>parallel loss</th>\n",
       "      <td>0</td>\n",
       "      <td>0.0479</td>\n",
       "      <td>0.0724</td>\n",
       "      <td>0.0967</td>\n",
       "      <td>0.4064</td>\n",
       "    </tr>\n",
       "  </tbody>\n",
       "</table>\n",
       "</div>"
      ],
      "text/plain": [
       "                        0       1       2       3       4\n",
       "number of process       1       2       3       4       5\n",
       "time, s            5.6134   2.948  2.0172  1.5536  1.8912\n",
       "versus one              1  1.9041  2.7828  3.6132  2.9682\n",
       "parallel loss           0  0.0479  0.0724  0.0967  0.4064"
      ]
     },
     "execution_count": 13,
     "metadata": {},
     "output_type": "execute_result"
    }
   ],
   "source": [
    "import pandas as pd\n",
    "\n",
    "df = pd.Series(results).to_frame()\n",
    "df.reset_index(inplace=True)\n",
    "df.columns = ['number of process', 'time, s']\n",
    "df['versus one'] = df.loc[0]['time, s'] / df['time, s']\n",
    "df['parallel loss'] = 1 - df['versus one'] / df['number of process']\n",
    "df['number of process'] = df['number of process'].astype(str)\n",
    "df = df.round(4)\n",
    "df.head().T"
   ]
  },
  {
   "cell_type": "code",
   "execution_count": 14,
   "metadata": {},
   "outputs": [
    {
     "data": {
      "application/vnd.vegalite.v3+json": {
       "$schema": "https://vega.github.io/schema/vega-lite/v3.4.0.json",
       "config": {
        "mark": {
         "tooltip": null
        },
        "view": {
         "height": 300,
         "width": 400
        }
       },
       "data": {
        "name": "data-8fd6b3b3b20af9849ec795a9c45320ff"
       },
       "datasets": {
        "data-8fd6b3b3b20af9849ec795a9c45320ff": [
         {
          "number of process": "1",
          "parallel loss": 0,
          "time, s": 5.6134,
          "versus one": 1
         },
         {
          "number of process": "2",
          "parallel loss": 0.0479,
          "time, s": 2.948,
          "versus one": 1.9041
         },
         {
          "number of process": "3",
          "parallel loss": 0.0724,
          "time, s": 2.0172,
          "versus one": 2.7828
         },
         {
          "number of process": "4",
          "parallel loss": 0.0967,
          "time, s": 1.5536,
          "versus one": 3.6132
         },
         {
          "number of process": "5",
          "parallel loss": 0.4064,
          "time, s": 1.8912,
          "versus one": 2.9682
         },
         {
          "number of process": "6",
          "parallel loss": 0.425,
          "time, s": 1.627,
          "versus one": 3.4501
         },
         {
          "number of process": "7",
          "parallel loss": 0.5542,
          "time, s": 1.7987,
          "versus one": 3.1208
         },
         {
          "number of process": "8",
          "parallel loss": 0.6248,
          "time, s": 1.8702,
          "versus one": 3.0014
         }
        ]
       },
       "encoding": {
        "x": {
         "field": "number of process",
         "type": "nominal"
        },
        "y": {
         "field": "time, s",
         "type": "quantitative"
        }
       },
       "height": 300,
       "mark": "area",
       "title": "Execution time depends of number of process",
       "width": 500
      },
      "image/png": "[encoded data removed]",
      "text/plain": [
       "<VegaLite 3 object>\n",
       "\n",
       "If you see this message, it means the renderer has not been properly enabled\n",
       "for the frontend that you are using. For more information, see\n",
       "https://altair-viz.github.io/user_guide/troubleshooting.html\n"
      ]
     },
     "execution_count": 14,
     "metadata": {},
     "output_type": "execute_result"
    }
   ],
   "source": [
    "import altair as alt\n",
    "\n",
    "alt.Chart(df).mark_area().encode(\n",
    "    x='number of process',\n",
    "    y='time, s'\n",
    ").properties(\n",
    "    title='Execution time depends of number of process',\n",
    "    width=500,\n",
    "    height=300\n",
    ")"
   ]
  },
  {
   "cell_type": "code",
   "execution_count": 15,
   "metadata": {},
   "outputs": [
    {
     "data": {
      "application/vnd.vegalite.v3+json": {
       "$schema": "https://vega.github.io/schema/vega-lite/v3.4.0.json",
       "config": {
        "mark": {
         "tooltip": null
        },
        "view": {
         "height": 300,
         "width": 400
        }
       },
       "data": {
        "name": "data-8fd6b3b3b20af9849ec795a9c45320ff"
       },
       "datasets": {
        "data-8fd6b3b3b20af9849ec795a9c45320ff": [
         {
          "number of process": "1",
          "parallel loss": 0,
          "time, s": 5.6134,
          "versus one": 1
         },
         {
          "number of process": "2",
          "parallel loss": 0.0479,
          "time, s": 2.948,
          "versus one": 1.9041
         },
         {
          "number of process": "3",
          "parallel loss": 0.0724,
          "time, s": 2.0172,
          "versus one": 2.7828
         },
         {
          "number of process": "4",
          "parallel loss": 0.0967,
          "time, s": 1.5536,
          "versus one": 3.6132
         },
         {
          "number of process": "5",
          "parallel loss": 0.4064,
          "time, s": 1.8912,
          "versus one": 2.9682
         },
         {
          "number of process": "6",
          "parallel loss": 0.425,
          "time, s": 1.627,
          "versus one": 3.4501
         },
         {
          "number of process": "7",
          "parallel loss": 0.5542,
          "time, s": 1.7987,
          "versus one": 3.1208
         },
         {
          "number of process": "8",
          "parallel loss": 0.6248,
          "time, s": 1.8702,
          "versus one": 3.0014
         }
        ]
       },
       "encoding": {
        "x": {
         "field": "number of process",
         "type": "nominal"
        },
        "y": {
         "field": "versus one",
         "type": "quantitative"
        }
       },
       "height": 300,
       "mark": "area",
       "title": "Times faster than one process",
       "width": 500
      },
      "image/png": "[encoded data removed]",
      "text/plain": [
       "<VegaLite 3 object>\n",
       "\n",
       "If you see this message, it means the renderer has not been properly enabled\n",
       "for the frontend that you are using. For more information, see\n",
       "https://altair-viz.github.io/user_guide/troubleshooting.html\n"
      ]
     },
     "execution_count": 15,
     "metadata": {},
     "output_type": "execute_result"
    }
   ],
   "source": [
    "import altair as alt\n",
    "\n",
    "alt.Chart(df).mark_area().encode(\n",
    "    x='number of process',\n",
    "    y='versus one'\n",
    ").properties(\n",
    "    title='Times faster than one process',\n",
    "    width=500,\n",
    "    height=300\n",
    ")"
   ]
  },
  {
   "cell_type": "code",
   "execution_count": 16,
   "metadata": {},
   "outputs": [
    {
     "data": {
      "application/vnd.vegalite.v3+json": {
       "$schema": "https://vega.github.io/schema/vega-lite/v3.4.0.json",
       "config": {
        "mark": {
         "tooltip": null
        },
        "view": {
         "height": 300,
         "width": 400
        }
       },
       "data": {
        "name": "data-8fd6b3b3b20af9849ec795a9c45320ff"
       },
       "datasets": {
        "data-8fd6b3b3b20af9849ec795a9c45320ff": [
         {
          "number of process": "1",
          "parallel loss": 0,
          "time, s": 5.6134,
          "versus one": 1
         },
         {
          "number of process": "2",
          "parallel loss": 0.0479,
          "time, s": 2.948,
          "versus one": 1.9041
         },
         {
          "number of process": "3",
          "parallel loss": 0.0724,
          "time, s": 2.0172,
          "versus one": 2.7828
         },
         {
          "number of process": "4",
          "parallel loss": 0.0967,
          "time, s": 1.5536,
          "versus one": 3.6132
         },
         {
          "number of process": "5",
          "parallel loss": 0.4064,
          "time, s": 1.8912,
          "versus one": 2.9682
         },
         {
          "number of process": "6",
          "parallel loss": 0.425,
          "time, s": 1.627,
          "versus one": 3.4501
         },
         {
          "number of process": "7",
          "parallel loss": 0.5542,
          "time, s": 1.7987,
          "versus one": 3.1208
         },
         {
          "number of process": "8",
          "parallel loss": 0.6248,
          "time, s": 1.8702,
          "versus one": 3.0014
         }
        ]
       },
       "encoding": {
        "x": {
         "field": "number of process",
         "type": "nominal"
        },
        "y": {
         "field": "parallel loss",
         "type": "quantitative"
        }
       },
       "height": 300,
       "mark": "area",
       "title": "Loss of Perfect Parallelization",
       "width": 500
      },
      "image/png": "[encoded data removed]",
      "text/plain": [
       "<VegaLite 3 object>\n",
       "\n",
       "If you see this message, it means the renderer has not been properly enabled\n",
       "for the frontend that you are using. For more information, see\n",
       "https://altair-viz.github.io/user_guide/troubleshooting.html\n"
      ]
     },
     "execution_count": 16,
     "metadata": {},
     "output_type": "execute_result"
    }
   ],
   "source": [
    "import altair as alt\n",
    "\n",
    "alt.Chart(df).mark_area().encode(\n",
    "    x='number of process',\n",
    "    y='parallel loss'\n",
    ").properties(\n",
    "    title='Loss of Perfect Parallelization',\n",
    "    width=500,\n",
    "    height=300\n",
    ")"
   ]
  },
  {
   "cell_type": "markdown",
   "metadata": {},
   "source": [
    "# Conclusion\n",
    "\n",
    "- optimal value of process equal to number phisical cores\n",
    "- performance grows linearly (~10% loss of ideal parallelization) up to the number of physical processors"
   ]
  },
  {
   "cell_type": "code",
   "execution_count": null,
   "metadata": {},
   "outputs": [],
   "source": []
  }
 ],
 "metadata": {
  "kernelspec": {
   "display_name": "Python 3",
   "language": "python",
   "name": "python3"
  },
  "language_info": {
   "codemirror_mode": {
    "name": "ipython",
    "version": 3
   },
   "file_extension": ".py",
   "mimetype": "text/x-python",
   "name": "python",
   "nbconvert_exporter": "python",
   "pygments_lexer": "ipython3",
   "version": "3.6.8"
  }
 },
 "nbformat": 4,
 "nbformat_minor": 4
}
