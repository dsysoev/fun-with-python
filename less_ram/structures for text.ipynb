{
 "cells": [
  {
   "cell_type": "markdown",
   "metadata": {},
   "source": [
    "# List of requirement packages\n",
    "\n",
    "```bash\n",
    "pip install gensim\n",
    "pip install bisect\n",
    "pip install dawg\n",
    "pip install marisa_trie\n",
    "pip install hat_trie\n",
    "pip install datrie\n",
    "```"
   ]
  },
  {
   "cell_type": "code",
   "execution_count": 1,
   "metadata": {},
   "outputs": [],
   "source": [
    "from gensim.corpora import WikiCorpus\n",
    "\n",
    "\n",
    "def create_corpus(filepath='data/sw/swwiki-latest-pages-articles.xml.bz2'):\n",
    "    wiki = WikiCorpus(filepath, lemmatize=False)\n",
    "\n",
    "    dset = (str(w) for x in wiki.get_texts() for w in x)\n",
    "    with open('data/text.txt', 'w') as output:\n",
    "        output.write(\"\\n\".join(dset) + \"\\n\")\n",
    "\n",
    "    dset = sorted((x for x in wiki.dictionary.itervalues()))\n",
    "    with open('data/dict.txt', 'w') as output:\n",
    "        output.write(\"\\n\".join(dset) + \"\\n\")\n"
   ]
  },
  {
   "cell_type": "markdown",
   "metadata": {},
   "source": [
    "# Create corpus"
   ]
  },
  {
   "cell_type": "code",
   "execution_count": 2,
   "metadata": {},
   "outputs": [],
   "source": [
    "!mkdir -p data/sw/\n",
    "!wget -P data/sw/ https://dumps.wikimedia.org/swwiki/latest/swwiki-latest-pages-articles.xml.bz2\n",
    "create_corpus()"
   ]
  },
  {
   "cell_type": "code",
   "execution_count": 3,
   "metadata": {},
   "outputs": [
    {
     "name": "stdout",
     "output_type": "stream",
     "text": [
      "a_agadez_hotel\n",
      "a_brown_sofa_\n",
      "a_id\n",
      "aa\n",
      "aa_large\n",
      "aaa\n",
      "aaadir\n",
      "aaah\n",
      "aab\n",
      "aabayo\n"
     ]
    }
   ],
   "source": [
    "!head data/dict.txt"
   ]
  },
  {
   "cell_type": "code",
   "execution_count": 4,
   "metadata": {},
   "outputs": [
    {
     "name": "stdout",
     "output_type": "stream",
     "text": [
      "wanaakiolojia\n",
      "wakichimba\n",
      "kwenye\n",
      "misingi\n",
      "ya\n",
      "maghofu\n",
      "ya\n",
      "monasteri\n",
      "huko\n",
      "sweden\n"
     ]
    }
   ],
   "source": [
    "!head data/text.txt"
   ]
  },
  {
   "cell_type": "code",
   "execution_count": 5,
   "metadata": {},
   "outputs": [
    {
     "name": "stdout",
     "output_type": "stream",
     "text": [
      "-rw-rw-r-- 1 dsysoev dsysoev 2,6M янв  5 11:37 data/dict.txt\n",
      "-rw-rw-r-- 1 dsysoev dsysoev  40M янв  5 11:37 data/text.txt\n"
     ]
    }
   ],
   "source": [
    "!ls -lh data/*.txt"
   ]
  },
  {
   "cell_type": "markdown",
   "metadata": {},
   "source": [
    "# Evaluate the speed of search and memory usage for various data structures"
   ]
  },
  {
   "cell_type": "code",
   "execution_count": 6,
   "metadata": {},
   "outputs": [],
   "source": [
    "%load_ext autoreload\n",
    "%autoreload 2\n",
    "\n",
    "%load_ext memory_profiler"
   ]
  },
  {
   "cell_type": "code",
   "execution_count": 7,
   "metadata": {},
   "outputs": [
    {
     "name": "stdout",
     "output_type": "stream",
     "text": [
      "Overwriting load_data.py\n"
     ]
    }
   ],
   "source": [
    "%%writefile load_data.py\n",
    "\n",
    "import string\n",
    "import bisect\n",
    "import dawg\n",
    "import marisa_trie\n",
    "import hat_trie\n",
    "import datrie\n",
    "\n",
    "\n",
    "def load_as_list(filepath):\n",
    "    \n",
    "    with open(filepath, 'r') as f:\n",
    "        data = [x.rstrip() for x in f.readlines()]\n",
    "    return data\n",
    "\n",
    "\n",
    "def load_as_set(filepath):\n",
    "    \n",
    "    with open(filepath, 'r') as f:\n",
    "        data = {x.rstrip() for x in f.readlines()}\n",
    "    return data\n",
    "\n",
    "\n",
    "def bisect_index(a, x):\n",
    "    i = bisect.bisect_left(a, x)\n",
    "    if i != len(a) and a[i] == x:\n",
    "        return i\n",
    "    return -1\n",
    "\n",
    "\n",
    "def load_as_dawg(filepath):\n",
    "    \n",
    "    with open(filepath, 'r') as f:\n",
    "        data = dawg.DAWG(x.rstrip() for x in f.readlines())\n",
    "    return data\n",
    "\n",
    "\n",
    "def load_as_marisatrie(filepath):\n",
    "    \n",
    "    with open(filepath, 'r') as f:\n",
    "        data = marisa_trie.Trie(x.rstrip() for x in f.readlines())\n",
    "    return data\n",
    "\n",
    "\n",
    "def load_as_hattrie(filepath):\n",
    "    \n",
    "    with open(filepath, 'r') as f:\n",
    "        data = hat_trie.Trie()\n",
    "        for x in f.readlines():\n",
    "            data[x.rstrip()] = 0\n",
    "    return data\n",
    "\n",
    "\n",
    "def load_as_datrie(filepath):\n",
    "\n",
    "    with open(filepath, 'r') as f:\n",
    "        lines = (x.rstrip() for x in f.readlines())\n",
    "    \n",
    "    data = datrie.Trie(string.printable)\n",
    "    for x in lines:\n",
    "        data[x] = 0\n",
    "    return data\n"
   ]
  },
  {
   "cell_type": "code",
   "execution_count": 8,
   "metadata": {},
   "outputs": [],
   "source": [
    "n_times = 3\n",
    "results = {}\n",
    "filepath_list = ['data/dict.txt', 'data/text.txt']"
   ]
  },
  {
   "cell_type": "markdown",
   "metadata": {},
   "source": [
    "# List"
   ]
  },
  {
   "cell_type": "code",
   "execution_count": 9,
   "metadata": {},
   "outputs": [
    {
     "data": {
      "text/plain": [
       "[True, False]"
      ]
     },
     "execution_count": 9,
     "metadata": {},
     "output_type": "execute_result"
    }
   ],
   "source": [
    "from load_data import load_as_list\n",
    "\n",
    "corpus = load_as_list('dict.txt')\n",
    "\n",
    "[x in corpus for x in ['hello', 'World']]"
   ]
  },
  {
   "cell_type": "code",
   "execution_count": 10,
   "metadata": {},
   "outputs": [
    {
     "name": "stdout",
     "output_type": "stream",
     "text": [
      "peak memory: 178.93 MiB, increment: 54.02 MiB\n",
      "peak memory: 981.54 MiB, increment: 833.61 MiB\n"
     ]
    }
   ],
   "source": [
    "from load_data import load_as_list\n",
    "\n",
    "import gc\n",
    "\n",
    "del _\n",
    "gc.collect()\n",
    "\n",
    "dtype = 'list'\n",
    "results[dtype] = []\n",
    "for filepath in filepath_list:\n",
    "    s = %memit -o _ = load_as_list(filepath)\n",
    "    mem_usage = s.mem_usage[0] - s.baseline\n",
    "    results[dtype].append(mem_usage)\n",
    "    "
   ]
  },
  {
   "cell_type": "code",
   "execution_count": 11,
   "metadata": {},
   "outputs": [
    {
     "name": "stdout",
     "output_type": "stream",
     "text": [
      "data/dict.txt 0.004184225671148549\n",
      "data/text.txt 0.07214392633371365\n"
     ]
    }
   ],
   "source": [
    "import timeit\n",
    "\n",
    "for filepath in filepath_list:\n",
    "    time = timeit.Timer(\"[x in corpus for x in ['hello', 'World']]\",\n",
    "                        \"from load_data import load_as_list;\"\n",
    "                        \"corpus = load_as_list('{}')\".format(filepath))\n",
    "    lookup_time = time.timeit(n_times) / n_times\n",
    "    results[dtype].append(lookup_time)\n",
    "    \n",
    "    print(filepath, lookup_time)"
   ]
  },
  {
   "cell_type": "markdown",
   "metadata": {},
   "source": [
    "# Set"
   ]
  },
  {
   "cell_type": "code",
   "execution_count": 12,
   "metadata": {},
   "outputs": [
    {
     "data": {
      "text/plain": [
       "[True, False]"
      ]
     },
     "execution_count": 12,
     "metadata": {},
     "output_type": "execute_result"
    }
   ],
   "source": [
    "from load_data import load_as_set\n",
    "\n",
    "corpus = load_as_set('dict.txt')\n",
    "\n",
    "[x in corpus for x in ['hello', 'World']]"
   ]
  },
  {
   "cell_type": "code",
   "execution_count": 13,
   "metadata": {},
   "outputs": [
    {
     "name": "stdout",
     "output_type": "stream",
     "text": [
      "peak memory: 204.22 MiB, increment: 68.45 MiB\n",
      "peak memory: 609.59 MiB, increment: 452.48 MiB\n"
     ]
    }
   ],
   "source": [
    "from load_data import load_as_set\n",
    "\n",
    "import gc\n",
    "\n",
    "del _\n",
    "gc.collect()\n",
    "\n",
    "dtype = 'set'\n",
    "results[dtype] = []\n",
    "for filepath in filepath_list:\n",
    "    s = %memit -o _ = load_as_set(filepath)\n",
    "    mem_usage = s.mem_usage[0] - s.baseline\n",
    "    results[dtype].append(mem_usage)\n",
    "    "
   ]
  },
  {
   "cell_type": "code",
   "execution_count": 14,
   "metadata": {},
   "outputs": [
    {
     "name": "stdout",
     "output_type": "stream",
     "text": [
      "data/dict.txt 2.980009109402696e-06\n",
      "data/text.txt 3.203332501774033e-06\n"
     ]
    }
   ],
   "source": [
    "import timeit\n",
    "\n",
    "for filepath in filepath_list:\n",
    "    time = timeit.Timer(\"[x in corpus for x in ['hello', 'World']]\",\n",
    "                        \"from load_data import load_as_set;\"\n",
    "                        \"corpus = load_as_set('{}')\".format(filepath))\n",
    "    lookup_time = time.timeit(n_times) / n_times\n",
    "    results[dtype].append(lookup_time)\n",
    "    \n",
    "    print(filepath, lookup_time)"
   ]
  },
  {
   "cell_type": "markdown",
   "metadata": {},
   "source": [
    "# Bisect"
   ]
  },
  {
   "cell_type": "code",
   "execution_count": 15,
   "metadata": {},
   "outputs": [
    {
     "data": {
      "text/plain": [
       "[True, False]"
      ]
     },
     "execution_count": 15,
     "metadata": {},
     "output_type": "execute_result"
    }
   ],
   "source": [
    "from load_data import load_as_list, bisect_index\n",
    "\n",
    "corpus = tuple(sorted(load_as_list('dict.txt')))\n",
    "\n",
    "[bisect_index(corpus, x) != -1 for x in ['hello', 'World']]"
   ]
  },
  {
   "cell_type": "code",
   "execution_count": 16,
   "metadata": {},
   "outputs": [
    {
     "name": "stdout",
     "output_type": "stream",
     "text": [
      "peak memory: 179.18 MiB, increment: 50.40 MiB\n",
      "peak memory: 987.69 MiB, increment: 836.54 MiB\n"
     ]
    }
   ],
   "source": [
    "from load_data import load_as_list\n",
    "\n",
    "import gc\n",
    "\n",
    "del _\n",
    "gc.collect()\n",
    "\n",
    "dtype = 'bisect'\n",
    "results[dtype] = []\n",
    "for filepath in filepath_list:\n",
    "    s = %memit -o _ = tuple(sorted(load_as_list(filepath)))\n",
    "    mem_usage = s.mem_usage[0] - s.baseline\n",
    "    results[dtype].append(mem_usage)\n",
    "    "
   ]
  },
  {
   "cell_type": "code",
   "execution_count": 17,
   "metadata": {},
   "outputs": [
    {
     "name": "stdout",
     "output_type": "stream",
     "text": [
      "data/dict.txt 1.2276994918162623e-05\n",
      "data/text.txt 1.38026662170887e-05\n"
     ]
    }
   ],
   "source": [
    "import timeit\n",
    "\n",
    "for filepath in filepath_list:\n",
    "    time = timeit.Timer(\"[bisect_index(corpus, x) != -1 for x in ['hello', 'World']]\",\n",
    "                        \"from load_data import load_as_list, bisect_index;\"\n",
    "                        \"corpus = tuple(sorted(load_as_list('{}')))\".format(filepath))\n",
    "    lookup_time = time.timeit(n_times) / n_times\n",
    "    results[dtype].append(lookup_time)\n",
    "    \n",
    "    print(filepath, lookup_time)"
   ]
  },
  {
   "cell_type": "markdown",
   "metadata": {},
   "source": [
    "# DAWG\n",
    "\n",
    "pip install dawg"
   ]
  },
  {
   "cell_type": "code",
   "execution_count": 18,
   "metadata": {},
   "outputs": [
    {
     "data": {
      "text/plain": [
       "[True, False]"
      ]
     },
     "execution_count": 18,
     "metadata": {},
     "output_type": "execute_result"
    }
   ],
   "source": [
    "from load_data import load_as_dawg\n",
    "\n",
    "corpus = load_as_dawg('dict.txt')\n",
    "\n",
    "[x in corpus for x in ['hello', 'World']]"
   ]
  },
  {
   "cell_type": "code",
   "execution_count": 19,
   "metadata": {},
   "outputs": [
    {
     "name": "stdout",
     "output_type": "stream",
     "text": [
      "peak memory: 162.96 MiB, increment: 12.99 MiB\n",
      "peak memory: 885.73 MiB, increment: 735.75 MiB\n"
     ]
    }
   ],
   "source": [
    "from load_data import load_as_dawg\n",
    "\n",
    "import gc\n",
    "\n",
    "del _\n",
    "gc.collect()\n",
    "\n",
    "dtype = 'dawg'\n",
    "results[dtype] = []\n",
    "for filepath in filepath_list:\n",
    "    s = %memit -o _ = load_as_dawg(filepath)\n",
    "    mem_usage = s.mem_usage[0] - s.baseline\n",
    "    results[dtype].append(mem_usage)\n",
    "    "
   ]
  },
  {
   "cell_type": "code",
   "execution_count": 20,
   "metadata": {},
   "outputs": [
    {
     "name": "stdout",
     "output_type": "stream",
     "text": [
      "data/dict.txt 3.642664523795247e-06\n",
      "data/text.txt 4.433328285813332e-06\n"
     ]
    }
   ],
   "source": [
    "import timeit\n",
    "\n",
    "for filepath in filepath_list:\n",
    "    time = timeit.Timer(\"[x in corpus for x in ['hello', 'World']]\",\n",
    "                        \"from load_data import load_as_dawg;\"\n",
    "                        \"corpus = load_as_dawg('{}')\".format(filepath))\n",
    "    lookup_time = time.timeit(n_times) / n_times\n",
    "    results[dtype].append(lookup_time)\n",
    "    \n",
    "    print(filepath, lookup_time)"
   ]
  },
  {
   "cell_type": "markdown",
   "metadata": {},
   "source": [
    "# Marisa Trie"
   ]
  },
  {
   "cell_type": "code",
   "execution_count": 21,
   "metadata": {},
   "outputs": [
    {
     "data": {
      "text/plain": [
       "[True, False]"
      ]
     },
     "execution_count": 21,
     "metadata": {},
     "output_type": "execute_result"
    }
   ],
   "source": [
    "from load_data import load_as_marisatrie\n",
    "\n",
    "corpus = load_as_marisatrie('dict.txt')\n",
    "\n",
    "[x in corpus for x in ['hello', 'World']]"
   ]
  },
  {
   "cell_type": "code",
   "execution_count": 22,
   "metadata": {},
   "outputs": [
    {
     "name": "stdout",
     "output_type": "stream",
     "text": [
      "peak memory: 166.36 MiB, increment: 14.25 MiB\n",
      "peak memory: 661.55 MiB, increment: 509.53 MiB\n"
     ]
    }
   ],
   "source": [
    "from load_data import load_as_marisatrie\n",
    "\n",
    "import gc\n",
    "\n",
    "del _\n",
    "gc.collect()\n",
    "\n",
    "dtype = 'marisa_trie'\n",
    "results[dtype] = []\n",
    "for filepath in filepath_list:\n",
    "    s = %memit -o _ = load_as_marisatrie(filepath)\n",
    "    mem_usage = s.mem_usage[0] - s.baseline\n",
    "    results[dtype].append(mem_usage)\n"
   ]
  },
  {
   "cell_type": "code",
   "execution_count": 23,
   "metadata": {},
   "outputs": [
    {
     "name": "stdout",
     "output_type": "stream",
     "text": [
      "data/dict.txt 7.235668211554487e-06\n",
      "data/text.txt 7.050335019206007e-06\n"
     ]
    }
   ],
   "source": [
    "import timeit\n",
    "\n",
    "for filepath in filepath_list:\n",
    "    time = timeit.Timer(\"[x in corpus for x in ['hello', 'World']]\",\n",
    "                        \"from load_data import load_as_marisatrie;\"\n",
    "                        \"corpus = load_as_marisatrie('{}')\".format(filepath))\n",
    "    lookup_time = time.timeit(n_times) / n_times\n",
    "    results[dtype].append(lookup_time)\n",
    "    \n",
    "    print(filepath, lookup_time)"
   ]
  },
  {
   "cell_type": "markdown",
   "metadata": {},
   "source": [
    "# Hat Trie"
   ]
  },
  {
   "cell_type": "code",
   "execution_count": 24,
   "metadata": {},
   "outputs": [
    {
     "data": {
      "text/plain": [
       "[True, False]"
      ]
     },
     "execution_count": 24,
     "metadata": {},
     "output_type": "execute_result"
    }
   ],
   "source": [
    "from load_data import load_as_hattrie\n",
    "\n",
    "corpus = load_as_hattrie('dict.txt')\n",
    "\n",
    "[x in corpus for x in ['hello', 'World']]"
   ]
  },
  {
   "cell_type": "code",
   "execution_count": 25,
   "metadata": {},
   "outputs": [
    {
     "name": "stdout",
     "output_type": "stream",
     "text": [
      "peak memory: 260.84 MiB, increment: 14.10 MiB\n",
      "peak memory: 615.82 MiB, increment: 369.33 MiB\n"
     ]
    }
   ],
   "source": [
    "from load_data import load_as_hattrie\n",
    "\n",
    "import gc\n",
    "\n",
    "del _\n",
    "gc.collect()\n",
    "\n",
    "dtype = 'hat_trie'\n",
    "results[dtype] = []\n",
    "for filepath in filepath_list:\n",
    "    s = %memit -o _ = load_as_hattrie(filepath)\n",
    "    mem_usage = s.mem_usage[0] - s.baseline\n",
    "    results[dtype].append(mem_usage)\n"
   ]
  },
  {
   "cell_type": "code",
   "execution_count": 26,
   "metadata": {},
   "outputs": [
    {
     "name": "stdout",
     "output_type": "stream",
     "text": [
      "data/dict.txt 4.936339488873879e-06\n",
      "data/text.txt 4.933332093060017e-06\n"
     ]
    }
   ],
   "source": [
    "import timeit\n",
    "\n",
    "for filepath in filepath_list:\n",
    "    time = timeit.Timer(\"[x in corpus for x in ['hello', 'World']]\",\n",
    "                        \"from load_data import load_as_hattrie;\"\n",
    "                        \"corpus = load_as_hattrie('{}')\".format(filepath))\n",
    "    lookup_time = time.timeit(n_times) / n_times\n",
    "    results[dtype].append(lookup_time)\n",
    "    \n",
    "    print(filepath, lookup_time)\n"
   ]
  },
  {
   "cell_type": "markdown",
   "metadata": {},
   "source": [
    "# Datrie"
   ]
  },
  {
   "cell_type": "code",
   "execution_count": 27,
   "metadata": {},
   "outputs": [
    {
     "data": {
      "text/plain": [
       "[True, False]"
      ]
     },
     "execution_count": 27,
     "metadata": {},
     "output_type": "execute_result"
    }
   ],
   "source": [
    "from load_data import load_as_datrie\n",
    "\n",
    "corpus = load_as_datrie('dict.txt')\n",
    "\n",
    "[x in corpus for x in ['hello', 'World']]"
   ]
  },
  {
   "cell_type": "code",
   "execution_count": 28,
   "metadata": {},
   "outputs": [
    {
     "name": "stdout",
     "output_type": "stream",
     "text": [
      "peak memory: 260.86 MiB, increment: 13.74 MiB\n",
      "peak memory: 615.85 MiB, increment: 368.60 MiB\n"
     ]
    }
   ],
   "source": [
    "from load_data import load_as_datrie\n",
    "\n",
    "import gc\n",
    "\n",
    "del _\n",
    "gc.collect()\n",
    "\n",
    "dtype = 'datrie'\n",
    "results[dtype] = []\n",
    "for filepath in filepath_list:\n",
    "    s = %memit -o _ = load_as_datrie(filepath)\n",
    "    mem_usage = s.mem_usage[0] - s.baseline\n",
    "    results[dtype].append(mem_usage)\n"
   ]
  },
  {
   "cell_type": "code",
   "execution_count": 29,
   "metadata": {},
   "outputs": [
    {
     "name": "stdout",
     "output_type": "stream",
     "text": [
      "data/dict.txt 4.630341815451781e-06\n",
      "data/text.txt 4.563664939875404e-06\n"
     ]
    }
   ],
   "source": [
    "import timeit\n",
    "\n",
    "for filepath in filepath_list:\n",
    "    time = timeit.Timer(\"[x in corpus for x in ['hello', 'World']]\",\n",
    "                        \"from load_data import load_as_datrie;\"\n",
    "                        \"corpus = load_as_datrie('{}')\".format(filepath))\n",
    "    lookup_time = time.timeit(n_times) / n_times\n",
    "    results[dtype].append(lookup_time)\n",
    "    \n",
    "    print(filepath, lookup_time)\n"
   ]
  },
  {
   "cell_type": "code",
   "execution_count": 30,
   "metadata": {},
   "outputs": [
    {
     "data": {
      "text/html": [
       "<div>\n",
       "<style scoped>\n",
       "    .dataframe tbody tr th:only-of-type {\n",
       "        vertical-align: middle;\n",
       "    }\n",
       "\n",
       "    .dataframe tbody tr th {\n",
       "        vertical-align: top;\n",
       "    }\n",
       "\n",
       "    .dataframe thead th {\n",
       "        text-align: right;\n",
       "    }\n",
       "</style>\n",
       "<table border=\"1\" class=\"dataframe\">\n",
       "  <thead>\n",
       "    <tr style=\"text-align: right;\">\n",
       "      <th></th>\n",
       "      <th>label</th>\n",
       "      <th>memory usage dict, Mb</th>\n",
       "      <th>memory usage text, Mb</th>\n",
       "      <th>lookup dict, ms</th>\n",
       "      <th>lookup text, ms</th>\n",
       "    </tr>\n",
       "  </thead>\n",
       "  <tbody>\n",
       "    <tr>\n",
       "      <th>0</th>\n",
       "      <td>list</td>\n",
       "      <td>54.02</td>\n",
       "      <td>833.61</td>\n",
       "      <td>4184.23</td>\n",
       "      <td>72143.93</td>\n",
       "    </tr>\n",
       "    <tr>\n",
       "      <th>1</th>\n",
       "      <td>set</td>\n",
       "      <td>68.45</td>\n",
       "      <td>452.48</td>\n",
       "      <td>2.98</td>\n",
       "      <td>3.20</td>\n",
       "    </tr>\n",
       "    <tr>\n",
       "      <th>2</th>\n",
       "      <td>bisect</td>\n",
       "      <td>50.40</td>\n",
       "      <td>836.54</td>\n",
       "      <td>12.28</td>\n",
       "      <td>13.80</td>\n",
       "    </tr>\n",
       "    <tr>\n",
       "      <th>3</th>\n",
       "      <td>dawg</td>\n",
       "      <td>12.99</td>\n",
       "      <td>735.75</td>\n",
       "      <td>3.64</td>\n",
       "      <td>4.43</td>\n",
       "    </tr>\n",
       "    <tr>\n",
       "      <th>4</th>\n",
       "      <td>marisa_trie</td>\n",
       "      <td>14.25</td>\n",
       "      <td>509.53</td>\n",
       "      <td>7.24</td>\n",
       "      <td>7.05</td>\n",
       "    </tr>\n",
       "    <tr>\n",
       "      <th>5</th>\n",
       "      <td>hat_trie</td>\n",
       "      <td>14.10</td>\n",
       "      <td>369.33</td>\n",
       "      <td>4.94</td>\n",
       "      <td>4.93</td>\n",
       "    </tr>\n",
       "    <tr>\n",
       "      <th>6</th>\n",
       "      <td>datrie</td>\n",
       "      <td>13.74</td>\n",
       "      <td>368.60</td>\n",
       "      <td>4.63</td>\n",
       "      <td>4.56</td>\n",
       "    </tr>\n",
       "  </tbody>\n",
       "</table>\n",
       "</div>"
      ],
      "text/plain": [
       "         label  memory usage dict, Mb  memory usage text, Mb  lookup dict, ms  \\\n",
       "0         list                  54.02                 833.61          4184.23   \n",
       "1          set                  68.45                 452.48             2.98   \n",
       "2       bisect                  50.40                 836.54            12.28   \n",
       "3         dawg                  12.99                 735.75             3.64   \n",
       "4  marisa_trie                  14.25                 509.53             7.24   \n",
       "5     hat_trie                  14.10                 369.33             4.94   \n",
       "6       datrie                  13.74                 368.60             4.63   \n",
       "\n",
       "   lookup text, ms  \n",
       "0         72143.93  \n",
       "1             3.20  \n",
       "2            13.80  \n",
       "3             4.43  \n",
       "4             7.05  \n",
       "5             4.93  \n",
       "6             4.56  "
      ]
     },
     "execution_count": 30,
     "metadata": {},
     "output_type": "execute_result"
    }
   ],
   "source": [
    "import pandas as pd\n",
    "\n",
    "df = pd.DataFrame(results, index=['memory usage dict, Mb', 'memory usage text, Mb', 'lookup dict, ms', 'lookup text, ms']).T\n",
    "df['lookup dict, ms'] *= 1e6\n",
    "df['lookup text, ms'] *= 1e6\n",
    "\n",
    "df = df.round(2)\n",
    "df = df.reset_index()\n",
    "df.rename(columns={'index': 'label'}, inplace=True)\n",
    "\n",
    "df"
   ]
  },
  {
   "cell_type": "code",
   "execution_count": 31,
   "metadata": {},
   "outputs": [
    {
     "data": {
      "application/vnd.vegalite.v3+json": {
       "$schema": "https://vega.github.io/schema/vega-lite/v3.4.0.json",
       "config": {
        "mark": {
         "tooltip": null
        },
        "view": {
         "height": 300,
         "width": 400
        }
       },
       "data": {
        "name": "data-1f7f57bd43418d978b2946a98689167a"
       },
       "datasets": {
        "data-1f7f57bd43418d978b2946a98689167a": [
         {
          "label": "set",
          "lookup dict, ms": 2.98,
          "lookup text, ms": 3.2,
          "memory usage dict, Mb": 68.45,
          "memory usage text, Mb": 452.48
         },
         {
          "label": "bisect",
          "lookup dict, ms": 12.28,
          "lookup text, ms": 13.8,
          "memory usage dict, Mb": 50.4,
          "memory usage text, Mb": 836.54
         },
         {
          "label": "dawg",
          "lookup dict, ms": 3.64,
          "lookup text, ms": 4.43,
          "memory usage dict, Mb": 12.99,
          "memory usage text, Mb": 735.75
         },
         {
          "label": "marisa_trie",
          "lookup dict, ms": 7.24,
          "lookup text, ms": 7.05,
          "memory usage dict, Mb": 14.25,
          "memory usage text, Mb": 509.53
         },
         {
          "label": "hat_trie",
          "lookup dict, ms": 4.94,
          "lookup text, ms": 4.93,
          "memory usage dict, Mb": 14.1,
          "memory usage text, Mb": 369.33
         },
         {
          "label": "datrie",
          "lookup dict, ms": 4.63,
          "lookup text, ms": 4.56,
          "memory usage dict, Mb": 13.74,
          "memory usage text, Mb": 368.6
         }
        ]
       },
       "layer": [
        {
         "encoding": {
          "color": {
           "field": "label",
           "type": "nominal"
          },
          "x": {
           "field": "memory usage text, Mb",
           "type": "quantitative"
          },
          "y": {
           "field": "lookup text, ms",
           "type": "quantitative"
          }
         },
         "mark": "point"
        },
        {
         "encoding": {
          "color": {
           "field": "label",
           "type": "nominal"
          },
          "text": {
           "field": "label",
           "type": "nominal"
          },
          "x": {
           "field": "memory usage text, Mb",
           "type": "quantitative"
          },
          "y": {
           "field": "lookup text, ms",
           "type": "quantitative"
          }
         },
         "mark": {
          "align": "left",
          "baseline": "middle",
          "dx": 5,
          "type": "text"
         }
        }
       ]
      },
      "image/png": "[encoded data removed]",
      "text/plain": [
       "<VegaLite 3 object>\n",
       "\n",
       "If you see this message, it means the renderer has not been properly enabled\n",
       "for the frontend that you are using. For more information, see\n",
       "https://altair-viz.github.io/user_guide/troubleshooting.html\n"
      ]
     },
     "execution_count": 31,
     "metadata": {},
     "output_type": "execute_result"
    }
   ],
   "source": [
    "import altair as alt\n",
    "\n",
    "points = alt.Chart(df.iloc[1:]).mark_point().encode(\n",
    "    x='memory usage text, Mb:Q',\n",
    "    y='lookup text, ms:Q',\n",
    "    color='label'\n",
    ")\n",
    "\n",
    "text = points.mark_text(\n",
    "    align='left',\n",
    "    baseline='middle',\n",
    "    dx=5\n",
    ").encode(\n",
    "    text='label'\n",
    ")\n",
    "\n",
    "points + text"
   ]
  },
  {
   "cell_type": "markdown",
   "metadata": {},
   "source": [
    "# Conclution\n",
    "\n",
    "- Set - best performance and low memory usage\n",
    "\n",
    "# Useful links\n",
    "\n",
    "- http://kmike.ru/python-data-structures/"
   ]
  },
  {
   "cell_type": "code",
   "execution_count": null,
   "metadata": {},
   "outputs": [],
   "source": []
  }
 ],
 "metadata": {
  "kernelspec": {
   "display_name": "Python 3",
   "language": "python",
   "name": "python3"
  },
  "language_info": {
   "codemirror_mode": {
    "name": "ipython",
    "version": 3
   },
   "file_extension": ".py",
   "mimetype": "text/x-python",
   "name": "python",
   "nbconvert_exporter": "python",
   "pygments_lexer": "ipython3",
   "version": "3.6.8"
  }
 },
 "nbformat": 4,
 "nbformat_minor": 4
}
