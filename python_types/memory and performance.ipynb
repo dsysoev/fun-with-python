{
 "cells": [
  {
   "cell_type": "markdown",
   "metadata": {},
   "source": [
    "# Int\n",
    "\n",
    "- Memory: Min size 24 bits. Max size is not limited.\n",
    "- Performance: fixed object creation speed (11 ns)"
   ]
  },
  {
   "cell_type": "code",
   "execution_count": 1,
   "metadata": {},
   "outputs": [
    {
     "name": "stdout",
     "output_type": "stream",
     "text": [
      "int(0): 24 bits\n",
      "int(2 ** 0): 28 bits\n",
      "int(2 ** 1): 28 bits\n",
      "int(2 ** 128): 44 bits\n",
      "int(2 ** 512): 96 bits\n",
      "int(2 ** 1023): 164 bits\n",
      "int(2 ** 2048): 300 bits\n"
     ]
    }
   ],
   "source": [
    "import sys\n",
    "\n",
    "dtype = int\n",
    "\n",
    "value = 0\n",
    "print('{}({}): {} bits'.format(str(dtype.__name__), value, sys.getsizeof(value)))\n",
    "for i in [0, 1, 128, 512, 1023, 2048]:\n",
    "    value = dtype(2 ** i)\n",
    "    print('{}({} ** {}): {} bits'.format(str(dtype.__name__), 2, i, sys.getsizeof(value)))"
   ]
  },
  {
   "cell_type": "code",
   "execution_count": 2,
   "metadata": {},
   "outputs": [
    {
     "name": "stdout",
     "output_type": "stream",
     "text": [
      "12.1 ns ± 0.371 ns per loop (mean ± std. dev. of 7 runs, 100000000 loops each)\n",
      "11.1 ns ± 0.227 ns per loop (mean ± std. dev. of 7 runs, 100000000 loops each)\n",
      "11.3 ns ± 0.504 ns per loop (mean ± std. dev. of 7 runs, 100000000 loops each)\n"
     ]
    }
   ],
   "source": [
    "%timeit t = 0\n",
    "%timeit t = 1000\n",
    "%timeit t = 1000000000000000000000000000000000000000000000000000000000000000000000000000000000000000000000000000000000"
   ]
  },
  {
   "cell_type": "code",
   "execution_count": 3,
   "metadata": {},
   "outputs": [
    {
     "name": "stdout",
     "output_type": "stream",
     "text": [
      "92.1 ns ± 0.863 ns per loop (mean ± std. dev. of 7 runs, 10000000 loops each)\n"
     ]
    }
   ],
   "source": [
    "%timeit t = int(0)"
   ]
  },
  {
   "cell_type": "markdown",
   "metadata": {},
   "source": [
    "# Float\n",
    "\n",
    "- Memory: Min and max size 24 bits.\n",
    "- Performance: fixed object creation speed (11 ns)"
   ]
  },
  {
   "cell_type": "code",
   "execution_count": 4,
   "metadata": {},
   "outputs": [
    {
     "name": "stdout",
     "output_type": "stream",
     "text": [
      "float(0): 24 bits\n",
      "float(2 ** 0): 24 bits\n",
      "float(2 ** 1): 24 bits\n",
      "float(2 ** 128): 24 bits\n",
      "float(2 ** 512): 24 bits\n",
      "float(2 ** 1023): 24 bits\n",
      "Exception float(2 ** 2048). int too large to convert to float\n"
     ]
    }
   ],
   "source": [
    "import sys\n",
    "\n",
    "dtype = float\n",
    "\n",
    "value = 0\n",
    "print('{}({}): {} bits'.format(str(dtype.__name__), value, sys.getsizeof(value)))\n",
    "for i in [0, 1, 128, 512, 1023, 2048]:\n",
    "    try:\n",
    "        value = dtype(2 ** i)\n",
    "    except OverflowError as e:\n",
    "        print(\"Exception {}({} ** {}). {}\".format(str(dtype.__name__), 2, i, e))\n",
    "        continue\n",
    "    print('{}({} ** {}): {} bits'.format(str(dtype.__name__), 2, i, sys.getsizeof(value)))"
   ]
  },
  {
   "cell_type": "code",
   "execution_count": 5,
   "metadata": {},
   "outputs": [
    {
     "data": {
      "text/plain": [
       "sys.float_info(max=1.7976931348623157e+308, max_exp=1024, max_10_exp=308, min=2.2250738585072014e-308, min_exp=-1021, min_10_exp=-307, dig=15, mant_dig=53, epsilon=2.220446049250313e-16, radix=2, rounds=1)"
      ]
     },
     "execution_count": 5,
     "metadata": {},
     "output_type": "execute_result"
    }
   ],
   "source": [
    "# max exp = 1024\n",
    "sys.float_info"
   ]
  },
  {
   "cell_type": "code",
   "execution_count": 6,
   "metadata": {},
   "outputs": [
    {
     "name": "stdout",
     "output_type": "stream",
     "text": [
      "11 ns ± 0.215 ns per loop (mean ± std. dev. of 7 runs, 100000000 loops each)\n",
      "10.7 ns ± 0.0172 ns per loop (mean ± std. dev. of 7 runs, 100000000 loops each)\n",
      "10.7 ns ± 0.0402 ns per loop (mean ± std. dev. of 7 runs, 100000000 loops each)\n"
     ]
    }
   ],
   "source": [
    "%timeit t = 0.\n",
    "%timeit t = 1000.\n",
    "%timeit t = 1000000000000000000000000000000000000000000000000000000000000000000000000000000000000000000000000000000000."
   ]
  },
  {
   "cell_type": "code",
   "execution_count": 7,
   "metadata": {},
   "outputs": [
    {
     "name": "stdout",
     "output_type": "stream",
     "text": [
      "97.3 ns ± 1.47 ns per loop (mean ± std. dev. of 7 runs, 10000000 loops each)\n"
     ]
    }
   ],
   "source": [
    "%timeit t = float(0.)"
   ]
  },
  {
   "cell_type": "markdown",
   "metadata": {},
   "source": [
    "# Str\n",
    "\n",
    "- Memory: Min size 49 bits. Max size is not limited (length of string plus 49 bits).\n",
    "- Performance: fixed object creation speed (11 ns)"
   ]
  },
  {
   "cell_type": "code",
   "execution_count": 8,
   "metadata": {},
   "outputs": [
    {
     "name": "stdout",
     "output_type": "stream",
     "text": [
      "str(): 49 bits\n",
      "str(2 ** 0): 50 bits (string length 1 + 49)\n",
      "str(2 ** 1): 50 bits (string length 1 + 49)\n",
      "str(2 ** 128): 88 bits (string length 39 + 49)\n",
      "str(2 ** 512): 204 bits (string length 155 + 49)\n",
      "str(2 ** 1023): 357 bits (string length 308 + 49)\n",
      "str(2 ** 2048): 666 bits (string length 617 + 49)\n"
     ]
    }
   ],
   "source": [
    "import sys\n",
    "\n",
    "dtype = str\n",
    "\n",
    "value = ''\n",
    "print('{}({}): {} bits'.format(str(dtype.__name__), value, sys.getsizeof(value)))\n",
    "for i in [0, 1, 128, 512, 1023, 2048]:\n",
    "    value = dtype(2 ** i)\n",
    "    print('{}({} ** {}): {} bits (string length {} + 49)'.format(str(dtype.__name__), 2, i, sys.getsizeof(value), len(value)))"
   ]
  },
  {
   "cell_type": "code",
   "execution_count": 9,
   "metadata": {},
   "outputs": [
    {
     "name": "stdout",
     "output_type": "stream",
     "text": [
      "11.1 ns ± 0.213 ns per loop (mean ± std. dev. of 7 runs, 100000000 loops each)\n",
      "11.2 ns ± 0.296 ns per loop (mean ± std. dev. of 7 runs, 100000000 loops each)\n",
      "12.8 ns ± 0.0752 ns per loop (mean ± std. dev. of 7 runs, 100000000 loops each)\n"
     ]
    }
   ],
   "source": [
    "%timeit t = ''\n",
    "%timeit t = '1000'\n",
    "%timeit t = '1000000000000000000000000000000000000000000000000000000000000000000000000000000000000000000000000000000000'"
   ]
  },
  {
   "cell_type": "code",
   "execution_count": 10,
   "metadata": {},
   "outputs": [
    {
     "name": "stdout",
     "output_type": "stream",
     "text": [
      "109 ns ± 1.4 ns per loop (mean ± std. dev. of 7 runs, 10000000 loops each)\n"
     ]
    }
   ],
   "source": [
    "%timeit t = str('')"
   ]
  },
  {
   "cell_type": "markdown",
   "metadata": {},
   "source": [
    "# List\n",
    "\n",
    "- Memory: Min size 64 bits. Max size is not limited.\n",
    "- Performance: Min wall time 34 ns. Object creation speed grows linearly."
   ]
  },
  {
   "cell_type": "code",
   "execution_count": 11,
   "metadata": {},
   "outputs": [
    {
     "name": "stdout",
     "output_type": "stream",
     "text": [
      "list([]): 64 bits\n",
      "list(elements = 0): 64 bits\n",
      "list(elements = 1): 96 bits\n",
      "list(elements = 128): 1264 bits\n",
      "list(elements = 512): 4720 bits\n",
      "list(elements = 1023): 9312 bits\n",
      "list(elements = 2048): 18544 bits\n"
     ]
    }
   ],
   "source": [
    "import sys\n",
    "\n",
    "dtype = list\n",
    "\n",
    "value = []\n",
    "print('{}({}): {} bits'.format(str(dtype.__name__), value, sys.getsizeof(value)))\n",
    "for i in [0, 1, 128, 512, 1023, 2048]:\n",
    "    value = dtype([x for x in range(i)])\n",
    "    print('{}(elements = {}): {} bits'.format(str(dtype.__name__), i, sys.getsizeof(value), len(value)))"
   ]
  },
  {
   "cell_type": "code",
   "execution_count": 12,
   "metadata": {},
   "outputs": [
    {
     "name": "stdout",
     "output_type": "stream",
     "text": [
      "33.9 ns ± 0.319 ns per loop (mean ± std. dev. of 7 runs, 10000000 loops each)\n",
      "45.7 ns ± 0.562 ns per loop (mean ± std. dev. of 7 runs, 10000000 loops each)\n",
      "111 ns ± 0.374 ns per loop (mean ± std. dev. of 7 runs, 10000000 loops each)\n"
     ]
    }
   ],
   "source": [
    "%timeit t = [0]\n",
    "%timeit t = [0, 1, 2, 3]\n",
    "%timeit t = [0, 1, 2, 3, 4, 5, 6, 7, 8, 9, 10, 11, 12, 13, 14, 15]"
   ]
  },
  {
   "cell_type": "code",
   "execution_count": 13,
   "metadata": {},
   "outputs": [
    {
     "name": "stdout",
     "output_type": "stream",
     "text": [
      "179 ns ± 1.94 ns per loop (mean ± std. dev. of 7 runs, 10000000 loops each)\n"
     ]
    }
   ],
   "source": [
    "%timeit t = list([0])"
   ]
  },
  {
   "cell_type": "markdown",
   "metadata": {},
   "source": [
    "# Tuple\n",
    "\n",
    "- Memory: Min size 48 bits. Max size is not limited.\n",
    "- Performance: Fixed object creation speed."
   ]
  },
  {
   "cell_type": "code",
   "execution_count": 14,
   "metadata": {},
   "outputs": [
    {
     "name": "stdout",
     "output_type": "stream",
     "text": [
      "tuple(()): 48 bits\n",
      "tuple(elements = 0): 48 bits\n",
      "tuple(elements = 1): 56 bits\n",
      "tuple(elements = 128): 1072 bits\n",
      "tuple(elements = 512): 4144 bits\n",
      "tuple(elements = 1023): 8232 bits\n",
      "tuple(elements = 2048): 16432 bits\n"
     ]
    }
   ],
   "source": [
    "import sys\n",
    "\n",
    "dtype = tuple\n",
    "\n",
    "value = ()\n",
    "print('{}({}): {} bits'.format(str(dtype.__name__), value, sys.getsizeof(value)))\n",
    "for i in [0, 1, 128, 512, 1023, 2048]:\n",
    "    value = dtype((x for x in range(i)))\n",
    "    print('{}(elements = {}): {} bits'.format(str(dtype.__name__), i, sys.getsizeof(value), len(value)))"
   ]
  },
  {
   "cell_type": "code",
   "execution_count": 15,
   "metadata": {},
   "outputs": [
    {
     "name": "stdout",
     "output_type": "stream",
     "text": [
      "10.7 ns ± 0.0782 ns per loop (mean ± std. dev. of 7 runs, 100000000 loops each)\n",
      "11 ns ± 0.042 ns per loop (mean ± std. dev. of 7 runs, 100000000 loops each)\n",
      "10.8 ns ± 0.072 ns per loop (mean ± std. dev. of 7 runs, 100000000 loops each)\n"
     ]
    }
   ],
   "source": [
    "%timeit t = (0, )\n",
    "%timeit t = (0, 1, 2, 3, )\n",
    "%timeit t = (0, 1, 2, 3, 4, 5, 6, 7, 8, 9, 10, 11, 12, 13, 14, 15, )"
   ]
  },
  {
   "cell_type": "code",
   "execution_count": 16,
   "metadata": {},
   "outputs": [
    {
     "name": "stdout",
     "output_type": "stream",
     "text": [
      "94.5 ns ± 4.02 ns per loop (mean ± std. dev. of 7 runs, 10000000 loops each)\n"
     ]
    }
   ],
   "source": [
    "%timeit t = tuple((0, ))"
   ]
  },
  {
   "cell_type": "markdown",
   "metadata": {},
   "source": [
    "# Dict\n",
    "\n",
    "- Memory: Min size 240 bits. Max size is not limited.\n",
    "- Performance: Min wall time 64ns (2x slower than list). Object creation speed grows linearly."
   ]
  },
  {
   "cell_type": "code",
   "execution_count": 17,
   "metadata": {},
   "outputs": [
    {
     "name": "stdout",
     "output_type": "stream",
     "text": [
      "dict({}): 240 bits\n",
      "dict(elements = 0): 240 bits\n",
      "dict(elements = 1): 240 bits\n",
      "dict(elements = 128): 4704 bits\n",
      "dict(elements = 512): 18528 bits\n",
      "dict(elements = 1023): 36968 bits\n",
      "dict(elements = 2048): 73824 bits\n"
     ]
    }
   ],
   "source": [
    "import sys\n",
    "\n",
    "dtype = dict\n",
    "\n",
    "value = {}\n",
    "print('{}({}): {} bits'.format(str(dtype.__name__), value, sys.getsizeof(value)))\n",
    "for i in [0, 1, 128, 512, 1023, 2048]:\n",
    "    value = dtype({x: x for x in range(i)})\n",
    "    print('{}(elements = {}): {} bits'.format(str(dtype.__name__), i, sys.getsizeof(value), len(value)))"
   ]
  },
  {
   "cell_type": "code",
   "execution_count": 18,
   "metadata": {},
   "outputs": [
    {
     "name": "stdout",
     "output_type": "stream",
     "text": [
      "62.7 ns ± 0.445 ns per loop (mean ± std. dev. of 7 runs, 10000000 loops each)\n",
      "125 ns ± 3.2 ns per loop (mean ± std. dev. of 7 runs, 10000000 loops each)\n",
      "421 ns ± 13.8 ns per loop (mean ± std. dev. of 7 runs, 1000000 loops each)\n"
     ]
    }
   ],
   "source": [
    "%timeit t = {0: 0}\n",
    "%timeit t = {0: 0, 1: 1, 2: 2, 3: 3}\n",
    "%timeit t = {0: 0, 1: 1, 2: 2, 3: 3, 4: 4, 5: 5, 6: 6, 7: 7, 8: 8, 9: 9, 10: 10, 11: 11, 12: 12, 13: 13, 14: 14, 15: 15}"
   ]
  },
  {
   "cell_type": "code",
   "execution_count": 19,
   "metadata": {},
   "outputs": [
    {
     "name": "stdout",
     "output_type": "stream",
     "text": [
      "223 ns ± 13 ns per loop (mean ± std. dev. of 7 runs, 1000000 loops each)\n"
     ]
    }
   ],
   "source": [
    "%timeit t = dict({0: 0})"
   ]
  },
  {
   "cell_type": "markdown",
   "metadata": {},
   "source": [
    "# Sets\n",
    "\n",
    "- Memory: Min memory size 224 bits. Max size is not limited.\n",
    "- Performance: Min wall time 52 ns (1.5x slower than list). Object creation speed grows linearly."
   ]
  },
  {
   "cell_type": "code",
   "execution_count": 20,
   "metadata": {},
   "outputs": [
    {
     "name": "stdout",
     "output_type": "stream",
     "text": [
      "set(set()): 224 bits\n",
      "set(elements = 0): 224 bits\n",
      "set(elements = 1): 224 bits\n",
      "set(elements = 128): 8416 bits\n",
      "set(elements = 512): 32992 bits\n",
      "set(elements = 1023): 32992 bits\n",
      "set(elements = 2048): 131296 bits\n"
     ]
    }
   ],
   "source": [
    "import sys\n",
    "\n",
    "dtype = set\n",
    "\n",
    "value = set()\n",
    "print('{}({}): {} bits'.format(str(dtype.__name__), value, sys.getsizeof(value)))\n",
    "for i in [0, 1, 128, 512, 1023, 2048]:\n",
    "    value = dtype({x for x in range(i)})\n",
    "    print('{}(elements = {}): {} bits'.format(str(dtype.__name__), i, sys.getsizeof(value), len(value)))"
   ]
  },
  {
   "cell_type": "code",
   "execution_count": 21,
   "metadata": {},
   "outputs": [
    {
     "name": "stdout",
     "output_type": "stream",
     "text": [
      "52.1 ns ± 0.373 ns per loop (mean ± std. dev. of 7 runs, 10000000 loops each)\n",
      "91.6 ns ± 1.77 ns per loop (mean ± std. dev. of 7 runs, 10000000 loops each)\n",
      "274 ns ± 1.65 ns per loop (mean ± std. dev. of 7 runs, 1000000 loops each)\n"
     ]
    }
   ],
   "source": [
    "%timeit t = {0}\n",
    "%timeit t = {0, 1, 2, 3}\n",
    "%timeit t = {0, 1, 2, 3, 4, 5, 6, 7, 8, 9, 10, 11, 12, 13, 14, 15}"
   ]
  },
  {
   "cell_type": "code",
   "execution_count": 22,
   "metadata": {},
   "outputs": [
    {
     "name": "stdout",
     "output_type": "stream",
     "text": [
      "145 ns ± 2.96 ns per loop (mean ± std. dev. of 7 runs, 10000000 loops each)\n"
     ]
    }
   ],
   "source": [
    "%timeit t = set({0})"
   ]
  },
  {
   "cell_type": "markdown",
   "metadata": {},
   "source": [
    "# Decimal\n",
    "\n",
    "- Memory: Min 104 bits. Max size is not limited.\n",
    "- Performance: Min wall time 134 ns (13x slower than float). Object creation speed grows exponentionaly from the value of object.\n"
   ]
  },
  {
   "cell_type": "code",
   "execution_count": 23,
   "metadata": {},
   "outputs": [
    {
     "name": "stdout",
     "output_type": "stream",
     "text": [
      "Decimal(0): 104 bits\n",
      "Decimal(2 ** 0): 104 bits\n",
      "Decimal(2 ** 1): 104 bits\n",
      "Decimal(2 ** 128): 104 bits\n",
      "Decimal(2 ** 512): 176 bits\n",
      "Decimal(2 ** 1023): 240 bits\n",
      "Decimal(2 ** 2048): 368 bits\n"
     ]
    }
   ],
   "source": [
    "import sys\n",
    "\n",
    "from decimal import Decimal\n",
    "\n",
    "dtype = Decimal\n",
    "\n",
    "value = Decimal(0)\n",
    "print('{}({}): {} bits'.format(str(dtype.__name__), value, sys.getsizeof(value)))\n",
    "for i in [0, 1, 128, 512, 1023, 2048]:\n",
    "    value = dtype(2 ** i)\n",
    "    print('{}({} ** {}): {} bits'.format(str(dtype.__name__), 2, i, sys.getsizeof(value)))"
   ]
  },
  {
   "cell_type": "code",
   "execution_count": 24,
   "metadata": {},
   "outputs": [
    {
     "name": "stdout",
     "output_type": "stream",
     "text": [
      "374 ns ± 41 ns per loop (mean ± std. dev. of 7 runs, 1000000 loops each)\n",
      "439 ns ± 12.6 ns per loop (mean ± std. dev. of 7 runs, 1000000 loops each)\n",
      "1.71 µs ± 15.7 ns per loop (mean ± std. dev. of 7 runs, 1000000 loops each)\n"
     ]
    }
   ],
   "source": [
    "%timeit t = Decimal(0.)\n",
    "%timeit t = Decimal(1000.)\n",
    "%timeit t = Decimal(1000000000000000000000000000000000000000000000000000000000000000000000000000000000000000000000000000000000.)"
   ]
  },
  {
   "cell_type": "markdown",
   "metadata": {},
   "source": [
    "# defaultdict\n",
    "\n",
    "- Memory: Min size 248 bits. Max size is not limited.\n",
    "- Performance: Min wall time 205ns (8x slower than list). Object creation speed grows linearly from the number of objects."
   ]
  },
  {
   "cell_type": "code",
   "execution_count": 25,
   "metadata": {},
   "outputs": [
    {
     "name": "stdout",
     "output_type": "stream",
     "text": [
      "defaultdict(): 248 bits\n",
      "defaultdict(elements = 0): 248 bits\n",
      "defaultdict(elements = 1): 248 bits\n",
      "defaultdict(elements = 128): 4712 bits\n",
      "defaultdict(elements = 512): 18536 bits\n",
      "defaultdict(elements = 1023): 36976 bits\n",
      "defaultdict(elements = 2048): 73832 bits\n"
     ]
    }
   ],
   "source": [
    "import sys\n",
    "from collections import defaultdict\n",
    "\n",
    "dtype = defaultdict\n",
    "\n",
    "value = dtype(int)\n",
    "print('{}(): {} bits'.format(str(dtype.__name__), sys.getsizeof(value)))\n",
    "for i in [0, 1, 128, 512, 1023, 2048]:\n",
    "    value = dtype(int)\n",
    "    for x in range(i):\n",
    "        value[x] += 1\n",
    "    print('{}(elements = {}): {} bits'.format(str(dtype.__name__), i, sys.getsizeof(value)))"
   ]
  },
  {
   "cell_type": "code",
   "execution_count": 26,
   "metadata": {},
   "outputs": [
    {
     "name": "stdout",
     "output_type": "stream",
     "text": [
      "214 ns ± 18.3 ns per loop (mean ± std. dev. of 7 runs, 1000000 loops each)\n"
     ]
    }
   ],
   "source": [
    "%%timeit\n",
    "\n",
    "t = defaultdict(int)\n",
    "t[0] = 0"
   ]
  },
  {
   "cell_type": "code",
   "execution_count": 27,
   "metadata": {},
   "outputs": [
    {
     "name": "stdout",
     "output_type": "stream",
     "text": [
      "621 ns ± 26.9 ns per loop (mean ± std. dev. of 7 runs, 1000000 loops each)\n"
     ]
    }
   ],
   "source": [
    "%%timeit\n",
    "\n",
    "t = defaultdict(int)\n",
    "for k, v in {0: 0, 1: 1, 2: 2, 3: 3}.items():\n",
    "    t[k] = v"
   ]
  },
  {
   "cell_type": "code",
   "execution_count": 28,
   "metadata": {},
   "outputs": [
    {
     "name": "stdout",
     "output_type": "stream",
     "text": [
      "1.71 µs ± 39.3 ns per loop (mean ± std. dev. of 7 runs, 1000000 loops each)\n"
     ]
    }
   ],
   "source": [
    "%%timeit\n",
    "\n",
    "t = defaultdict(int)\n",
    "for k, v in {0: 0, 1: 1, 2: 2, 3: 3, 4: 4, 5: 5, 6: 6, 7: 7, 8: 8, 9: 9, 10: 10, 11: 11, 12: 12, 13: 13, 14: 14, 15: 15}.items():\n",
    "    t[k] = v"
   ]
  },
  {
   "cell_type": "markdown",
   "metadata": {},
   "source": [
    "# Class instance\n",
    "\n",
    "- Memory: Min size 168 bits.\n",
    "- Performance: Wall time 235 ns."
   ]
  },
  {
   "cell_type": "code",
   "execution_count": 29,
   "metadata": {},
   "outputs": [
    {
     "name": "stdout",
     "output_type": "stream",
     "text": [
      "Point: 168 bits\n"
     ]
    }
   ],
   "source": [
    "class Point:\n",
    "    \n",
    "    def __init__(self, x):\n",
    "        self.x = x\n",
    "        \n",
    "ob = Point(1)\n",
    "\n",
    "print('{}: {} bits'.format(str(ob.__class__.__name__), sys.getsizeof(ob) + sys.getsizeof(ob.__dict__)))"
   ]
  },
  {
   "cell_type": "code",
   "execution_count": 30,
   "metadata": {},
   "outputs": [
    {
     "name": "stdout",
     "output_type": "stream",
     "text": [
      "235 ns ± 8.46 ns per loop (mean ± std. dev. of 7 runs, 1000000 loops each)\n"
     ]
    }
   ],
   "source": [
    "%timeit t = Point(1)"
   ]
  },
  {
   "cell_type": "markdown",
   "metadata": {},
   "source": [
    "# Namedtuple\n",
    "\n",
    "- Memory: Min size 56 bits.\n",
    "- Performance: Wall time 339 ns."
   ]
  },
  {
   "cell_type": "code",
   "execution_count": 31,
   "metadata": {},
   "outputs": [
    {
     "name": "stdout",
     "output_type": "stream",
     "text": [
      "Point: 56 bits\n"
     ]
    }
   ],
   "source": [
    "from collections import namedtuple\n",
    "\n",
    "Point = namedtuple('Point', ('x'))\n",
    "\n",
    "ob = Point(1)\n",
    "\n",
    "print('{}: {} bits'.format(str(ob.__class__.__name__), sys.getsizeof(ob)))"
   ]
  },
  {
   "cell_type": "code",
   "execution_count": 32,
   "metadata": {},
   "outputs": [
    {
     "name": "stdout",
     "output_type": "stream",
     "text": [
      "339 ns ± 23.4 ns per loop (mean ± std. dev. of 7 runs, 1000000 loops each)\n"
     ]
    }
   ],
   "source": [
    "%timeit t = Point(1)"
   ]
  },
  {
   "cell_type": "markdown",
   "metadata": {},
   "source": [
    "# Class instance with slots\n",
    "\n",
    "- Memory: Min size 48 bits (3.5x less memory than class).\n",
    "- Performance: Wall time 194 ns. (20% faster than class)"
   ]
  },
  {
   "cell_type": "code",
   "execution_count": 33,
   "metadata": {},
   "outputs": [
    {
     "name": "stdout",
     "output_type": "stream",
     "text": [
      "Point: 48 bits\n"
     ]
    }
   ],
   "source": [
    "class Point:\n",
    "    __slots__ = ['x']\n",
    "    \n",
    "    def __init__(self, x):\n",
    "        self.x = x\n",
    "        \n",
    "ob = Point(1)\n",
    "\n",
    "print('{}: {} bits'.format(str(ob.__class__.__name__), sys.getsizeof(ob)))"
   ]
  },
  {
   "cell_type": "code",
   "execution_count": 34,
   "metadata": {},
   "outputs": [
    {
     "name": "stdout",
     "output_type": "stream",
     "text": [
      "194 ns ± 1.01 ns per loop (mean ± std. dev. of 7 runs, 10000000 loops each)\n"
     ]
    }
   ],
   "source": [
    "%timeit t = Point(1)"
   ]
  },
  {
   "cell_type": "code",
   "execution_count": null,
   "metadata": {},
   "outputs": [],
   "source": []
  }
 ],
 "metadata": {
  "kernelspec": {
   "display_name": "Python 3",
   "language": "python",
   "name": "python3"
  },
  "language_info": {
   "codemirror_mode": {
    "name": "ipython",
    "version": 3
   },
   "file_extension": ".py",
   "mimetype": "text/x-python",
   "name": "python",
   "nbconvert_exporter": "python",
   "pygments_lexer": "ipython3",
   "version": "3.6.8"
  }
 },
 "nbformat": 4,
 "nbformat_minor": 4
}
