{
 "cells": [
  {
   "cell_type": "markdown",
   "metadata": {},
   "source": [
    "# Int\n",
    "\n",
    "- Memory: Min size 24 bits. Max size is not limited.\n",
    "- Performance: fixed object creation speed (11 ns)"
   ]
  },
  {
   "cell_type": "code",
   "execution_count": 1,
   "metadata": {},
   "outputs": [
    {
     "name": "stdout",
     "output_type": "stream",
     "text": [
      "int(0): 24 bits\n",
      "int(2 ** 0): 28 bits\n",
      "int(2 ** 50): 32 bits\n",
      "int(2 ** 100): 40 bits\n",
      "int(2 ** 250): 60 bits\n",
      "int(2 ** 500): 92 bits\n",
      "int(2 ** 1000): 160 bits\n",
      "int(2 ** 2000): 292 bits\n"
     ]
    }
   ],
   "source": [
    "import sys\n",
    "\n",
    "dtype = int\n",
    "\n",
    "value = 0\n",
    "print('{}({}): {} bits'.format(str(dtype.__name__), value, sys.getsizeof(value)))\n",
    "for i in [0, 50, 100, 250, 500, 1000, 2000]:\n",
    "    value = dtype(2 ** i)\n",
    "    print('{}({} ** {}): {} bits'.format(str(dtype.__name__), 2, i, sys.getsizeof(value)))"
   ]
  },
  {
   "cell_type": "code",
   "execution_count": 2,
   "metadata": {},
   "outputs": [
    {
     "name": "stdout",
     "output_type": "stream",
     "text": [
      "10.9 ns ± 0.0707 ns per loop (mean ± std. dev. of 7 runs, 100000000 loops each)\n"
     ]
    }
   ],
   "source": [
    "%timeit t = 0"
   ]
  },
  {
   "cell_type": "code",
   "execution_count": 3,
   "metadata": {},
   "outputs": [
    {
     "name": "stdout",
     "output_type": "stream",
     "text": [
      "11 ns ± 0.0409 ns per loop (mean ± std. dev. of 7 runs, 100000000 loops each)\n"
     ]
    }
   ],
   "source": [
    "%timeit t = 1000"
   ]
  },
  {
   "cell_type": "code",
   "execution_count": 4,
   "metadata": {},
   "outputs": [
    {
     "name": "stdout",
     "output_type": "stream",
     "text": [
      "10.8 ns ± 0.0302 ns per loop (mean ± std. dev. of 7 runs, 100000000 loops each)\n"
     ]
    }
   ],
   "source": [
    "%timeit t = 1000000000000000000000000000000000000000000000000000000000000000000000000000000000000000000000000000000000"
   ]
  },
  {
   "cell_type": "markdown",
   "metadata": {},
   "source": [
    "# Float\n",
    "\n",
    "- Memory: Min and max size 24 bits.\n",
    "- Performance: fixed object creation speed (11 ns)"
   ]
  },
  {
   "cell_type": "code",
   "execution_count": 5,
   "metadata": {},
   "outputs": [
    {
     "name": "stdout",
     "output_type": "stream",
     "text": [
      "float(0): 24 bits\n",
      "float(2 ** 0): 24 bits\n",
      "float(2 ** 50): 24 bits\n",
      "float(2 ** 100): 24 bits\n",
      "float(2 ** 250): 24 bits\n",
      "float(2 ** 500): 24 bits\n",
      "float(2 ** 1000): 24 bits\n"
     ]
    },
    {
     "ename": "OverflowError",
     "evalue": "int too large to convert to float",
     "output_type": "error",
     "traceback": [
      "\u001b[0;31m---------------------------------------------------------------------------\u001b[0m",
      "\u001b[0;31mOverflowError\u001b[0m                             Traceback (most recent call last)",
      "\u001b[0;32m<ipython-input-5-e2b93bd263cf>\u001b[0m in \u001b[0;36m<module>\u001b[0;34m\u001b[0m\n\u001b[1;32m      6\u001b[0m \u001b[0mprint\u001b[0m\u001b[0;34m(\u001b[0m\u001b[0;34m'{}({}): {} bits'\u001b[0m\u001b[0;34m.\u001b[0m\u001b[0mformat\u001b[0m\u001b[0;34m(\u001b[0m\u001b[0mstr\u001b[0m\u001b[0;34m(\u001b[0m\u001b[0mdtype\u001b[0m\u001b[0;34m.\u001b[0m\u001b[0m__name__\u001b[0m\u001b[0;34m)\u001b[0m\u001b[0;34m,\u001b[0m \u001b[0mvalue\u001b[0m\u001b[0;34m,\u001b[0m \u001b[0msys\u001b[0m\u001b[0;34m.\u001b[0m\u001b[0mgetsizeof\u001b[0m\u001b[0;34m(\u001b[0m\u001b[0mvalue\u001b[0m\u001b[0;34m)\u001b[0m\u001b[0;34m)\u001b[0m\u001b[0;34m)\u001b[0m\u001b[0;34m\u001b[0m\u001b[0;34m\u001b[0m\u001b[0m\n\u001b[1;32m      7\u001b[0m \u001b[0;32mfor\u001b[0m \u001b[0mi\u001b[0m \u001b[0;32min\u001b[0m \u001b[0;34m[\u001b[0m\u001b[0;36m0\u001b[0m\u001b[0;34m,\u001b[0m \u001b[0;36m50\u001b[0m\u001b[0;34m,\u001b[0m \u001b[0;36m100\u001b[0m\u001b[0;34m,\u001b[0m \u001b[0;36m250\u001b[0m\u001b[0;34m,\u001b[0m \u001b[0;36m500\u001b[0m\u001b[0;34m,\u001b[0m \u001b[0;36m1000\u001b[0m\u001b[0;34m,\u001b[0m \u001b[0;36m2000\u001b[0m\u001b[0;34m]\u001b[0m\u001b[0;34m:\u001b[0m\u001b[0;34m\u001b[0m\u001b[0;34m\u001b[0m\u001b[0m\n\u001b[0;32m----> 8\u001b[0;31m     \u001b[0mvalue\u001b[0m \u001b[0;34m=\u001b[0m \u001b[0mdtype\u001b[0m\u001b[0;34m(\u001b[0m\u001b[0;36m2\u001b[0m \u001b[0;34m**\u001b[0m \u001b[0mi\u001b[0m\u001b[0;34m)\u001b[0m\u001b[0;34m\u001b[0m\u001b[0;34m\u001b[0m\u001b[0m\n\u001b[0m\u001b[1;32m      9\u001b[0m     \u001b[0mprint\u001b[0m\u001b[0;34m(\u001b[0m\u001b[0;34m'{}({} ** {}): {} bits'\u001b[0m\u001b[0;34m.\u001b[0m\u001b[0mformat\u001b[0m\u001b[0;34m(\u001b[0m\u001b[0mstr\u001b[0m\u001b[0;34m(\u001b[0m\u001b[0mdtype\u001b[0m\u001b[0;34m.\u001b[0m\u001b[0m__name__\u001b[0m\u001b[0;34m)\u001b[0m\u001b[0;34m,\u001b[0m \u001b[0;36m2\u001b[0m\u001b[0;34m,\u001b[0m \u001b[0mi\u001b[0m\u001b[0;34m,\u001b[0m \u001b[0msys\u001b[0m\u001b[0;34m.\u001b[0m\u001b[0mgetsizeof\u001b[0m\u001b[0;34m(\u001b[0m\u001b[0mvalue\u001b[0m\u001b[0;34m)\u001b[0m\u001b[0;34m)\u001b[0m\u001b[0;34m)\u001b[0m\u001b[0;34m\u001b[0m\u001b[0;34m\u001b[0m\u001b[0m\n",
      "\u001b[0;31mOverflowError\u001b[0m: int too large to convert to float"
     ]
    }
   ],
   "source": [
    "import sys\n",
    "\n",
    "dtype = float\n",
    "\n",
    "value = 0\n",
    "print('{}({}): {} bits'.format(str(dtype.__name__), value, sys.getsizeof(value)))\n",
    "for i in [0, 50, 100, 250, 500, 1000, 2000]:\n",
    "    value = dtype(2 ** i)\n",
    "    print('{}({} ** {}): {} bits'.format(str(dtype.__name__), 2, i, sys.getsizeof(value)))"
   ]
  },
  {
   "cell_type": "code",
   "execution_count": 6,
   "metadata": {},
   "outputs": [
    {
     "name": "stdout",
     "output_type": "stream",
     "text": [
      "11.2 ns ± 0.216 ns per loop (mean ± std. dev. of 7 runs, 100000000 loops each)\n"
     ]
    }
   ],
   "source": [
    "%timeit t = 0."
   ]
  },
  {
   "cell_type": "code",
   "execution_count": 7,
   "metadata": {},
   "outputs": [
    {
     "name": "stdout",
     "output_type": "stream",
     "text": [
      "11.1 ns ± 0.0618 ns per loop (mean ± std. dev. of 7 runs, 100000000 loops each)\n"
     ]
    }
   ],
   "source": [
    "%timeit t = 1000."
   ]
  },
  {
   "cell_type": "code",
   "execution_count": 8,
   "metadata": {},
   "outputs": [
    {
     "name": "stdout",
     "output_type": "stream",
     "text": [
      "11.8 ns ± 0.0959 ns per loop (mean ± std. dev. of 7 runs, 100000000 loops each)\n"
     ]
    }
   ],
   "source": [
    "%timeit t = 1000000000000000000000000000000000000000000000000000000000000000000000000000000000000000000000000000000000."
   ]
  },
  {
   "cell_type": "markdown",
   "metadata": {},
   "source": [
    "# Str\n",
    "\n",
    "- Memory: Min size 49 bits. Max size is not limited (length of string plus 49 bits).\n",
    "- Performance: fixed object creation speed (11 ns)"
   ]
  },
  {
   "cell_type": "code",
   "execution_count": 9,
   "metadata": {},
   "outputs": [
    {
     "name": "stdout",
     "output_type": "stream",
     "text": [
      "str(): 49 bits\n",
      "str(2 ** 0): 50 bits (string length 1 + 49)\n",
      "str(2 ** 50): 65 bits (string length 16 + 49)\n",
      "str(2 ** 100): 80 bits (string length 31 + 49)\n",
      "str(2 ** 250): 125 bits (string length 76 + 49)\n",
      "str(2 ** 500): 200 bits (string length 151 + 49)\n",
      "str(2 ** 1000): 351 bits (string length 302 + 49)\n",
      "str(2 ** 2000): 652 bits (string length 603 + 49)\n"
     ]
    }
   ],
   "source": [
    "import sys\n",
    "\n",
    "dtype = str\n",
    "\n",
    "value = ''\n",
    "print('{}({}): {} bits'.format(str(dtype.__name__), value, sys.getsizeof(value)))\n",
    "for i in [0, 50, 100, 250, 500, 1000, 2000]:\n",
    "    value = dtype(2 ** i)\n",
    "    print('{}({} ** {}): {} bits (string length {} + 49)'.format(str(dtype.__name__), 2, i, sys.getsizeof(value), len(value)))"
   ]
  },
  {
   "cell_type": "code",
   "execution_count": 10,
   "metadata": {},
   "outputs": [
    {
     "name": "stdout",
     "output_type": "stream",
     "text": [
      "11 ns ± 0.0459 ns per loop (mean ± std. dev. of 7 runs, 100000000 loops each)\n"
     ]
    }
   ],
   "source": [
    "%timeit t = ''"
   ]
  },
  {
   "cell_type": "code",
   "execution_count": 11,
   "metadata": {},
   "outputs": [
    {
     "name": "stdout",
     "output_type": "stream",
     "text": [
      "12.4 ns ± 0.0849 ns per loop (mean ± std. dev. of 7 runs, 100000000 loops each)\n"
     ]
    }
   ],
   "source": [
    "%timeit t = '1000'"
   ]
  },
  {
   "cell_type": "code",
   "execution_count": 12,
   "metadata": {},
   "outputs": [
    {
     "name": "stdout",
     "output_type": "stream",
     "text": [
      "10.9 ns ± 0.104 ns per loop (mean ± std. dev. of 7 runs, 100000000 loops each)\n"
     ]
    }
   ],
   "source": [
    "%timeit t = '1000000000000000000000000000000000000000000000000000000000000000000000000000000000000000000000000000000000'"
   ]
  },
  {
   "cell_type": "markdown",
   "metadata": {},
   "source": [
    "# List\n",
    "\n",
    "- Memory: Min size 64 bits. Max size is not limited.\n",
    "- Performance: Min wall time 34 ns. Object creation speed grows linearly."
   ]
  },
  {
   "cell_type": "code",
   "execution_count": 13,
   "metadata": {},
   "outputs": [
    {
     "name": "stdout",
     "output_type": "stream",
     "text": [
      "list([]): 64 bits\n",
      "list(elements = 1): 96 bits\n",
      "list(elements = 5): 128 bits\n",
      "list(elements = 50): 560 bits\n",
      "list(elements = 100): 1008 bits\n",
      "list(elements = 250): 2360 bits\n",
      "list(elements = 500): 4608 bits\n",
      "list(elements = 1000): 9112 bits\n",
      "list(elements = 2000): 18112 bits\n"
     ]
    }
   ],
   "source": [
    "import sys\n",
    "\n",
    "dtype = list\n",
    "\n",
    "value = []\n",
    "print('{}({}): {} bits'.format(str(dtype.__name__), value, sys.getsizeof(value)))\n",
    "for i in [1, 5, 50, 100, 250, 500, 1000, 2000]:\n",
    "    value = dtype([x for x in range(i)])\n",
    "    print('{}(elements = {}): {} bits'.format(str(dtype.__name__), i, sys.getsizeof(value), len(value)))"
   ]
  },
  {
   "cell_type": "code",
   "execution_count": 14,
   "metadata": {},
   "outputs": [
    {
     "name": "stdout",
     "output_type": "stream",
     "text": [
      "33.2 ns ± 0.185 ns per loop (mean ± std. dev. of 7 runs, 10000000 loops each)\n"
     ]
    }
   ],
   "source": [
    "%timeit t = [0]"
   ]
  },
  {
   "cell_type": "code",
   "execution_count": 15,
   "metadata": {},
   "outputs": [
    {
     "name": "stdout",
     "output_type": "stream",
     "text": [
      "45.4 ns ± 0.623 ns per loop (mean ± std. dev. of 7 runs, 10000000 loops each)\n"
     ]
    }
   ],
   "source": [
    "%timeit t = [0, 1, 2, 3]"
   ]
  },
  {
   "cell_type": "code",
   "execution_count": 16,
   "metadata": {},
   "outputs": [
    {
     "name": "stdout",
     "output_type": "stream",
     "text": [
      "113 ns ± 0.426 ns per loop (mean ± std. dev. of 7 runs, 10000000 loops each)\n"
     ]
    }
   ],
   "source": [
    "%timeit t = [0, 1, 2, 3, 4, 5, 6, 7, 8, 9, 10, 11, 12, 13, 14, 15]"
   ]
  },
  {
   "cell_type": "markdown",
   "metadata": {},
   "source": [
    "# Tuple\n",
    "\n",
    "- Memory: Min size 48 bits. Max size is not limited.\n",
    "- Performance: Fixed object creation speed."
   ]
  },
  {
   "cell_type": "code",
   "execution_count": 17,
   "metadata": {},
   "outputs": [
    {
     "name": "stdout",
     "output_type": "stream",
     "text": [
      "tuple(()): 48 bits\n",
      "tuple(elements = 1): 56 bits\n",
      "tuple(elements = 5): 88 bits\n",
      "tuple(elements = 50): 448 bits\n",
      "tuple(elements = 100): 848 bits\n",
      "tuple(elements = 250): 2048 bits\n",
      "tuple(elements = 500): 4048 bits\n",
      "tuple(elements = 1000): 8048 bits\n",
      "tuple(elements = 2000): 16048 bits\n"
     ]
    }
   ],
   "source": [
    "import sys\n",
    "\n",
    "dtype = tuple\n",
    "\n",
    "value = ()\n",
    "print('{}({}): {} bits'.format(str(dtype.__name__), value, sys.getsizeof(value)))\n",
    "for i in [1, 5, 50, 100, 250, 500, 1000, 2000]:\n",
    "    value = dtype((x for x in range(i)))\n",
    "    print('{}(elements = {}): {} bits'.format(str(dtype.__name__), i, sys.getsizeof(value), len(value)))"
   ]
  },
  {
   "cell_type": "code",
   "execution_count": 18,
   "metadata": {},
   "outputs": [
    {
     "name": "stdout",
     "output_type": "stream",
     "text": [
      "11 ns ± 0.086 ns per loop (mean ± std. dev. of 7 runs, 100000000 loops each)\n"
     ]
    }
   ],
   "source": [
    "%timeit t = (0)"
   ]
  },
  {
   "cell_type": "code",
   "execution_count": 19,
   "metadata": {},
   "outputs": [
    {
     "name": "stdout",
     "output_type": "stream",
     "text": [
      "11 ns ± 0.144 ns per loop (mean ± std. dev. of 7 runs, 100000000 loops each)\n"
     ]
    }
   ],
   "source": [
    "%timeit t = (0, 1, 2, 3)"
   ]
  },
  {
   "cell_type": "code",
   "execution_count": 20,
   "metadata": {},
   "outputs": [
    {
     "name": "stdout",
     "output_type": "stream",
     "text": [
      "11.2 ns ± 0.0981 ns per loop (mean ± std. dev. of 7 runs, 100000000 loops each)\n"
     ]
    }
   ],
   "source": [
    "%timeit t = (0, 1, 2, 3, 4, 5, 6, 7, 8, 9, 10, 11, 12, 13, 14, 15)"
   ]
  },
  {
   "cell_type": "markdown",
   "metadata": {},
   "source": [
    "# Dict\n",
    "\n",
    "- Memory: Min size 240 bits. Max size is not limited.\n",
    "- Performance: Min wall time 64ns (2x slower than list). Object creation speed grows linearly."
   ]
  },
  {
   "cell_type": "code",
   "execution_count": 21,
   "metadata": {},
   "outputs": [
    {
     "name": "stdout",
     "output_type": "stream",
     "text": [
      "dict({}): 240 bits\n",
      "dict(elements = 1): 240 bits\n",
      "dict(elements = 5): 240 bits\n",
      "dict(elements = 50): 2280 bits\n",
      "dict(elements = 100): 4704 bits\n",
      "dict(elements = 250): 9320 bits\n",
      "dict(elements = 500): 18528 bits\n",
      "dict(elements = 1000): 36968 bits\n",
      "dict(elements = 2000): 73824 bits\n"
     ]
    }
   ],
   "source": [
    "import sys\n",
    "\n",
    "dtype = dict\n",
    "\n",
    "value = {}\n",
    "print('{}({}): {} bits'.format(str(dtype.__name__), value, sys.getsizeof(value)))\n",
    "for i in [1, 5, 50, 100, 250, 500, 1000, 2000]:\n",
    "    value = dtype({x: x for x in range(i)})\n",
    "    print('{}(elements = {}): {} bits'.format(str(dtype.__name__), i, sys.getsizeof(value), len(value)))"
   ]
  },
  {
   "cell_type": "code",
   "execution_count": 22,
   "metadata": {},
   "outputs": [
    {
     "name": "stdout",
     "output_type": "stream",
     "text": [
      "64.2 ns ± 0.319 ns per loop (mean ± std. dev. of 7 runs, 10000000 loops each)\n"
     ]
    }
   ],
   "source": [
    "%timeit t = {0: 0}"
   ]
  },
  {
   "cell_type": "code",
   "execution_count": 23,
   "metadata": {},
   "outputs": [
    {
     "name": "stdout",
     "output_type": "stream",
     "text": [
      "122 ns ± 0.979 ns per loop (mean ± std. dev. of 7 runs, 10000000 loops each)\n"
     ]
    }
   ],
   "source": [
    "%timeit t = {0: 0, 1: 1, 2: 2, 3: 3}"
   ]
  },
  {
   "cell_type": "code",
   "execution_count": 24,
   "metadata": {},
   "outputs": [
    {
     "name": "stdout",
     "output_type": "stream",
     "text": [
      "398 ns ± 5.75 ns per loop (mean ± std. dev. of 7 runs, 1000000 loops each)\n"
     ]
    }
   ],
   "source": [
    "%timeit t = {0: 0, 1: 1, 2: 2, 3: 3, 4: 4, 5: 5, 6: 6, 7: 7, 8: 8, 9: 9, 10: 10, 11: 11, 12: 12, 13: 13, 14: 14, 15: 15}"
   ]
  },
  {
   "cell_type": "markdown",
   "metadata": {},
   "source": [
    "# Sets\n",
    "\n",
    "- Memory: Min memory size 224 bits. Max size is not limited.\n",
    "- Performance: Min wall time 52 ns (1.5x slower than list). Object creation speed grows linearly."
   ]
  },
  {
   "cell_type": "code",
   "execution_count": 25,
   "metadata": {},
   "outputs": [
    {
     "name": "stdout",
     "output_type": "stream",
     "text": [
      "set(set()): 224 bits\n",
      "set(elements = 1): 224 bits\n",
      "set(elements = 5): 480 bits\n",
      "set(elements = 50): 2272 bits\n",
      "set(elements = 100): 4320 bits\n",
      "set(elements = 250): 8416 bits\n",
      "set(elements = 500): 16608 bits\n",
      "set(elements = 1000): 32992 bits\n",
      "set(elements = 2000): 65760 bits\n"
     ]
    }
   ],
   "source": [
    "import sys\n",
    "\n",
    "dtype = set\n",
    "\n",
    "value = set()\n",
    "print('{}({}): {} bits'.format(str(dtype.__name__), value, sys.getsizeof(value)))\n",
    "for i in [1, 5, 50, 100, 250, 500, 1000, 2000]:\n",
    "    value = dtype({x for x in range(i)})\n",
    "    print('{}(elements = {}): {} bits'.format(str(dtype.__name__), i, sys.getsizeof(value), len(value)))"
   ]
  },
  {
   "cell_type": "code",
   "execution_count": 26,
   "metadata": {},
   "outputs": [
    {
     "name": "stdout",
     "output_type": "stream",
     "text": [
      "52.4 ns ± 0.359 ns per loop (mean ± std. dev. of 7 runs, 10000000 loops each)\n"
     ]
    }
   ],
   "source": [
    "%timeit t = {0}"
   ]
  },
  {
   "cell_type": "code",
   "execution_count": 27,
   "metadata": {},
   "outputs": [
    {
     "name": "stdout",
     "output_type": "stream",
     "text": [
      "88.6 ns ± 2.19 ns per loop (mean ± std. dev. of 7 runs, 10000000 loops each)\n"
     ]
    }
   ],
   "source": [
    "%timeit t = {0, 1, 2, 3}"
   ]
  },
  {
   "cell_type": "code",
   "execution_count": 28,
   "metadata": {},
   "outputs": [
    {
     "name": "stdout",
     "output_type": "stream",
     "text": [
      "287 ns ± 2.42 ns per loop (mean ± std. dev. of 7 runs, 1000000 loops each)\n"
     ]
    }
   ],
   "source": [
    "%timeit t = {0, 1, 2, 3, 4, 5, 6, 7, 8, 9, 10, 11, 12, 13, 14, 15}"
   ]
  },
  {
   "cell_type": "code",
   "execution_count": null,
   "metadata": {},
   "outputs": [],
   "source": []
  }
 ],
 "metadata": {
  "kernelspec": {
   "display_name": "Python 3",
   "language": "python",
   "name": "python3"
  },
  "language_info": {
   "codemirror_mode": {
    "name": "ipython",
    "version": 3
   },
   "file_extension": ".py",
   "mimetype": "text/x-python",
   "name": "python",
   "nbconvert_exporter": "python",
   "pygments_lexer": "ipython3",
   "version": "3.6.8"
  }
 },
 "nbformat": 4,
 "nbformat_minor": 4
}
