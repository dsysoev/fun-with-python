{
 "cells": [
  {
   "cell_type": "code",
   "execution_count": 1,
   "metadata": {},
   "outputs": [],
   "source": [
    "%load_ext autoreload\n",
    "%autoreload 2"
   ]
  },
  {
   "cell_type": "code",
   "execution_count": 2,
   "metadata": {},
   "outputs": [],
   "source": [
    "n_times = 3\n",
    "n_samples = 1e8"
   ]
  },
  {
   "cell_type": "markdown",
   "metadata": {},
   "source": [
    "# Pure Python"
   ]
  },
  {
   "cell_type": "code",
   "execution_count": 3,
   "metadata": {},
   "outputs": [
    {
     "data": {
      "text/plain": [
       "55.83274231466445"
      ]
     },
     "execution_count": 3,
     "metadata": {},
     "output_type": "execute_result"
    }
   ],
   "source": [
    "import timeit\n",
    "\n",
    "time = timeit.Timer(\"calc_pi((estimate_total_in_circle({}), ), {})\".format(n_samples, n_samples),\n",
    "                    \"from pi import calc_pi, estimate_total_in_circle\")\n",
    "time.timeit(n_times) / n_times"
   ]
  },
  {
   "cell_type": "markdown",
   "metadata": {},
   "source": [
    "# Numpy"
   ]
  },
  {
   "cell_type": "code",
   "execution_count": 4,
   "metadata": {},
   "outputs": [
    {
     "name": "stdout",
     "output_type": "stream",
     "text": [
      "Overwriting numpy_pi.py\n"
     ]
    }
   ],
   "source": [
    "%%writefile numpy_pi.py\n",
    "\n",
    "import numpy as np\n",
    "\n",
    "\n",
    "def numpy_calc_pi(n_samples):\n",
    "    rand = np.random.uniform(size=(2, int(n_samples)))\n",
    "    count = ((rand ** 2).sum(axis=0) <= 1).sum()\n",
    "    return count * 4 / n_samples\n"
   ]
  },
  {
   "cell_type": "code",
   "execution_count": 5,
   "metadata": {},
   "outputs": [
    {
     "data": {
      "text/plain": [
       "3.14159656"
      ]
     },
     "execution_count": 5,
     "metadata": {},
     "output_type": "execute_result"
    }
   ],
   "source": [
    "from numpy_pi import numpy_calc_pi\n",
    "\n",
    "numpy_calc_pi(n_samples)"
   ]
  },
  {
   "cell_type": "code",
   "execution_count": 6,
   "metadata": {},
   "outputs": [
    {
     "data": {
      "text/plain": [
       "2.7656896013310566"
      ]
     },
     "execution_count": 6,
     "metadata": {},
     "output_type": "execute_result"
    }
   ],
   "source": [
    "import timeit\n",
    "\n",
    "time = timeit.Timer(\"numpy_calc_pi({})\".format(n_samples),\n",
    "                    \"from numpy_pi import numpy_calc_pi\")\n",
    "time.timeit(n_times) / n_times"
   ]
  },
  {
   "cell_type": "markdown",
   "metadata": {},
   "source": [
    "# Joblib\n",
    "\n",
    "pip install joblib"
   ]
  },
  {
   "cell_type": "code",
   "execution_count": 7,
   "metadata": {},
   "outputs": [
    {
     "name": "stdout",
     "output_type": "stream",
     "text": [
      "Overwriting joblib_pi.py\n"
     ]
    }
   ],
   "source": [
    "%%writefile joblib_pi.py\n",
    "\n",
    "from joblib import Parallel, delayed\n",
    "from numpy_pi import numpy_calc_pi\n",
    "\n",
    "\n",
    "def joblib_calc_pi(n_samples, n_jobs):\n",
    "    residual = n_samples % n_jobs\n",
    "    # get number of samples per worker\n",
    "    n_samples_per_worker = int((n_samples - residual) / n_jobs)\n",
    "    n_samples_per_process = (n_samples_per_worker, ) * n_jobs\n",
    "    # apply residual for first worker\n",
    "    n_samples_per_process = (int(n_samples_per_process[0] + residual), ) + n_samples_per_process[1:]\n",
    "    # calc pi in parallel\n",
    "    results = Parallel(n_jobs=n_jobs)(delayed(numpy_calc_pi)(sample) for sample in n_samples_per_process)\n",
    "    \n",
    "    count_list = [res * sample for res, sample in zip(results, n_samples_per_process)]\n",
    "    return sum(count_list) / n_samples\n"
   ]
  },
  {
   "cell_type": "code",
   "execution_count": 8,
   "metadata": {},
   "outputs": [
    {
     "data": {
      "text/plain": [
       "3.14166328"
      ]
     },
     "execution_count": 8,
     "metadata": {},
     "output_type": "execute_result"
    }
   ],
   "source": [
    "from joblib_pi import joblib_calc_pi\n",
    "\n",
    "joblib_calc_pi(n_samples, 2)"
   ]
  },
  {
   "cell_type": "code",
   "execution_count": 9,
   "metadata": {},
   "outputs": [
    {
     "data": {
      "text/plain": [
       "2.714584996002183"
      ]
     },
     "execution_count": 9,
     "metadata": {},
     "output_type": "execute_result"
    }
   ],
   "source": [
    "import timeit\n",
    "\n",
    "time = timeit.Timer(\"joblib_calc_pi({}, 1)\".format(n_samples),\n",
    "                    \"from joblib_pi import joblib_calc_pi\")\n",
    "time.timeit(n_times) / n_times"
   ]
  },
  {
   "cell_type": "code",
   "execution_count": 10,
   "metadata": {},
   "outputs": [
    {
     "name": "stderr",
     "output_type": "stream",
     "text": [
      "100%|██████████| 8/8 [00:35<00:00,  4.49s/it]\n"
     ]
    }
   ],
   "source": [
    "import tqdm\n",
    "import timeit\n",
    "from multiprocessing import cpu_count\n",
    "\n",
    "results = {}\n",
    "for i in tqdm.tqdm(range(1, cpu_count() + 1)):\n",
    "    time = timeit.Timer(\"joblib_calc_pi({}, {})\".format(n_samples, i),\n",
    "                        \"from joblib_pi import joblib_calc_pi\")\n",
    "    results[i] = time.timeit(n_times) / n_times\n"
   ]
  },
  {
   "cell_type": "code",
   "execution_count": 11,
   "metadata": {},
   "outputs": [
    {
     "data": {
      "text/html": [
       "<div>\n",
       "<style scoped>\n",
       "    .dataframe tbody tr th:only-of-type {\n",
       "        vertical-align: middle;\n",
       "    }\n",
       "\n",
       "    .dataframe tbody tr th {\n",
       "        vertical-align: top;\n",
       "    }\n",
       "\n",
       "    .dataframe thead th {\n",
       "        text-align: right;\n",
       "    }\n",
       "</style>\n",
       "<table border=\"1\" class=\"dataframe\">\n",
       "  <thead>\n",
       "    <tr style=\"text-align: right;\">\n",
       "      <th></th>\n",
       "      <th>0</th>\n",
       "      <th>1</th>\n",
       "      <th>2</th>\n",
       "      <th>3</th>\n",
       "      <th>4</th>\n",
       "    </tr>\n",
       "  </thead>\n",
       "  <tbody>\n",
       "    <tr>\n",
       "      <th>number of process</th>\n",
       "      <td>1</td>\n",
       "      <td>2</td>\n",
       "      <td>3</td>\n",
       "      <td>4</td>\n",
       "      <td>5</td>\n",
       "    </tr>\n",
       "    <tr>\n",
       "      <th>time, s</th>\n",
       "      <td>2.7486</td>\n",
       "      <td>1.6518</td>\n",
       "      <td>1.4283</td>\n",
       "      <td>1.2574</td>\n",
       "      <td>1.2492</td>\n",
       "    </tr>\n",
       "    <tr>\n",
       "      <th>versus one</th>\n",
       "      <td>1</td>\n",
       "      <td>1.664</td>\n",
       "      <td>1.9244</td>\n",
       "      <td>2.186</td>\n",
       "      <td>2.2002</td>\n",
       "    </tr>\n",
       "    <tr>\n",
       "      <th>parallel loss</th>\n",
       "      <td>0</td>\n",
       "      <td>0.168</td>\n",
       "      <td>0.3585</td>\n",
       "      <td>0.4535</td>\n",
       "      <td>0.56</td>\n",
       "    </tr>\n",
       "  </tbody>\n",
       "</table>\n",
       "</div>"
      ],
      "text/plain": [
       "                        0       1       2       3       4\n",
       "number of process       1       2       3       4       5\n",
       "time, s            2.7486  1.6518  1.4283  1.2574  1.2492\n",
       "versus one              1   1.664  1.9244   2.186  2.2002\n",
       "parallel loss           0   0.168  0.3585  0.4535    0.56"
      ]
     },
     "execution_count": 11,
     "metadata": {},
     "output_type": "execute_result"
    }
   ],
   "source": [
    "import pandas as pd\n",
    "\n",
    "df = pd.Series(results).to_frame()\n",
    "df.reset_index(inplace=True)\n",
    "df.columns = ['number of process', 'time, s']\n",
    "df['versus one'] = df.loc[0]['time, s'] / df['time, s']\n",
    "df['parallel loss'] = 1 - df['versus one'] / df['number of process']\n",
    "df['number of process'] = df['number of process'].astype(str)\n",
    "df = df.round(4)\n",
    "df.head().T"
   ]
  },
  {
   "cell_type": "code",
   "execution_count": 12,
   "metadata": {},
   "outputs": [
    {
     "data": {
      "application/vnd.vegalite.v3+json": {
       "$schema": "https://vega.github.io/schema/vega-lite/v3.4.0.json",
       "config": {
        "mark": {
         "tooltip": null
        },
        "view": {
         "height": 300,
         "width": 400
        }
       },
       "data": {
        "name": "data-a8b82df650d92d0b02c89cb0e879f4cb"
       },
       "datasets": {
        "data-a8b82df650d92d0b02c89cb0e879f4cb": [
         {
          "number of process": "1",
          "parallel loss": 0,
          "time, s": 2.7486,
          "versus one": 1
         },
         {
          "number of process": "2",
          "parallel loss": 0.168,
          "time, s": 1.6518,
          "versus one": 1.664
         },
         {
          "number of process": "3",
          "parallel loss": 0.3585,
          "time, s": 1.4283,
          "versus one": 1.9244
         },
         {
          "number of process": "4",
          "parallel loss": 0.4535,
          "time, s": 1.2574,
          "versus one": 2.186
         },
         {
          "number of process": "5",
          "parallel loss": 0.56,
          "time, s": 1.2492,
          "versus one": 2.2002
         },
         {
          "number of process": "6",
          "parallel loss": 0.5977,
          "time, s": 1.1388,
          "versus one": 2.4135
         },
         {
          "number of process": "7",
          "parallel loss": 0.674,
          "time, s": 1.2043,
          "versus one": 2.2823
         },
         {
          "number of process": "8",
          "parallel loss": 0.7343,
          "time, s": 1.2931,
          "versus one": 2.1256
         }
        ]
       },
       "encoding": {
        "x": {
         "field": "number of process",
         "type": "nominal"
        },
        "y": {
         "field": "time, s",
         "type": "quantitative"
        }
       },
       "height": 300,
       "mark": "area",
       "title": "Execution time depends of number of process",
       "width": 500
      },
      "image/png": "[encoded data removed]",
      "text/plain": [
       "<VegaLite 3 object>\n",
       "\n",
       "If you see this message, it means the renderer has not been properly enabled\n",
       "for the frontend that you are using. For more information, see\n",
       "https://altair-viz.github.io/user_guide/troubleshooting.html\n"
      ]
     },
     "execution_count": 12,
     "metadata": {},
     "output_type": "execute_result"
    }
   ],
   "source": [
    "import altair as alt\n",
    "\n",
    "alt.Chart(df).mark_area().encode(\n",
    "    x='number of process',\n",
    "    y='time, s'\n",
    ").properties(\n",
    "    title='Execution time depends of number of process',\n",
    "    width=500,\n",
    "    height=300\n",
    ")"
   ]
  },
  {
   "cell_type": "code",
   "execution_count": 13,
   "metadata": {},
   "outputs": [
    {
     "data": {
      "application/vnd.vegalite.v3+json": {
       "$schema": "https://vega.github.io/schema/vega-lite/v3.4.0.json",
       "config": {
        "mark": {
         "tooltip": null
        },
        "view": {
         "height": 300,
         "width": 400
        }
       },
       "data": {
        "name": "data-a8b82df650d92d0b02c89cb0e879f4cb"
       },
       "datasets": {
        "data-a8b82df650d92d0b02c89cb0e879f4cb": [
         {
          "number of process": "1",
          "parallel loss": 0,
          "time, s": 2.7486,
          "versus one": 1
         },
         {
          "number of process": "2",
          "parallel loss": 0.168,
          "time, s": 1.6518,
          "versus one": 1.664
         },
         {
          "number of process": "3",
          "parallel loss": 0.3585,
          "time, s": 1.4283,
          "versus one": 1.9244
         },
         {
          "number of process": "4",
          "parallel loss": 0.4535,
          "time, s": 1.2574,
          "versus one": 2.186
         },
         {
          "number of process": "5",
          "parallel loss": 0.56,
          "time, s": 1.2492,
          "versus one": 2.2002
         },
         {
          "number of process": "6",
          "parallel loss": 0.5977,
          "time, s": 1.1388,
          "versus one": 2.4135
         },
         {
          "number of process": "7",
          "parallel loss": 0.674,
          "time, s": 1.2043,
          "versus one": 2.2823
         },
         {
          "number of process": "8",
          "parallel loss": 0.7343,
          "time, s": 1.2931,
          "versus one": 2.1256
         }
        ]
       },
       "encoding": {
        "x": {
         "field": "number of process",
         "type": "nominal"
        },
        "y": {
         "field": "versus one",
         "type": "quantitative"
        }
       },
       "height": 300,
       "mark": "area",
       "title": "Times faster than one process",
       "width": 500
      },
      "image/png": "[encoded data removed]",
      "text/plain": [
       "<VegaLite 3 object>\n",
       "\n",
       "If you see this message, it means the renderer has not been properly enabled\n",
       "for the frontend that you are using. For more information, see\n",
       "https://altair-viz.github.io/user_guide/troubleshooting.html\n"
      ]
     },
     "execution_count": 13,
     "metadata": {},
     "output_type": "execute_result"
    }
   ],
   "source": [
    "import altair as alt\n",
    "\n",
    "alt.Chart(df).mark_area().encode(\n",
    "    x='number of process',\n",
    "    y='versus one'\n",
    ").properties(\n",
    "    title='Times faster than one process',\n",
    "    width=500,\n",
    "    height=300\n",
    ")"
   ]
  },
  {
   "cell_type": "code",
   "execution_count": 14,
   "metadata": {},
   "outputs": [
    {
     "data": {
      "application/vnd.vegalite.v3+json": {
       "$schema": "https://vega.github.io/schema/vega-lite/v3.4.0.json",
       "config": {
        "mark": {
         "tooltip": null
        },
        "view": {
         "height": 300,
         "width": 400
        }
       },
       "data": {
        "name": "data-a8b82df650d92d0b02c89cb0e879f4cb"
       },
       "datasets": {
        "data-a8b82df650d92d0b02c89cb0e879f4cb": [
         {
          "number of process": "1",
          "parallel loss": 0,
          "time, s": 2.7486,
          "versus one": 1
         },
         {
          "number of process": "2",
          "parallel loss": 0.168,
          "time, s": 1.6518,
          "versus one": 1.664
         },
         {
          "number of process": "3",
          "parallel loss": 0.3585,
          "time, s": 1.4283,
          "versus one": 1.9244
         },
         {
          "number of process": "4",
          "parallel loss": 0.4535,
          "time, s": 1.2574,
          "versus one": 2.186
         },
         {
          "number of process": "5",
          "parallel loss": 0.56,
          "time, s": 1.2492,
          "versus one": 2.2002
         },
         {
          "number of process": "6",
          "parallel loss": 0.5977,
          "time, s": 1.1388,
          "versus one": 2.4135
         },
         {
          "number of process": "7",
          "parallel loss": 0.674,
          "time, s": 1.2043,
          "versus one": 2.2823
         },
         {
          "number of process": "8",
          "parallel loss": 0.7343,
          "time, s": 1.2931,
          "versus one": 2.1256
         }
        ]
       },
       "encoding": {
        "x": {
         "field": "number of process",
         "type": "nominal"
        },
        "y": {
         "field": "parallel loss",
         "type": "quantitative"
        }
       },
       "height": 300,
       "mark": "area",
       "title": "Loss of Perfect Parallelization",
       "width": 500
      },
      "image/png": "[encoded data removed]",
      "text/plain": [
       "<VegaLite 3 object>\n",
       "\n",
       "If you see this message, it means the renderer has not been properly enabled\n",
       "for the frontend that you are using. For more information, see\n",
       "https://altair-viz.github.io/user_guide/troubleshooting.html\n"
      ]
     },
     "execution_count": 14,
     "metadata": {},
     "output_type": "execute_result"
    }
   ],
   "source": [
    "import altair as alt\n",
    "\n",
    "alt.Chart(df).mark_area().encode(\n",
    "    x='number of process',\n",
    "    y='parallel loss'\n",
    ").properties(\n",
    "    title='Loss of Perfect Parallelization',\n",
    "    width=500,\n",
    "    height=300\n",
    ")"
   ]
  },
  {
   "cell_type": "markdown",
   "metadata": {},
   "source": [
    "# Numexpr\n",
    "\n",
    "pip install numexpr"
   ]
  },
  {
   "cell_type": "code",
   "execution_count": 15,
   "metadata": {},
   "outputs": [
    {
     "name": "stdout",
     "output_type": "stream",
     "text": [
      "Overwriting numexpr_pi.py\n"
     ]
    }
   ],
   "source": [
    "%%writefile numexpr_pi.py\n",
    "\n",
    "import numexpr as ne\n",
    "import numpy as np\n",
    "\n",
    "\n",
    "def numexpr_pi(n_samples):\n",
    "    rand = np.random.uniform(size=(2, int(n_samples)))\n",
    "    s = ne.evaluate(\"sum(rand ** 2, axis=0)\")\n",
    "    return ne.evaluate(\"sum(where(s <= 1, 1, 0))\") * 4 / n_samples\n"
   ]
  },
  {
   "cell_type": "code",
   "execution_count": 16,
   "metadata": {},
   "outputs": [
    {
     "data": {
      "text/plain": [
       "3.14163184"
      ]
     },
     "execution_count": 16,
     "metadata": {},
     "output_type": "execute_result"
    }
   ],
   "source": [
    "from numexpr_pi import numexpr_pi\n",
    "\n",
    "numexpr_pi(n_samples)"
   ]
  },
  {
   "cell_type": "code",
   "execution_count": 17,
   "metadata": {},
   "outputs": [
    {
     "data": {
      "text/plain": [
       "3.052737187332241"
      ]
     },
     "execution_count": 17,
     "metadata": {},
     "output_type": "execute_result"
    }
   ],
   "source": [
    "import timeit\n",
    "\n",
    "time = timeit.Timer(\"numexpr_pi({})\".format(n_samples),\n",
    "                    \"from numexpr_pi import numexpr_pi\")\n",
    "time.timeit(n_times) / n_times"
   ]
  },
  {
   "cell_type": "markdown",
   "metadata": {},
   "source": [
    "# Numba\n",
    "\n",
    "pip install numba"
   ]
  },
  {
   "cell_type": "code",
   "execution_count": 18,
   "metadata": {},
   "outputs": [
    {
     "name": "stdout",
     "output_type": "stream",
     "text": [
      "Overwriting numba_pi.py\n"
     ]
    }
   ],
   "source": [
    "%%writefile numba_pi.py\n",
    "\n",
    "from numba import jit\n",
    "import numpy as np\n",
    "\n",
    "\n",
    "@jit(forceobj=True)\n",
    "def numpy_calc_pi(n_samples):\n",
    "    rand = np.random.uniform(size=(2, int(n_samples)))\n",
    "    count = ((rand ** 2).sum(axis=0) <= 1).sum()\n",
    "    return count * 4 / n_samples\n"
   ]
  },
  {
   "cell_type": "code",
   "execution_count": 19,
   "metadata": {},
   "outputs": [
    {
     "data": {
      "text/plain": [
       "3.14147396"
      ]
     },
     "execution_count": 19,
     "metadata": {},
     "output_type": "execute_result"
    }
   ],
   "source": [
    "from numba_pi import numpy_calc_pi\n",
    "\n",
    "numpy_calc_pi(n_samples)"
   ]
  },
  {
   "cell_type": "code",
   "execution_count": 20,
   "metadata": {},
   "outputs": [
    {
     "data": {
      "text/plain": [
       "2.7955577683314914"
      ]
     },
     "execution_count": 20,
     "metadata": {},
     "output_type": "execute_result"
    }
   ],
   "source": [
    "import timeit\n",
    "\n",
    "time = timeit.Timer(\"numpy_calc_pi({})\".format(n_samples),\n",
    "                    \"from numba_pi import numpy_calc_pi\")\n",
    "time.timeit(n_times) / n_times"
   ]
  },
  {
   "cell_type": "markdown",
   "metadata": {},
   "source": [
    "# Conclusion\n",
    "\n",
    "- Numpy ~20x faster (2.8 vs 56 s) than pure python\n",
    "- Joblib efficient up to number of phisical processors (speed up = n_cores / 2)\n",
    "- Numexpr the same performance as numpy\n",
    "- Numba the same performance as numpy"
   ]
  },
  {
   "cell_type": "code",
   "execution_count": null,
   "metadata": {},
   "outputs": [],
   "source": []
  }
 ],
 "metadata": {
  "kernelspec": {
   "display_name": "Python 3",
   "language": "python",
   "name": "python3"
  },
  "language_info": {
   "codemirror_mode": {
    "name": "ipython",
    "version": 3
   },
   "file_extension": ".py",
   "mimetype": "text/x-python",
   "name": "python",
   "nbconvert_exporter": "python",
   "pygments_lexer": "ipython3",
   "version": "3.6.8"
  }
 },
 "nbformat": 4,
 "nbformat_minor": 4
}
