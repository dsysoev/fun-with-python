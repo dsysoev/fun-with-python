{
 "cells": [
  {
   "cell_type": "code",
   "execution_count": 1,
   "metadata": {},
   "outputs": [],
   "source": [
    "results = {}"
   ]
  },
  {
   "cell_type": "markdown",
   "metadata": {},
   "source": [
    "# Int\n",
    "\n",
    "- Memory: Min size 24 bits. Max size is not limited.\n",
    "- Performance: fixed object creation speed (11 ns)"
   ]
  },
  {
   "cell_type": "code",
   "execution_count": 2,
   "metadata": {},
   "outputs": [
    {
     "name": "stdout",
     "output_type": "stream",
     "text": [
      "int(0): 24 bits\n",
      "int(2 ** 0): 28 bits\n",
      "int(2 ** 1): 28 bits\n",
      "int(2 ** 128): 44 bits\n",
      "int(2 ** 512): 96 bits\n",
      "int(2 ** 1023): 164 bits\n",
      "int(2 ** 2048): 300 bits\n"
     ]
    }
   ],
   "source": [
    "import sys\n",
    "\n",
    "dtype = int\n",
    "\n",
    "value = 0\n",
    "print('{}({}): {} bits'.format(str(dtype.__name__), value, sys.getsizeof(value)))\n",
    "for i in [0, 1, 128, 512, 1023, 2048]:\n",
    "    value = dtype(2 ** i)\n",
    "    print('{}({} ** {}): {} bits'.format(str(dtype.__name__), 2, i, sys.getsizeof(value)))"
   ]
  },
  {
   "cell_type": "code",
   "execution_count": 3,
   "metadata": {},
   "outputs": [
    {
     "name": "stdout",
     "output_type": "stream",
     "text": [
      "11.9 ns ± 0.0454 ns per loop (mean ± std. dev. of 7 runs, 100000000 loops each)\n",
      "11.1 ns ± 0.0871 ns per loop (mean ± std. dev. of 7 runs, 100000000 loops each)\n",
      "10.8 ns ± 0.0525 ns per loop (mean ± std. dev. of 7 runs, 100000000 loops each)\n"
     ]
    }
   ],
   "source": [
    "v0 = %timeit -o t = 0\n",
    "v1 = %timeit -o t = 1000\n",
    "v2 = %timeit -o t = 1000000000000000000000000000000000000000000000000000000000000000000000000000000000000000000000000000000000\n",
    "\n",
    "results['int'] = [v0.average, v1.average, v2.average]"
   ]
  },
  {
   "cell_type": "code",
   "execution_count": 4,
   "metadata": {},
   "outputs": [
    {
     "name": "stdout",
     "output_type": "stream",
     "text": [
      "92.2 ns ± 1.14 ns per loop (mean ± std. dev. of 7 runs, 10000000 loops each)\n"
     ]
    }
   ],
   "source": [
    "%timeit t = int(0)"
   ]
  },
  {
   "cell_type": "markdown",
   "metadata": {},
   "source": [
    "# Float\n",
    "\n",
    "- Memory: Min and max size 24 bits.\n",
    "- Performance: fixed object creation speed (11 ns). The same as int."
   ]
  },
  {
   "cell_type": "code",
   "execution_count": 5,
   "metadata": {},
   "outputs": [
    {
     "name": "stdout",
     "output_type": "stream",
     "text": [
      "float(0): 24 bits\n",
      "float(2 ** 0): 24 bits\n",
      "float(2 ** 1): 24 bits\n",
      "float(2 ** 128): 24 bits\n",
      "float(2 ** 512): 24 bits\n",
      "float(2 ** 1023): 24 bits\n",
      "Exception float(2 ** 2048). int too large to convert to float\n"
     ]
    }
   ],
   "source": [
    "import sys\n",
    "\n",
    "dtype = float\n",
    "\n",
    "value = 0\n",
    "print('{}({}): {} bits'.format(str(dtype.__name__), value, sys.getsizeof(value)))\n",
    "for i in [0, 1, 128, 512, 1023, 2048]:\n",
    "    try:\n",
    "        value = dtype(2 ** i)\n",
    "    except OverflowError as e:\n",
    "        print(\"Exception {}({} ** {}). {}\".format(str(dtype.__name__), 2, i, e))\n",
    "        continue\n",
    "    print('{}({} ** {}): {} bits'.format(str(dtype.__name__), 2, i, sys.getsizeof(value)))"
   ]
  },
  {
   "cell_type": "code",
   "execution_count": 6,
   "metadata": {},
   "outputs": [
    {
     "data": {
      "text/plain": [
       "sys.float_info(max=1.7976931348623157e+308, max_exp=1024, max_10_exp=308, min=2.2250738585072014e-308, min_exp=-1021, min_10_exp=-307, dig=15, mant_dig=53, epsilon=2.220446049250313e-16, radix=2, rounds=1)"
      ]
     },
     "execution_count": 6,
     "metadata": {},
     "output_type": "execute_result"
    }
   ],
   "source": [
    "# max exp = 1024\n",
    "sys.float_info"
   ]
  },
  {
   "cell_type": "code",
   "execution_count": 7,
   "metadata": {},
   "outputs": [
    {
     "name": "stdout",
     "output_type": "stream",
     "text": [
      "10.9 ns ± 0.0909 ns per loop (mean ± std. dev. of 7 runs, 100000000 loops each)\n",
      "10.9 ns ± 0.0548 ns per loop (mean ± std. dev. of 7 runs, 100000000 loops each)\n",
      "11 ns ± 0.0667 ns per loop (mean ± std. dev. of 7 runs, 100000000 loops each)\n"
     ]
    }
   ],
   "source": [
    "v0 = %timeit -o t = 0.\n",
    "v1 = %timeit -o t = 1000.\n",
    "v2 = %timeit -o t = 1000000000000000000000000000000000000000000000000000000000000000000000000000000000000000000000000000000000.\n",
    "\n",
    "results['float'] = [v0.average, v1.average, v2.average]"
   ]
  },
  {
   "cell_type": "code",
   "execution_count": 8,
   "metadata": {},
   "outputs": [
    {
     "name": "stdout",
     "output_type": "stream",
     "text": [
      "95.1 ns ± 2.12 ns per loop (mean ± std. dev. of 7 runs, 10000000 loops each)\n"
     ]
    }
   ],
   "source": [
    "%timeit t = float(0.)"
   ]
  },
  {
   "cell_type": "markdown",
   "metadata": {},
   "source": [
    "# Complex\n",
    "\n",
    "- Memory: Min and max size 32 bits.\n",
    "- Performance: fixed object creation speed (157 ns). 15x slower than int."
   ]
  },
  {
   "cell_type": "code",
   "execution_count": 9,
   "metadata": {},
   "outputs": [
    {
     "name": "stdout",
     "output_type": "stream",
     "text": [
      "complex(0j): 32 bits\n",
      "complex(2 ** 0): 32 bits\n",
      "complex(2 ** 1): 32 bits\n",
      "complex(2 ** 128): 32 bits\n",
      "complex(2 ** 512): 32 bits\n",
      "complex(2 ** 1023): 32 bits\n",
      "Exception complex(2 ** 2048). int too large to convert to float\n"
     ]
    }
   ],
   "source": [
    "import sys\n",
    "\n",
    "dtype = complex\n",
    "\n",
    "value = complex(0, 0)\n",
    "print('{}({}): {} bits'.format(str(dtype.__name__), value, sys.getsizeof(value)))\n",
    "for i in [0, 1, 128, 512, 1023, 2048]:\n",
    "    try:\n",
    "        value = dtype(2 ** i, 2 ** -i)\n",
    "    except OverflowError as e:\n",
    "        print(\"Exception {}({} ** {}). {}\".format(str(dtype.__name__), 2, i, e))\n",
    "        continue\n",
    "    print('{}({} ** {}): {} bits'.format(str(dtype.__name__), 2, i, sys.getsizeof(value)))"
   ]
  },
  {
   "cell_type": "code",
   "execution_count": 10,
   "metadata": {},
   "outputs": [
    {
     "name": "stdout",
     "output_type": "stream",
     "text": [
      "161 ns ± 0.899 ns per loop (mean ± std. dev. of 7 runs, 10000000 loops each)\n",
      "162 ns ± 0.946 ns per loop (mean ± std. dev. of 7 runs, 10000000 loops each)\n",
      "165 ns ± 4.72 ns per loop (mean ± std. dev. of 7 runs, 10000000 loops each)\n"
     ]
    }
   ],
   "source": [
    "v0 = %timeit -o t = complex(0., 0.)\n",
    "v1 = %timeit -o t = complex(1000., 0.0001)\n",
    "v2 = %timeit -o t = complex(1000000000000000000000000000000000000000000000000000000000000000000000000000000000000000000000000000000000., 0.000000001)\n",
    "\n",
    "results['complex'] = [v0.average, v1.average, v2.average]"
   ]
  },
  {
   "cell_type": "markdown",
   "metadata": {},
   "source": [
    "# Str\n",
    "\n",
    "- Memory: Min size 49 bits. Max size is not limited (length of string plus 49 bits).\n",
    "- Performance: fixed object creation speed (11 ns). The same as int."
   ]
  },
  {
   "cell_type": "code",
   "execution_count": 11,
   "metadata": {},
   "outputs": [
    {
     "name": "stdout",
     "output_type": "stream",
     "text": [
      "str(): 49 bits\n",
      "str(2 ** 0): 50 bits (string length 1 + 49)\n",
      "str(2 ** 1): 50 bits (string length 1 + 49)\n",
      "str(2 ** 128): 88 bits (string length 39 + 49)\n",
      "str(2 ** 512): 204 bits (string length 155 + 49)\n",
      "str(2 ** 1023): 357 bits (string length 308 + 49)\n",
      "str(2 ** 2048): 666 bits (string length 617 + 49)\n"
     ]
    }
   ],
   "source": [
    "import sys\n",
    "\n",
    "dtype = str\n",
    "\n",
    "value = ''\n",
    "print('{}({}): {} bits'.format(str(dtype.__name__), value, sys.getsizeof(value)))\n",
    "for i in [0, 1, 128, 512, 1023, 2048]:\n",
    "    value = dtype(2 ** i)\n",
    "    print('{}({} ** {}): {} bits (string length {} + 49)'.format(str(dtype.__name__), 2, i, sys.getsizeof(value), len(value)))"
   ]
  },
  {
   "cell_type": "code",
   "execution_count": 12,
   "metadata": {},
   "outputs": [
    {
     "name": "stdout",
     "output_type": "stream",
     "text": [
      "10.9 ns ± 0.104 ns per loop (mean ± std. dev. of 7 runs, 100000000 loops each)\n",
      "11.1 ns ± 0.0248 ns per loop (mean ± std. dev. of 7 runs, 100000000 loops each)\n",
      "11 ns ± 0.0709 ns per loop (mean ± std. dev. of 7 runs, 100000000 loops each)\n"
     ]
    }
   ],
   "source": [
    "v0 = %timeit -o t = ''\n",
    "v1 = %timeit -o t = '1000'\n",
    "v2 = %timeit -o t = '1000000000000000000000000000000000000000000000000000000000000000000000000000000000000000000000000000000000'\n",
    "\n",
    "results['str'] = [v0.average, v1.average, v2.average]"
   ]
  },
  {
   "cell_type": "code",
   "execution_count": 13,
   "metadata": {},
   "outputs": [
    {
     "name": "stdout",
     "output_type": "stream",
     "text": [
      "95 ns ± 0.317 ns per loop (mean ± std. dev. of 7 runs, 10000000 loops each)\n"
     ]
    }
   ],
   "source": [
    "%timeit t = str('')"
   ]
  },
  {
   "cell_type": "markdown",
   "metadata": {},
   "source": [
    "# List\n",
    "\n",
    "- Memory: Min size 64 bits. Max size is not limited.\n",
    "- Performance: Min wall time 34 ns (3x slower than int). Object creation speed grows linearly."
   ]
  },
  {
   "cell_type": "code",
   "execution_count": 14,
   "metadata": {},
   "outputs": [
    {
     "name": "stdout",
     "output_type": "stream",
     "text": [
      "list([]): 64 bits\n",
      "list(elements = 0): 64 bits\n",
      "list(elements = 1): 96 bits\n",
      "list(elements = 128): 1264 bits\n",
      "list(elements = 512): 4720 bits\n",
      "list(elements = 1023): 9312 bits\n",
      "list(elements = 2048): 18544 bits\n"
     ]
    }
   ],
   "source": [
    "import sys\n",
    "\n",
    "dtype = list\n",
    "\n",
    "value = []\n",
    "print('{}({}): {} bits'.format(str(dtype.__name__), value, sys.getsizeof(value)))\n",
    "for i in [0, 1, 128, 512, 1023, 2048]:\n",
    "    value = dtype([x for x in range(i)])\n",
    "    print('{}(elements = {}): {} bits'.format(str(dtype.__name__), i, sys.getsizeof(value), len(value)))"
   ]
  },
  {
   "cell_type": "code",
   "execution_count": 15,
   "metadata": {},
   "outputs": [
    {
     "name": "stdout",
     "output_type": "stream",
     "text": [
      "36.5 ns ± 0.403 ns per loop (mean ± std. dev. of 7 runs, 10000000 loops each)\n",
      "62.2 ns ± 0.554 ns per loop (mean ± std. dev. of 7 runs, 10000000 loops each)\n",
      "176 ns ± 2.14 ns per loop (mean ± std. dev. of 7 runs, 10000000 loops each)\n"
     ]
    }
   ],
   "source": [
    "v0 = %timeit -o t = [0, 1]\n",
    "v1 = %timeit -o t = [0, 1, 2, 3, 4, 5, 6, 7]\n",
    "v2 = %timeit -o t = [0, 1, 2, 3, 4, 5, 6, 7, 8, 9, 10, 11, 12, 13, 14, 15,\\\n",
    "                     16, 17, 18, 19, 20, 21, 22, 23, 24, 25, 26, 27, 28, 29, 30, 31]\n",
    "\n",
    "results['list'] = [v0.average, v1.average, v2.average]"
   ]
  },
  {
   "cell_type": "code",
   "execution_count": 16,
   "metadata": {},
   "outputs": [
    {
     "name": "stdout",
     "output_type": "stream",
     "text": [
      "125 ns ± 1.01 ns per loop (mean ± std. dev. of 7 runs, 10000000 loops each)\n"
     ]
    }
   ],
   "source": [
    "%timeit t = list([])"
   ]
  },
  {
   "cell_type": "markdown",
   "metadata": {},
   "source": [
    "# Tuple\n",
    "\n",
    "- Memory: Min size 48 bits. Max size is not limited.\n",
    "- Performance: Fixed object creation speed (11 ns). The same as int. (Awesome!)"
   ]
  },
  {
   "cell_type": "code",
   "execution_count": 17,
   "metadata": {},
   "outputs": [
    {
     "name": "stdout",
     "output_type": "stream",
     "text": [
      "tuple(()): 48 bits\n",
      "tuple(elements = 0): 48 bits\n",
      "tuple(elements = 1): 56 bits\n",
      "tuple(elements = 128): 1072 bits\n",
      "tuple(elements = 512): 4144 bits\n",
      "tuple(elements = 1023): 8232 bits\n",
      "tuple(elements = 2048): 16432 bits\n"
     ]
    }
   ],
   "source": [
    "import sys\n",
    "\n",
    "dtype = tuple\n",
    "\n",
    "value = ()\n",
    "print('{}({}): {} bits'.format(str(dtype.__name__), value, sys.getsizeof(value)))\n",
    "for i in [0, 1, 128, 512, 1023, 2048]:\n",
    "    value = dtype((x for x in range(i)))\n",
    "    print('{}(elements = {}): {} bits'.format(str(dtype.__name__), i, sys.getsizeof(value), len(value)))"
   ]
  },
  {
   "cell_type": "code",
   "execution_count": 18,
   "metadata": {},
   "outputs": [
    {
     "name": "stdout",
     "output_type": "stream",
     "text": [
      "11 ns ± 0.109 ns per loop (mean ± std. dev. of 7 runs, 100000000 loops each)\n",
      "12.2 ns ± 0.975 ns per loop (mean ± std. dev. of 7 runs, 100000000 loops each)\n",
      "11.3 ns ± 0.279 ns per loop (mean ± std. dev. of 7 runs, 100000000 loops each)\n"
     ]
    }
   ],
   "source": [
    "v0 = %timeit -o t = (0, 1)\n",
    "v1 = %timeit -o t = (0, 1, 2, 3, 4, 5, 6, 7)\n",
    "v2 = %timeit -o t = (0, 1, 2, 3, 4, 5, 6, 7, 8, 9, 10, 11, 12, 13, 14, 15,\\\n",
    "                     16, 17, 18, 19, 20, 21, 22, 23, 24, 25, 26, 27, 28, 29, 30, 31)\n",
    "\n",
    "results['tuple'] = [v0.average, v1.average, v2.average]"
   ]
  },
  {
   "cell_type": "code",
   "execution_count": 19,
   "metadata": {},
   "outputs": [
    {
     "name": "stdout",
     "output_type": "stream",
     "text": [
      "74.9 ns ± 2.8 ns per loop (mean ± std. dev. of 7 runs, 10000000 loops each)\n"
     ]
    }
   ],
   "source": [
    "%timeit t = tuple()"
   ]
  },
  {
   "cell_type": "markdown",
   "metadata": {},
   "source": [
    "# Dict\n",
    "\n",
    "- Memory: Min size 240 bits. Max size is not limited.\n",
    "- Performance: Min wall time 64ns (2x slower than list). Object creation speed grows linearly. (4x slower than list)"
   ]
  },
  {
   "cell_type": "code",
   "execution_count": 20,
   "metadata": {},
   "outputs": [
    {
     "name": "stdout",
     "output_type": "stream",
     "text": [
      "dict({}): 240 bits\n",
      "dict(elements = 0): 240 bits\n",
      "dict(elements = 1): 240 bits\n",
      "dict(elements = 128): 4704 bits\n",
      "dict(elements = 512): 18528 bits\n",
      "dict(elements = 1023): 36968 bits\n",
      "dict(elements = 2048): 73824 bits\n"
     ]
    }
   ],
   "source": [
    "import sys\n",
    "\n",
    "dtype = dict\n",
    "\n",
    "value = {}\n",
    "print('{}({}): {} bits'.format(str(dtype.__name__), value, sys.getsizeof(value)))\n",
    "for i in [0, 1, 128, 512, 1023, 2048]:\n",
    "    value = dtype({x: x for x in range(i)})\n",
    "    print('{}(elements = {}): {} bits'.format(str(dtype.__name__), i, sys.getsizeof(value), len(value)))"
   ]
  },
  {
   "cell_type": "code",
   "execution_count": 21,
   "metadata": {},
   "outputs": [
    {
     "name": "stdout",
     "output_type": "stream",
     "text": [
      "84.2 ns ± 0.524 ns per loop (mean ± std. dev. of 7 runs, 10000000 loops each)\n",
      "225 ns ± 2.26 ns per loop (mean ± std. dev. of 7 runs, 1000000 loops each)\n",
      "777 ns ± 8.73 ns per loop (mean ± std. dev. of 7 runs, 1000000 loops each)\n"
     ]
    }
   ],
   "source": [
    "v0 = %timeit -o t = {0: 0, 1: 1}\n",
    "v1 = %timeit -o t = {0: 0, 1: 1, 2: 2, 3: 3, 4: 4, 5: 5, 6: 6, 7: 7}\n",
    "v2 = %timeit -o t = {0: 0, 1: 1, 2: 2, 3: 3, 4: 4, 5: 5, 6: 6, 7: 7, 8: 8, 9: 9, 10: 10,\\\n",
    "                     11: 11, 12: 12, 13: 13, 14: 14, 15: 15, 16: 16, 17: 17, 18: 18, 19: 19, 20: 20,\\\n",
    "                     21: 21, 22: 22, 23: 23, 24: 24, 25: 25, 26: 26, 27: 27, 28: 28, 29: 29, 30: 30,\\\n",
    "                     31: 31}\n",
    "\n",
    "results['dict'] = [v0.average, v1.average, v2.average]"
   ]
  },
  {
   "cell_type": "code",
   "execution_count": 22,
   "metadata": {},
   "outputs": [
    {
     "name": "stdout",
     "output_type": "stream",
     "text": [
      "93.4 ns ± 0.694 ns per loop (mean ± std. dev. of 7 runs, 10000000 loops each)\n"
     ]
    }
   ],
   "source": [
    "%timeit t = dict()"
   ]
  },
  {
   "cell_type": "markdown",
   "metadata": {},
   "source": [
    "# Set\n",
    "\n",
    "- Memory: Min memory size 224 bits. Max size is not limited.\n",
    "- Performance: Min wall time 52 ns (1.5x slower than list). Object creation speed grows linearly. (2.5x slower than list)"
   ]
  },
  {
   "cell_type": "code",
   "execution_count": 23,
   "metadata": {},
   "outputs": [
    {
     "name": "stdout",
     "output_type": "stream",
     "text": [
      "set(set()): 224 bits\n",
      "set(elements = 0): 224 bits\n",
      "set(elements = 1): 224 bits\n",
      "set(elements = 128): 8416 bits\n",
      "set(elements = 512): 32992 bits\n",
      "set(elements = 1023): 32992 bits\n",
      "set(elements = 2048): 131296 bits\n"
     ]
    }
   ],
   "source": [
    "import sys\n",
    "\n",
    "dtype = set\n",
    "\n",
    "value = set()\n",
    "print('{}({}): {} bits'.format(str(dtype.__name__), value, sys.getsizeof(value)))\n",
    "for i in [0, 1, 128, 512, 1023, 2048]:\n",
    "    value = dtype({x for x in range(i)})\n",
    "    print('{}(elements = {}): {} bits'.format(str(dtype.__name__), i, sys.getsizeof(value), len(value)))"
   ]
  },
  {
   "cell_type": "code",
   "execution_count": 24,
   "metadata": {},
   "outputs": [
    {
     "name": "stdout",
     "output_type": "stream",
     "text": [
      "60.3 ns ± 0.327 ns per loop (mean ± std. dev. of 7 runs, 10000000 loops each)\n",
      "166 ns ± 0.339 ns per loop (mean ± std. dev. of 7 runs, 10000000 loops each)\n",
      "626 ns ± 7.46 ns per loop (mean ± std. dev. of 7 runs, 1000000 loops each)\n"
     ]
    }
   ],
   "source": [
    "v0 = %timeit -o t = {0, 1}\n",
    "v1 = %timeit -o t = {0, 1, 2, 3, 4, 5, 6, 7}\n",
    "v2 = %timeit -o t = {0, 1, 2, 3, 4, 5, 6, 7, 8, 9, 10, 11, 12, 13, 14, 15,\\\n",
    "                     16, 17, 18, 19, 20, 21, 22, 23, 24, 25, 26, 27, 28, 29, 30, 31}\n",
    "\n",
    "results['set'] = [v0.average, v1.average, v2.average]"
   ]
  },
  {
   "cell_type": "code",
   "execution_count": 25,
   "metadata": {},
   "outputs": [
    {
     "name": "stdout",
     "output_type": "stream",
     "text": [
      "141 ns ± 0.712 ns per loop (mean ± std. dev. of 7 runs, 10000000 loops each)\n"
     ]
    }
   ],
   "source": [
    "%timeit t = set({0})"
   ]
  },
  {
   "cell_type": "markdown",
   "metadata": {},
   "source": [
    "# Frozenset\n",
    "\n",
    "- Memory: Min memory size 224 bits. Max size is not limited.\n",
    "- Performance: Min wall time 159 ns (5x slower than list). Object creation speed grows linearly. (4.5x slower than list)"
   ]
  },
  {
   "cell_type": "code",
   "execution_count": 26,
   "metadata": {},
   "outputs": [
    {
     "name": "stdout",
     "output_type": "stream",
     "text": [
      "frozenset(frozenset()): 224 bits\n",
      "frozenset(elements = 0): 224 bits\n",
      "frozenset(elements = 1): 224 bits\n",
      "frozenset(elements = 128): 8416 bits\n",
      "frozenset(elements = 512): 32992 bits\n",
      "frozenset(elements = 1023): 32992 bits\n",
      "frozenset(elements = 2048): 131296 bits\n"
     ]
    }
   ],
   "source": [
    "import sys\n",
    "\n",
    "dtype = frozenset\n",
    "\n",
    "value = frozenset()\n",
    "print('{}({}): {} bits'.format(str(dtype.__name__), value, sys.getsizeof(value)))\n",
    "for i in [0, 1, 128, 512, 1023, 2048]:\n",
    "    value = dtype({x for x in range(i)})\n",
    "    print('{}(elements = {}): {} bits'.format(str(dtype.__name__), i, sys.getsizeof(value), len(value)))"
   ]
  },
  {
   "cell_type": "code",
   "execution_count": 27,
   "metadata": {},
   "outputs": [
    {
     "name": "stdout",
     "output_type": "stream",
     "text": [
      "146 ns ± 0.878 ns per loop (mean ± std. dev. of 7 runs, 10000000 loops each)\n",
      "235 ns ± 2.38 ns per loop (mean ± std. dev. of 7 runs, 1000000 loops each)\n",
      "628 ns ± 5.34 ns per loop (mean ± std. dev. of 7 runs, 1000000 loops each)\n"
     ]
    }
   ],
   "source": [
    "v0 = %timeit -o t = frozenset((0, 1))\n",
    "v1 = %timeit -o t = frozenset((0, 1, 2, 3, 4, 5, 6, 7))\n",
    "v2 = %timeit -o t = frozenset((0, 1, 2, 3, 4, 5, 6, 7, 8, 9, 10, 11, 12, 13, 14, 15,\\\n",
    "                               16, 17, 18, 19, 20, 21, 22, 23, 24, 25, 26, 27, 28, 29, 30, 31))\n",
    "\n",
    "results['frozenset'] = [v0.average, v1.average, v2.average]"
   ]
  },
  {
   "cell_type": "markdown",
   "metadata": {},
   "source": [
    "# Decimal\n",
    "\n",
    "- Memory: Min 104 bits. Max size is not limited.\n",
    "- Performance: Min wall time 134 ns (13x slower than int). Object creation speed grows exponentionaly from the value of object. (150x slower than int)\n"
   ]
  },
  {
   "cell_type": "code",
   "execution_count": 28,
   "metadata": {},
   "outputs": [
    {
     "name": "stdout",
     "output_type": "stream",
     "text": [
      "Decimal(0): 104 bits\n",
      "Decimal(2 ** 0): 104 bits\n",
      "Decimal(2 ** 1): 104 bits\n",
      "Decimal(2 ** 128): 104 bits\n",
      "Decimal(2 ** 512): 176 bits\n",
      "Decimal(2 ** 1023): 240 bits\n",
      "Decimal(2 ** 2048): 368 bits\n"
     ]
    }
   ],
   "source": [
    "import sys\n",
    "\n",
    "from decimal import Decimal\n",
    "\n",
    "dtype = Decimal\n",
    "\n",
    "value = Decimal(0)\n",
    "print('{}({}): {} bits'.format(str(dtype.__name__), value, sys.getsizeof(value)))\n",
    "for i in [0, 1, 128, 512, 1023, 2048]:\n",
    "    value = dtype(2 ** i)\n",
    "    print('{}({} ** {}): {} bits'.format(str(dtype.__name__), 2, i, sys.getsizeof(value)))"
   ]
  },
  {
   "cell_type": "code",
   "execution_count": 29,
   "metadata": {},
   "outputs": [
    {
     "name": "stdout",
     "output_type": "stream",
     "text": [
      "405 ns ± 3.96 ns per loop (mean ± std. dev. of 7 runs, 1000000 loops each)\n",
      "448 ns ± 5.81 ns per loop (mean ± std. dev. of 7 runs, 1000000 loops each)\n",
      "1.18 µs ± 2.92 ns per loop (mean ± std. dev. of 7 runs, 1000000 loops each)\n"
     ]
    }
   ],
   "source": [
    "v0 = %timeit -o t = Decimal(10.)\n",
    "v1 = %timeit -o t = Decimal(10000000.)\n",
    "v2 = %timeit -o t = Decimal(1000000000000000000000000000000000000000000000000000000000000000000000000000.)\n",
    "\n",
    "results['Decimal'] = [v0.average, v1.average, v2.average]"
   ]
  },
  {
   "cell_type": "markdown",
   "metadata": {},
   "source": [
    "# Defaultdict\n",
    "\n",
    "- Memory: Min size 248 bits. Max size is not limited.\n",
    "- Performance: Min wall time 205ns (8x slower than list). Object creation speed grows linearly from the number of objects. (9x slower than list)"
   ]
  },
  {
   "cell_type": "code",
   "execution_count": 30,
   "metadata": {},
   "outputs": [
    {
     "name": "stdout",
     "output_type": "stream",
     "text": [
      "defaultdict(): 248 bits\n",
      "defaultdict(elements = 0): 248 bits\n",
      "defaultdict(elements = 1): 248 bits\n",
      "defaultdict(elements = 128): 4712 bits\n",
      "defaultdict(elements = 512): 18536 bits\n",
      "defaultdict(elements = 1023): 36976 bits\n",
      "defaultdict(elements = 2048): 73832 bits\n"
     ]
    }
   ],
   "source": [
    "import sys\n",
    "from collections import defaultdict\n",
    "\n",
    "dtype = defaultdict\n",
    "\n",
    "value = dtype(int)\n",
    "print('{}(): {} bits'.format(str(dtype.__name__), sys.getsizeof(value)))\n",
    "for i in [0, 1, 128, 512, 1023, 2048]:\n",
    "    value = dtype(int)\n",
    "    for x in range(i):\n",
    "        value[x] += 1\n",
    "    print('{}(elements = {}): {} bits'.format(str(dtype.__name__), i, sys.getsizeof(value)))"
   ]
  },
  {
   "cell_type": "code",
   "execution_count": 31,
   "metadata": {},
   "outputs": [
    {
     "name": "stdout",
     "output_type": "stream",
     "text": [
      "585 ns ± 4.35 ns per loop (mean ± std. dev. of 7 runs, 1000000 loops each)\n"
     ]
    },
    {
     "data": {
      "text/plain": [
       "<TimeitResult : 585 ns ± 4.35 ns per loop (mean ± std. dev. of 7 runs, 1000000 loops each)>"
      ]
     },
     "execution_count": 31,
     "metadata": {},
     "output_type": "execute_result"
    }
   ],
   "source": [
    "%%timeit -o\n",
    "\n",
    "t = defaultdict(int)\n",
    "for k in (0, 1):\n",
    "    t[k] += k"
   ]
  },
  {
   "cell_type": "code",
   "execution_count": 32,
   "metadata": {},
   "outputs": [],
   "source": [
    "v0 = _"
   ]
  },
  {
   "cell_type": "code",
   "execution_count": 33,
   "metadata": {},
   "outputs": [
    {
     "name": "stdout",
     "output_type": "stream",
     "text": [
      "1.69 µs ± 23.9 ns per loop (mean ± std. dev. of 7 runs, 1000000 loops each)\n"
     ]
    },
    {
     "data": {
      "text/plain": [
       "<TimeitResult : 1.69 µs ± 23.9 ns per loop (mean ± std. dev. of 7 runs, 1000000 loops each)>"
      ]
     },
     "execution_count": 33,
     "metadata": {},
     "output_type": "execute_result"
    }
   ],
   "source": [
    "%%timeit -o\n",
    "\n",
    "t = defaultdict(int)\n",
    "for k in (0, 1, 2, 3, 4, 5, 6, 7):\n",
    "    t[k] += k"
   ]
  },
  {
   "cell_type": "code",
   "execution_count": 34,
   "metadata": {},
   "outputs": [],
   "source": [
    "v1 = _"
   ]
  },
  {
   "cell_type": "code",
   "execution_count": 35,
   "metadata": {},
   "outputs": [
    {
     "name": "stdout",
     "output_type": "stream",
     "text": [
      "6.04 µs ± 100 ns per loop (mean ± std. dev. of 7 runs, 100000 loops each)\n"
     ]
    },
    {
     "data": {
      "text/plain": [
       "<TimeitResult : 6.04 µs ± 100 ns per loop (mean ± std. dev. of 7 runs, 100000 loops each)>"
      ]
     },
     "execution_count": 35,
     "metadata": {},
     "output_type": "execute_result"
    }
   ],
   "source": [
    "%%timeit -o\n",
    "\n",
    "t = defaultdict(int)\n",
    "for k in (0, 1, 2, 3, 4, 5, 6, 7, 8, 9, 10, 11, 12, 13, 14, 15,\n",
    "          16, 17, 18, 19, 20, 21, 22, 23, 24, 25, 26, 27, 28, 29, 30, 31):\n",
    "    t[k] += k"
   ]
  },
  {
   "cell_type": "code",
   "execution_count": 36,
   "metadata": {},
   "outputs": [],
   "source": [
    "v2 = _"
   ]
  },
  {
   "cell_type": "code",
   "execution_count": 37,
   "metadata": {},
   "outputs": [],
   "source": [
    "results['defaultdict'] = [v0.average, v1.average, v2.average]"
   ]
  },
  {
   "cell_type": "markdown",
   "metadata": {},
   "source": [
    "# Class instance\n",
    "\n",
    "- Memory: Min size 168 bits.\n",
    "- Performance: Wall time 235 ns. 20x slower than int."
   ]
  },
  {
   "cell_type": "code",
   "execution_count": 38,
   "metadata": {},
   "outputs": [
    {
     "name": "stdout",
     "output_type": "stream",
     "text": [
      "Point: 168 bits\n"
     ]
    }
   ],
   "source": [
    "class Point:\n",
    "    \n",
    "    def __init__(self, x):\n",
    "        self.x = x\n",
    "        \n",
    "ob = Point(1)\n",
    "\n",
    "print('{}: {} bits'.format(str(ob.__class__.__name__), sys.getsizeof(ob) + sys.getsizeof(ob.__dict__)))"
   ]
  },
  {
   "cell_type": "code",
   "execution_count": 39,
   "metadata": {},
   "outputs": [
    {
     "name": "stdout",
     "output_type": "stream",
     "text": [
      "227 ns ± 10.1 ns per loop (mean ± std. dev. of 7 runs, 1000000 loops each)\n"
     ]
    }
   ],
   "source": [
    "v0 = %timeit -o t = Point(1)\n",
    "\n",
    "results['Class'] = [v0.average, None, None]"
   ]
  },
  {
   "cell_type": "markdown",
   "metadata": {},
   "source": [
    "# Namedtuple\n",
    "\n",
    "- Memory: Min size 56 bits. (3x less memory than class)\n",
    "- Performance: Wall time 308 ns. 27x slower than int."
   ]
  },
  {
   "cell_type": "code",
   "execution_count": 40,
   "metadata": {},
   "outputs": [
    {
     "name": "stdout",
     "output_type": "stream",
     "text": [
      "Point: 56 bits\n"
     ]
    }
   ],
   "source": [
    "from collections import namedtuple\n",
    "\n",
    "Point = namedtuple('Point', ('x'))\n",
    "\n",
    "ob = Point(1)\n",
    "\n",
    "print('{}: {} bits'.format(str(ob.__class__.__name__), sys.getsizeof(ob)))"
   ]
  },
  {
   "cell_type": "code",
   "execution_count": 41,
   "metadata": {},
   "outputs": [
    {
     "name": "stdout",
     "output_type": "stream",
     "text": [
      "313 ns ± 7.6 ns per loop (mean ± std. dev. of 7 runs, 1000000 loops each)\n"
     ]
    }
   ],
   "source": [
    "v0 = %timeit -o t = Point(1)\n",
    "\n",
    "results['namedtuple'] = [v0.average, None, None]"
   ]
  },
  {
   "cell_type": "markdown",
   "metadata": {},
   "source": [
    "# Class instance with slots\n",
    "\n",
    "- Memory: Min size 48 bits (3.5x less memory than class).\n",
    "- Performance: Wall time 194 ns. (20% faster than class). 17x sower than int."
   ]
  },
  {
   "cell_type": "code",
   "execution_count": 42,
   "metadata": {},
   "outputs": [
    {
     "name": "stdout",
     "output_type": "stream",
     "text": [
      "Point: 48 bits\n"
     ]
    }
   ],
   "source": [
    "class Point:\n",
    "    __slots__ = ['x']\n",
    "    \n",
    "    def __init__(self, x):\n",
    "        self.x = x\n",
    "        \n",
    "ob = Point(1)\n",
    "\n",
    "print('{}: {} bits'.format(str(ob.__class__.__name__), sys.getsizeof(ob)))"
   ]
  },
  {
   "cell_type": "code",
   "execution_count": 43,
   "metadata": {},
   "outputs": [
    {
     "name": "stdout",
     "output_type": "stream",
     "text": [
      "185 ns ± 5.27 ns per loop (mean ± std. dev. of 7 runs, 10000000 loops each)\n"
     ]
    }
   ],
   "source": [
    "v0 = %timeit -o t = Point(1)\n",
    "\n",
    "results['ClassWithSlots'] = [v0.average, None, None]"
   ]
  },
  {
   "cell_type": "markdown",
   "metadata": {},
   "source": [
    "# Performance table"
   ]
  },
  {
   "cell_type": "code",
   "execution_count": 44,
   "metadata": {},
   "outputs": [
    {
     "data": {
      "text/html": [
       "<div>\n",
       "<style scoped>\n",
       "    .dataframe tbody tr th:only-of-type {\n",
       "        vertical-align: middle;\n",
       "    }\n",
       "\n",
       "    .dataframe tbody tr th {\n",
       "        vertical-align: top;\n",
       "    }\n",
       "\n",
       "    .dataframe thead th {\n",
       "        text-align: right;\n",
       "    }\n",
       "</style>\n",
       "<table border=\"1\" class=\"dataframe\">\n",
       "  <thead>\n",
       "    <tr style=\"text-align: right;\">\n",
       "      <th></th>\n",
       "      <th>test 0</th>\n",
       "      <th>test 1</th>\n",
       "      <th>test 2</th>\n",
       "    </tr>\n",
       "  </thead>\n",
       "  <tbody>\n",
       "    <tr>\n",
       "      <th>int</th>\n",
       "      <td>11.9</td>\n",
       "      <td>11.1</td>\n",
       "      <td>10.8</td>\n",
       "    </tr>\n",
       "    <tr>\n",
       "      <th>float</th>\n",
       "      <td>10.9</td>\n",
       "      <td>10.9</td>\n",
       "      <td>11.0</td>\n",
       "    </tr>\n",
       "    <tr>\n",
       "      <th>complex</th>\n",
       "      <td>161.2</td>\n",
       "      <td>161.7</td>\n",
       "      <td>165.3</td>\n",
       "    </tr>\n",
       "    <tr>\n",
       "      <th>str</th>\n",
       "      <td>10.9</td>\n",
       "      <td>11.1</td>\n",
       "      <td>11.0</td>\n",
       "    </tr>\n",
       "    <tr>\n",
       "      <th>list</th>\n",
       "      <td>36.5</td>\n",
       "      <td>62.2</td>\n",
       "      <td>175.8</td>\n",
       "    </tr>\n",
       "    <tr>\n",
       "      <th>tuple</th>\n",
       "      <td>11.0</td>\n",
       "      <td>12.2</td>\n",
       "      <td>11.3</td>\n",
       "    </tr>\n",
       "    <tr>\n",
       "      <th>dict</th>\n",
       "      <td>84.2</td>\n",
       "      <td>225.5</td>\n",
       "      <td>776.6</td>\n",
       "    </tr>\n",
       "    <tr>\n",
       "      <th>set</th>\n",
       "      <td>60.3</td>\n",
       "      <td>166.4</td>\n",
       "      <td>626.1</td>\n",
       "    </tr>\n",
       "    <tr>\n",
       "      <th>frozenset</th>\n",
       "      <td>145.9</td>\n",
       "      <td>234.6</td>\n",
       "      <td>628.1</td>\n",
       "    </tr>\n",
       "    <tr>\n",
       "      <th>Decimal</th>\n",
       "      <td>405.4</td>\n",
       "      <td>447.7</td>\n",
       "      <td>1182.8</td>\n",
       "    </tr>\n",
       "    <tr>\n",
       "      <th>defaultdict</th>\n",
       "      <td>585.1</td>\n",
       "      <td>1690.1</td>\n",
       "      <td>6044.5</td>\n",
       "    </tr>\n",
       "    <tr>\n",
       "      <th>Class</th>\n",
       "      <td>227.3</td>\n",
       "      <td>NaN</td>\n",
       "      <td>NaN</td>\n",
       "    </tr>\n",
       "    <tr>\n",
       "      <th>namedtuple</th>\n",
       "      <td>313.1</td>\n",
       "      <td>NaN</td>\n",
       "      <td>NaN</td>\n",
       "    </tr>\n",
       "    <tr>\n",
       "      <th>ClassWithSlots</th>\n",
       "      <td>184.6</td>\n",
       "      <td>NaN</td>\n",
       "      <td>NaN</td>\n",
       "    </tr>\n",
       "  </tbody>\n",
       "</table>\n",
       "</div>"
      ],
      "text/plain": [
       "                test 0  test 1  test 2\n",
       "int               11.9    11.1    10.8\n",
       "float             10.9    10.9    11.0\n",
       "complex          161.2   161.7   165.3\n",
       "str               10.9    11.1    11.0\n",
       "list              36.5    62.2   175.8\n",
       "tuple             11.0    12.2    11.3\n",
       "dict              84.2   225.5   776.6\n",
       "set               60.3   166.4   626.1\n",
       "frozenset        145.9   234.6   628.1\n",
       "Decimal          405.4   447.7  1182.8\n",
       "defaultdict      585.1  1690.1  6044.5\n",
       "Class            227.3     NaN     NaN\n",
       "namedtuple       313.1     NaN     NaN\n",
       "ClassWithSlots   184.6     NaN     NaN"
      ]
     },
     "execution_count": 44,
     "metadata": {},
     "output_type": "execute_result"
    }
   ],
   "source": [
    "import pandas as pd\n",
    "\n",
    "df = (pd.DataFrame(results, index=['test 0', 'test 1', 'test 2']) * 1e9).round(1).T\n",
    "df"
   ]
  },
  {
   "cell_type": "markdown",
   "metadata": {},
   "source": [
    "# Relative performance table \n",
    "\n",
    "(should by 4x when linear)"
   ]
  },
  {
   "cell_type": "code",
   "execution_count": 45,
   "metadata": {},
   "outputs": [
    {
     "data": {
      "text/html": [
       "<div>\n",
       "<style scoped>\n",
       "    .dataframe tbody tr th:only-of-type {\n",
       "        vertical-align: middle;\n",
       "    }\n",
       "\n",
       "    .dataframe tbody tr th {\n",
       "        vertical-align: top;\n",
       "    }\n",
       "\n",
       "    .dataframe thead th {\n",
       "        text-align: right;\n",
       "    }\n",
       "</style>\n",
       "<table border=\"1\" class=\"dataframe\">\n",
       "  <thead>\n",
       "    <tr style=\"text-align: right;\">\n",
       "      <th></th>\n",
       "      <th>test 0</th>\n",
       "      <th>test 1</th>\n",
       "      <th>test 2</th>\n",
       "    </tr>\n",
       "  </thead>\n",
       "  <tbody>\n",
       "    <tr>\n",
       "      <th>int</th>\n",
       "      <td>1.0</td>\n",
       "      <td>0.93</td>\n",
       "      <td>0.97</td>\n",
       "    </tr>\n",
       "    <tr>\n",
       "      <th>float</th>\n",
       "      <td>1.0</td>\n",
       "      <td>1.00</td>\n",
       "      <td>1.01</td>\n",
       "    </tr>\n",
       "    <tr>\n",
       "      <th>complex</th>\n",
       "      <td>1.0</td>\n",
       "      <td>1.00</td>\n",
       "      <td>1.02</td>\n",
       "    </tr>\n",
       "    <tr>\n",
       "      <th>str</th>\n",
       "      <td>1.0</td>\n",
       "      <td>1.02</td>\n",
       "      <td>0.99</td>\n",
       "    </tr>\n",
       "    <tr>\n",
       "      <th>list</th>\n",
       "      <td>1.0</td>\n",
       "      <td>1.70</td>\n",
       "      <td>2.83</td>\n",
       "    </tr>\n",
       "    <tr>\n",
       "      <th>tuple</th>\n",
       "      <td>1.0</td>\n",
       "      <td>1.11</td>\n",
       "      <td>0.93</td>\n",
       "    </tr>\n",
       "    <tr>\n",
       "      <th>dict</th>\n",
       "      <td>1.0</td>\n",
       "      <td>2.68</td>\n",
       "      <td>3.44</td>\n",
       "    </tr>\n",
       "    <tr>\n",
       "      <th>set</th>\n",
       "      <td>1.0</td>\n",
       "      <td>2.76</td>\n",
       "      <td>3.76</td>\n",
       "    </tr>\n",
       "    <tr>\n",
       "      <th>frozenset</th>\n",
       "      <td>1.0</td>\n",
       "      <td>1.61</td>\n",
       "      <td>2.68</td>\n",
       "    </tr>\n",
       "    <tr>\n",
       "      <th>Decimal</th>\n",
       "      <td>1.0</td>\n",
       "      <td>1.10</td>\n",
       "      <td>2.64</td>\n",
       "    </tr>\n",
       "    <tr>\n",
       "      <th>defaultdict</th>\n",
       "      <td>1.0</td>\n",
       "      <td>2.89</td>\n",
       "      <td>3.58</td>\n",
       "    </tr>\n",
       "    <tr>\n",
       "      <th>Class</th>\n",
       "      <td>1.0</td>\n",
       "      <td>NaN</td>\n",
       "      <td>NaN</td>\n",
       "    </tr>\n",
       "    <tr>\n",
       "      <th>namedtuple</th>\n",
       "      <td>1.0</td>\n",
       "      <td>NaN</td>\n",
       "      <td>NaN</td>\n",
       "    </tr>\n",
       "    <tr>\n",
       "      <th>ClassWithSlots</th>\n",
       "      <td>1.0</td>\n",
       "      <td>NaN</td>\n",
       "      <td>NaN</td>\n",
       "    </tr>\n",
       "  </tbody>\n",
       "</table>\n",
       "</div>"
      ],
      "text/plain": [
       "                test 0  test 1  test 2\n",
       "int                1.0    0.93    0.97\n",
       "float              1.0    1.00    1.01\n",
       "complex            1.0    1.00    1.02\n",
       "str                1.0    1.02    0.99\n",
       "list               1.0    1.70    2.83\n",
       "tuple              1.0    1.11    0.93\n",
       "dict               1.0    2.68    3.44\n",
       "set                1.0    2.76    3.76\n",
       "frozenset          1.0    1.61    2.68\n",
       "Decimal            1.0    1.10    2.64\n",
       "defaultdict        1.0    2.89    3.58\n",
       "Class              1.0     NaN     NaN\n",
       "namedtuple         1.0     NaN     NaN\n",
       "ClassWithSlots     1.0     NaN     NaN"
      ]
     },
     "execution_count": 45,
     "metadata": {},
     "output_type": "execute_result"
    }
   ],
   "source": [
    "df_ratio = df.copy(True)\n",
    "df_ratio['test 2'] = df_ratio['test 2'] / df_ratio['test 1']\n",
    "df_ratio['test 1'] = df_ratio['test 1'] / df_ratio['test 0']\n",
    "df_ratio['test 0'] = 1.0\n",
    "\n",
    "df_ratio = df_ratio.round(2)\n",
    "df_ratio"
   ]
  },
  {
   "cell_type": "markdown",
   "metadata": {},
   "source": [
    "# Types with constant initialization time"
   ]
  },
  {
   "cell_type": "code",
   "execution_count": 46,
   "metadata": {},
   "outputs": [
    {
     "data": {
      "text/html": [
       "<div>\n",
       "<style scoped>\n",
       "    .dataframe tbody tr th:only-of-type {\n",
       "        vertical-align: middle;\n",
       "    }\n",
       "\n",
       "    .dataframe tbody tr th {\n",
       "        vertical-align: top;\n",
       "    }\n",
       "\n",
       "    .dataframe thead th {\n",
       "        text-align: right;\n",
       "    }\n",
       "</style>\n",
       "<table border=\"1\" class=\"dataframe\">\n",
       "  <thead>\n",
       "    <tr style=\"text-align: right;\">\n",
       "      <th></th>\n",
       "      <th>test 0</th>\n",
       "      <th>test 1</th>\n",
       "      <th>test 2</th>\n",
       "    </tr>\n",
       "  </thead>\n",
       "  <tbody>\n",
       "    <tr>\n",
       "      <th>int</th>\n",
       "      <td>11.9</td>\n",
       "      <td>11.1</td>\n",
       "      <td>10.8</td>\n",
       "    </tr>\n",
       "    <tr>\n",
       "      <th>float</th>\n",
       "      <td>10.9</td>\n",
       "      <td>10.9</td>\n",
       "      <td>11.0</td>\n",
       "    </tr>\n",
       "    <tr>\n",
       "      <th>complex</th>\n",
       "      <td>161.2</td>\n",
       "      <td>161.7</td>\n",
       "      <td>165.3</td>\n",
       "    </tr>\n",
       "    <tr>\n",
       "      <th>str</th>\n",
       "      <td>10.9</td>\n",
       "      <td>11.1</td>\n",
       "      <td>11.0</td>\n",
       "    </tr>\n",
       "    <tr>\n",
       "      <th>tuple</th>\n",
       "      <td>11.0</td>\n",
       "      <td>12.2</td>\n",
       "      <td>11.3</td>\n",
       "    </tr>\n",
       "  </tbody>\n",
       "</table>\n",
       "</div>"
      ],
      "text/plain": [
       "         test 0  test 1  test 2\n",
       "int        11.9    11.1    10.8\n",
       "float      10.9    10.9    11.0\n",
       "complex   161.2   161.7   165.3\n",
       "str        10.9    11.1    11.0\n",
       "tuple      11.0    12.2    11.3"
      ]
     },
     "execution_count": 46,
     "metadata": {},
     "output_type": "execute_result"
    }
   ],
   "source": [
    "df.loc[['int', 'float', 'complex', 'str', 'tuple']]"
   ]
  },
  {
   "cell_type": "markdown",
   "metadata": {},
   "source": [
    "# Types with linear initialization time"
   ]
  },
  {
   "cell_type": "code",
   "execution_count": 51,
   "metadata": {},
   "outputs": [
    {
     "data": {
      "text/html": [
       "<div>\n",
       "<style scoped>\n",
       "    .dataframe tbody tr th:only-of-type {\n",
       "        vertical-align: middle;\n",
       "    }\n",
       "\n",
       "    .dataframe tbody tr th {\n",
       "        vertical-align: top;\n",
       "    }\n",
       "\n",
       "    .dataframe thead th {\n",
       "        text-align: right;\n",
       "    }\n",
       "</style>\n",
       "<table border=\"1\" class=\"dataframe\">\n",
       "  <thead>\n",
       "    <tr style=\"text-align: right;\">\n",
       "      <th></th>\n",
       "      <th>test 0</th>\n",
       "      <th>test 1</th>\n",
       "      <th>test 2</th>\n",
       "    </tr>\n",
       "  </thead>\n",
       "  <tbody>\n",
       "    <tr>\n",
       "      <th>list</th>\n",
       "      <td>36.5</td>\n",
       "      <td>62.2</td>\n",
       "      <td>175.8</td>\n",
       "    </tr>\n",
       "    <tr>\n",
       "      <th>dict</th>\n",
       "      <td>84.2</td>\n",
       "      <td>225.5</td>\n",
       "      <td>776.6</td>\n",
       "    </tr>\n",
       "    <tr>\n",
       "      <th>set</th>\n",
       "      <td>60.3</td>\n",
       "      <td>166.4</td>\n",
       "      <td>626.1</td>\n",
       "    </tr>\n",
       "    <tr>\n",
       "      <th>frozenset</th>\n",
       "      <td>145.9</td>\n",
       "      <td>234.6</td>\n",
       "      <td>628.1</td>\n",
       "    </tr>\n",
       "    <tr>\n",
       "      <th>defaultdict</th>\n",
       "      <td>585.1</td>\n",
       "      <td>1690.1</td>\n",
       "      <td>6044.5</td>\n",
       "    </tr>\n",
       "  </tbody>\n",
       "</table>\n",
       "</div>"
      ],
      "text/plain": [
       "             test 0  test 1  test 2\n",
       "list           36.5    62.2   175.8\n",
       "dict           84.2   225.5   776.6\n",
       "set            60.3   166.4   626.1\n",
       "frozenset     145.9   234.6   628.1\n",
       "defaultdict   585.1  1690.1  6044.5"
      ]
     },
     "execution_count": 51,
     "metadata": {},
     "output_type": "execute_result"
    }
   ],
   "source": [
    "df.loc[['list', 'dict', 'set', 'frozenset', 'defaultdict']]"
   ]
  },
  {
   "cell_type": "code",
   "execution_count": 52,
   "metadata": {},
   "outputs": [
    {
     "data": {
      "text/html": [
       "<div>\n",
       "<style scoped>\n",
       "    .dataframe tbody tr th:only-of-type {\n",
       "        vertical-align: middle;\n",
       "    }\n",
       "\n",
       "    .dataframe tbody tr th {\n",
       "        vertical-align: top;\n",
       "    }\n",
       "\n",
       "    .dataframe thead th {\n",
       "        text-align: right;\n",
       "    }\n",
       "</style>\n",
       "<table border=\"1\" class=\"dataframe\">\n",
       "  <thead>\n",
       "    <tr style=\"text-align: right;\">\n",
       "      <th></th>\n",
       "      <th>test 0</th>\n",
       "      <th>test 1</th>\n",
       "      <th>test 2</th>\n",
       "    </tr>\n",
       "  </thead>\n",
       "  <tbody>\n",
       "    <tr>\n",
       "      <th>list</th>\n",
       "      <td>1.0</td>\n",
       "      <td>1.70</td>\n",
       "      <td>2.83</td>\n",
       "    </tr>\n",
       "    <tr>\n",
       "      <th>dict</th>\n",
       "      <td>1.0</td>\n",
       "      <td>2.68</td>\n",
       "      <td>3.44</td>\n",
       "    </tr>\n",
       "    <tr>\n",
       "      <th>set</th>\n",
       "      <td>1.0</td>\n",
       "      <td>2.76</td>\n",
       "      <td>3.76</td>\n",
       "    </tr>\n",
       "    <tr>\n",
       "      <th>frozenset</th>\n",
       "      <td>1.0</td>\n",
       "      <td>1.61</td>\n",
       "      <td>2.68</td>\n",
       "    </tr>\n",
       "    <tr>\n",
       "      <th>defaultdict</th>\n",
       "      <td>1.0</td>\n",
       "      <td>2.89</td>\n",
       "      <td>3.58</td>\n",
       "    </tr>\n",
       "  </tbody>\n",
       "</table>\n",
       "</div>"
      ],
      "text/plain": [
       "             test 0  test 1  test 2\n",
       "list            1.0    1.70    2.83\n",
       "dict            1.0    2.68    3.44\n",
       "set             1.0    2.76    3.76\n",
       "frozenset       1.0    1.61    2.68\n",
       "defaultdict     1.0    2.89    3.58"
      ]
     },
     "execution_count": 52,
     "metadata": {},
     "output_type": "execute_result"
    }
   ],
   "source": [
    "df_ratio.loc[['list', 'dict', 'set', 'frozenset', 'defaultdict']]"
   ]
  },
  {
   "cell_type": "markdown",
   "metadata": {},
   "source": [
    "# Types with unpredictable initialization time"
   ]
  },
  {
   "cell_type": "code",
   "execution_count": 48,
   "metadata": {},
   "outputs": [
    {
     "data": {
      "text/html": [
       "<div>\n",
       "<style scoped>\n",
       "    .dataframe tbody tr th:only-of-type {\n",
       "        vertical-align: middle;\n",
       "    }\n",
       "\n",
       "    .dataframe tbody tr th {\n",
       "        vertical-align: top;\n",
       "    }\n",
       "\n",
       "    .dataframe thead th {\n",
       "        text-align: right;\n",
       "    }\n",
       "</style>\n",
       "<table border=\"1\" class=\"dataframe\">\n",
       "  <thead>\n",
       "    <tr style=\"text-align: right;\">\n",
       "      <th></th>\n",
       "      <th>test 0</th>\n",
       "      <th>test 1</th>\n",
       "      <th>test 2</th>\n",
       "    </tr>\n",
       "  </thead>\n",
       "  <tbody>\n",
       "    <tr>\n",
       "      <th>Decimal</th>\n",
       "      <td>405.4</td>\n",
       "      <td>447.7</td>\n",
       "      <td>1182.8</td>\n",
       "    </tr>\n",
       "  </tbody>\n",
       "</table>\n",
       "</div>"
      ],
      "text/plain": [
       "         test 0  test 1  test 2\n",
       "Decimal   405.4   447.7  1182.8"
      ]
     },
     "execution_count": 48,
     "metadata": {},
     "output_type": "execute_result"
    }
   ],
   "source": [
    "df.loc[['Decimal']]"
   ]
  },
  {
   "cell_type": "code",
   "execution_count": null,
   "metadata": {},
   "outputs": [],
   "source": []
  }
 ],
 "metadata": {
  "kernelspec": {
   "display_name": "Python 3",
   "language": "python",
   "name": "python3"
  },
  "language_info": {
   "codemirror_mode": {
    "name": "ipython",
    "version": 3
   },
   "file_extension": ".py",
   "mimetype": "text/x-python",
   "name": "python",
   "nbconvert_exporter": "python",
   "pygments_lexer": "ipython3",
   "version": "3.6.8"
  }
 },
 "nbformat": 4,
 "nbformat_minor": 4
}
