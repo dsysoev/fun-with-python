{
 "cells": [
  {
   "cell_type": "code",
   "execution_count": 1,
   "metadata": {},
   "outputs": [],
   "source": [
    "%load_ext autoreload\n",
    "%autoreload 2"
   ]
  },
  {
   "cell_type": "code",
   "execution_count": 2,
   "metadata": {},
   "outputs": [],
   "source": [
    "n_times = 3\n",
    "n_samples = int(1e8)"
   ]
  },
  {
   "cell_type": "markdown",
   "metadata": {},
   "source": [
    "# Pure Python"
   ]
  },
  {
   "cell_type": "code",
   "execution_count": 3,
   "metadata": {},
   "outputs": [
    {
     "data": {
      "text/plain": [
       "54.46713722633043"
      ]
     },
     "execution_count": 3,
     "metadata": {},
     "output_type": "execute_result"
    }
   ],
   "source": [
    "import timeit\n",
    "\n",
    "time = timeit.Timer(\"calc_pi((estimate_total_in_circle({}), ), {})\".format(n_samples, n_samples),\n",
    "                    \"from pi import calc_pi, estimate_total_in_circle\")\n",
    "time.timeit(n_times) / n_times"
   ]
  },
  {
   "cell_type": "markdown",
   "metadata": {},
   "source": [
    "# Numpy"
   ]
  },
  {
   "cell_type": "code",
   "execution_count": 4,
   "metadata": {},
   "outputs": [
    {
     "name": "stdout",
     "output_type": "stream",
     "text": [
      "Overwriting numpy_pi.py\n"
     ]
    }
   ],
   "source": [
    "%%writefile numpy_pi.py\n",
    "\n",
    "import numpy as np\n",
    "\n",
    "\n",
    "def numpy_calc_pi(n_samples):\n",
    "    x = np.random.ranf(n_samples)\n",
    "    y = np.random.ranf(n_samples)\n",
    "    return 4 * np.sum(x ** 2 + y ** 2 < 1) / n_samples\n"
   ]
  },
  {
   "cell_type": "code",
   "execution_count": 5,
   "metadata": {},
   "outputs": [
    {
     "data": {
      "text/plain": [
       "3.1416614"
      ]
     },
     "execution_count": 5,
     "metadata": {},
     "output_type": "execute_result"
    }
   ],
   "source": [
    "from numpy_pi import numpy_calc_pi\n",
    "\n",
    "numpy_calc_pi(n_samples)"
   ]
  },
  {
   "cell_type": "code",
   "execution_count": 6,
   "metadata": {},
   "outputs": [
    {
     "data": {
      "text/plain": [
       "2.1800239416673626"
      ]
     },
     "execution_count": 6,
     "metadata": {},
     "output_type": "execute_result"
    }
   ],
   "source": [
    "import timeit\n",
    "\n",
    "time = timeit.Timer(\"numpy_calc_pi({})\".format(n_samples),\n",
    "                    \"from numpy_pi import numpy_calc_pi\")\n",
    "time.timeit(n_times) / n_times"
   ]
  },
  {
   "cell_type": "markdown",
   "metadata": {},
   "source": [
    "# Joblib\n",
    "\n",
    "pip install joblib"
   ]
  },
  {
   "cell_type": "code",
   "execution_count": 7,
   "metadata": {},
   "outputs": [
    {
     "name": "stdout",
     "output_type": "stream",
     "text": [
      "Overwriting joblib_pi.py\n"
     ]
    }
   ],
   "source": [
    "%%writefile joblib_pi.py\n",
    "\n",
    "from joblib import Parallel, delayed\n",
    "from numpy_pi import numpy_calc_pi\n",
    "\n",
    "\n",
    "def joblib_calc_pi(n_samples, n_jobs):\n",
    "    residual = n_samples % n_jobs\n",
    "    # get number of samples per worker\n",
    "    n_samples_per_worker = int((n_samples - residual) / n_jobs)\n",
    "    n_samples_per_process = (n_samples_per_worker, ) * n_jobs\n",
    "    # apply residual for first worker\n",
    "    n_samples_per_process = (int(n_samples_per_process[0] + residual), ) + n_samples_per_process[1:]\n",
    "    # calc pi in parallel\n",
    "    results = Parallel(n_jobs=n_jobs)(delayed(numpy_calc_pi)(sample) for sample in n_samples_per_process)\n",
    "    \n",
    "    count_list = [res * sample for res, sample in zip(results, n_samples_per_process)]\n",
    "    return sum(count_list) / n_samples\n"
   ]
  },
  {
   "cell_type": "code",
   "execution_count": 8,
   "metadata": {},
   "outputs": [
    {
     "data": {
      "text/plain": [
       "3.14145476"
      ]
     },
     "execution_count": 8,
     "metadata": {},
     "output_type": "execute_result"
    }
   ],
   "source": [
    "from joblib_pi import joblib_calc_pi\n",
    "\n",
    "joblib_calc_pi(n_samples, 2)"
   ]
  },
  {
   "cell_type": "code",
   "execution_count": 9,
   "metadata": {},
   "outputs": [
    {
     "data": {
      "text/plain": [
       "2.19323471999572"
      ]
     },
     "execution_count": 9,
     "metadata": {},
     "output_type": "execute_result"
    }
   ],
   "source": [
    "import timeit\n",
    "\n",
    "time = timeit.Timer(\"joblib_calc_pi({}, 1)\".format(n_samples),\n",
    "                    \"from joblib_pi import joblib_calc_pi\")\n",
    "time.timeit(n_times) / n_times"
   ]
  },
  {
   "cell_type": "code",
   "execution_count": 10,
   "metadata": {},
   "outputs": [
    {
     "name": "stderr",
     "output_type": "stream",
     "text": [
      "100%|██████████| 8/8 [00:28<00:00,  3.54s/it]\n"
     ]
    }
   ],
   "source": [
    "import tqdm\n",
    "import timeit\n",
    "from multiprocessing import cpu_count\n",
    "\n",
    "results = {}\n",
    "for i in tqdm.tqdm(range(1, cpu_count() + 1)):\n",
    "    time = timeit.Timer(\"joblib_calc_pi({}, {})\".format(n_samples, i),\n",
    "                        \"from joblib_pi import joblib_calc_pi\")\n",
    "    results[i] = time.timeit(n_times) / n_times\n"
   ]
  },
  {
   "cell_type": "code",
   "execution_count": 11,
   "metadata": {},
   "outputs": [
    {
     "data": {
      "text/html": [
       "<div>\n",
       "<style scoped>\n",
       "    .dataframe tbody tr th:only-of-type {\n",
       "        vertical-align: middle;\n",
       "    }\n",
       "\n",
       "    .dataframe tbody tr th {\n",
       "        vertical-align: top;\n",
       "    }\n",
       "\n",
       "    .dataframe thead th {\n",
       "        text-align: right;\n",
       "    }\n",
       "</style>\n",
       "<table border=\"1\" class=\"dataframe\">\n",
       "  <thead>\n",
       "    <tr style=\"text-align: right;\">\n",
       "      <th></th>\n",
       "      <th>0</th>\n",
       "      <th>1</th>\n",
       "      <th>2</th>\n",
       "      <th>3</th>\n",
       "      <th>4</th>\n",
       "    </tr>\n",
       "  </thead>\n",
       "  <tbody>\n",
       "    <tr>\n",
       "      <th>number of process</th>\n",
       "      <td>1</td>\n",
       "      <td>2</td>\n",
       "      <td>3</td>\n",
       "      <td>4</td>\n",
       "      <td>5</td>\n",
       "    </tr>\n",
       "    <tr>\n",
       "      <th>time, s</th>\n",
       "      <td>2.2143</td>\n",
       "      <td>1.3384</td>\n",
       "      <td>1.216</td>\n",
       "      <td>0.9608</td>\n",
       "      <td>0.9934</td>\n",
       "    </tr>\n",
       "    <tr>\n",
       "      <th>versus one</th>\n",
       "      <td>1</td>\n",
       "      <td>1.6544</td>\n",
       "      <td>1.8209</td>\n",
       "      <td>2.3046</td>\n",
       "      <td>2.2291</td>\n",
       "    </tr>\n",
       "    <tr>\n",
       "      <th>parallel loss</th>\n",
       "      <td>0</td>\n",
       "      <td>0.1728</td>\n",
       "      <td>0.393</td>\n",
       "      <td>0.4238</td>\n",
       "      <td>0.5542</td>\n",
       "    </tr>\n",
       "  </tbody>\n",
       "</table>\n",
       "</div>"
      ],
      "text/plain": [
       "                        0       1       2       3       4\n",
       "number of process       1       2       3       4       5\n",
       "time, s            2.2143  1.3384   1.216  0.9608  0.9934\n",
       "versus one              1  1.6544  1.8209  2.3046  2.2291\n",
       "parallel loss           0  0.1728   0.393  0.4238  0.5542"
      ]
     },
     "execution_count": 11,
     "metadata": {},
     "output_type": "execute_result"
    }
   ],
   "source": [
    "import pandas as pd\n",
    "\n",
    "df = pd.Series(results).to_frame()\n",
    "df.reset_index(inplace=True)\n",
    "df.columns = ['number of process', 'time, s']\n",
    "df['versus one'] = df.loc[0]['time, s'] / df['time, s']\n",
    "df['parallel loss'] = 1 - df['versus one'] / df['number of process']\n",
    "df['number of process'] = df['number of process'].astype(str)\n",
    "df = df.round(4)\n",
    "df.head().T"
   ]
  },
  {
   "cell_type": "code",
   "execution_count": 12,
   "metadata": {},
   "outputs": [
    {
     "data": {
      "application/vnd.vegalite.v3+json": {
       "$schema": "https://vega.github.io/schema/vega-lite/v3.4.0.json",
       "config": {
        "mark": {
         "tooltip": null
        },
        "view": {
         "height": 300,
         "width": 400
        }
       },
       "data": {
        "name": "data-03d8035fadfff77af25752ff41ae0194"
       },
       "datasets": {
        "data-03d8035fadfff77af25752ff41ae0194": [
         {
          "number of process": "1",
          "parallel loss": 0,
          "time, s": 2.2143,
          "versus one": 1
         },
         {
          "number of process": "2",
          "parallel loss": 0.1728,
          "time, s": 1.3384,
          "versus one": 1.6544
         },
         {
          "number of process": "3",
          "parallel loss": 0.393,
          "time, s": 1.216,
          "versus one": 1.8209
         },
         {
          "number of process": "4",
          "parallel loss": 0.4238,
          "time, s": 0.9608,
          "versus one": 2.3046
         },
         {
          "number of process": "5",
          "parallel loss": 0.5542,
          "time, s": 0.9934,
          "versus one": 2.2291
         },
         {
          "number of process": "6",
          "parallel loss": 0.5819,
          "time, s": 0.8826,
          "versus one": 2.5088
         },
         {
          "number of process": "7",
          "parallel loss": 0.6518,
          "time, s": 0.9084,
          "versus one": 2.4375
         },
         {
          "number of process": "8",
          "parallel loss": 0.7033,
          "time, s": 0.933,
          "versus one": 2.3733
         }
        ]
       },
       "encoding": {
        "x": {
         "field": "number of process",
         "type": "nominal"
        },
        "y": {
         "field": "time, s",
         "type": "quantitative"
        }
       },
       "height": 300,
       "mark": "area",
       "title": "Execution time depends of number of process",
       "width": 500
      },
      "image/png": "[encoded data removed]",
      "text/plain": [
       "<VegaLite 3 object>\n",
       "\n",
       "If you see this message, it means the renderer has not been properly enabled\n",
       "for the frontend that you are using. For more information, see\n",
       "https://altair-viz.github.io/user_guide/troubleshooting.html\n"
      ]
     },
     "execution_count": 12,
     "metadata": {},
     "output_type": "execute_result"
    }
   ],
   "source": [
    "import altair as alt\n",
    "\n",
    "alt.Chart(df).mark_area().encode(\n",
    "    x='number of process',\n",
    "    y='time, s'\n",
    ").properties(\n",
    "    title='Execution time depends of number of process',\n",
    "    width=500,\n",
    "    height=300\n",
    ")"
   ]
  },
  {
   "cell_type": "code",
   "execution_count": 13,
   "metadata": {},
   "outputs": [
    {
     "data": {
      "application/vnd.vegalite.v3+json": {
       "$schema": "https://vega.github.io/schema/vega-lite/v3.4.0.json",
       "config": {
        "mark": {
         "tooltip": null
        },
        "view": {
         "height": 300,
         "width": 400
        }
       },
       "data": {
        "name": "data-03d8035fadfff77af25752ff41ae0194"
       },
       "datasets": {
        "data-03d8035fadfff77af25752ff41ae0194": [
         {
          "number of process": "1",
          "parallel loss": 0,
          "time, s": 2.2143,
          "versus one": 1
         },
         {
          "number of process": "2",
          "parallel loss": 0.1728,
          "time, s": 1.3384,
          "versus one": 1.6544
         },
         {
          "number of process": "3",
          "parallel loss": 0.393,
          "time, s": 1.216,
          "versus one": 1.8209
         },
         {
          "number of process": "4",
          "parallel loss": 0.4238,
          "time, s": 0.9608,
          "versus one": 2.3046
         },
         {
          "number of process": "5",
          "parallel loss": 0.5542,
          "time, s": 0.9934,
          "versus one": 2.2291
         },
         {
          "number of process": "6",
          "parallel loss": 0.5819,
          "time, s": 0.8826,
          "versus one": 2.5088
         },
         {
          "number of process": "7",
          "parallel loss": 0.6518,
          "time, s": 0.9084,
          "versus one": 2.4375
         },
         {
          "number of process": "8",
          "parallel loss": 0.7033,
          "time, s": 0.933,
          "versus one": 2.3733
         }
        ]
       },
       "encoding": {
        "x": {
         "field": "number of process",
         "type": "nominal"
        },
        "y": {
         "field": "versus one",
         "type": "quantitative"
        }
       },
       "height": 300,
       "mark": "area",
       "title": "Times faster than one process",
       "width": 500
      },
      "image/png": "[encoded data removed]",
      "text/plain": [
       "<VegaLite 3 object>\n",
       "\n",
       "If you see this message, it means the renderer has not been properly enabled\n",
       "for the frontend that you are using. For more information, see\n",
       "https://altair-viz.github.io/user_guide/troubleshooting.html\n"
      ]
     },
     "execution_count": 13,
     "metadata": {},
     "output_type": "execute_result"
    }
   ],
   "source": [
    "import altair as alt\n",
    "\n",
    "alt.Chart(df).mark_area().encode(\n",
    "    x='number of process',\n",
    "    y='versus one'\n",
    ").properties(\n",
    "    title='Times faster than one process',\n",
    "    width=500,\n",
    "    height=300\n",
    ")"
   ]
  },
  {
   "cell_type": "code",
   "execution_count": 14,
   "metadata": {},
   "outputs": [
    {
     "data": {
      "application/vnd.vegalite.v3+json": {
       "$schema": "https://vega.github.io/schema/vega-lite/v3.4.0.json",
       "config": {
        "mark": {
         "tooltip": null
        },
        "view": {
         "height": 300,
         "width": 400
        }
       },
       "data": {
        "name": "data-03d8035fadfff77af25752ff41ae0194"
       },
       "datasets": {
        "data-03d8035fadfff77af25752ff41ae0194": [
         {
          "number of process": "1",
          "parallel loss": 0,
          "time, s": 2.2143,
          "versus one": 1
         },
         {
          "number of process": "2",
          "parallel loss": 0.1728,
          "time, s": 1.3384,
          "versus one": 1.6544
         },
         {
          "number of process": "3",
          "parallel loss": 0.393,
          "time, s": 1.216,
          "versus one": 1.8209
         },
         {
          "number of process": "4",
          "parallel loss": 0.4238,
          "time, s": 0.9608,
          "versus one": 2.3046
         },
         {
          "number of process": "5",
          "parallel loss": 0.5542,
          "time, s": 0.9934,
          "versus one": 2.2291
         },
         {
          "number of process": "6",
          "parallel loss": 0.5819,
          "time, s": 0.8826,
          "versus one": 2.5088
         },
         {
          "number of process": "7",
          "parallel loss": 0.6518,
          "time, s": 0.9084,
          "versus one": 2.4375
         },
         {
          "number of process": "8",
          "parallel loss": 0.7033,
          "time, s": 0.933,
          "versus one": 2.3733
         }
        ]
       },
       "encoding": {
        "x": {
         "field": "number of process",
         "type": "nominal"
        },
        "y": {
         "field": "parallel loss",
         "type": "quantitative"
        }
       },
       "height": 300,
       "mark": "area",
       "title": "Loss of Perfect Parallelization",
       "width": 500
      },
      "image/png": "[encoded data removed]",
      "text/plain": [
       "<VegaLite 3 object>\n",
       "\n",
       "If you see this message, it means the renderer has not been properly enabled\n",
       "for the frontend that you are using. For more information, see\n",
       "https://altair-viz.github.io/user_guide/troubleshooting.html\n"
      ]
     },
     "execution_count": 14,
     "metadata": {},
     "output_type": "execute_result"
    }
   ],
   "source": [
    "import altair as alt\n",
    "\n",
    "alt.Chart(df).mark_area().encode(\n",
    "    x='number of process',\n",
    "    y='parallel loss'\n",
    ").properties(\n",
    "    title='Loss of Perfect Parallelization',\n",
    "    width=500,\n",
    "    height=300\n",
    ")"
   ]
  },
  {
   "cell_type": "markdown",
   "metadata": {},
   "source": [
    "# Numexpr\n",
    "\n",
    "pip install numexpr"
   ]
  },
  {
   "cell_type": "code",
   "execution_count": 15,
   "metadata": {},
   "outputs": [
    {
     "name": "stdout",
     "output_type": "stream",
     "text": [
      "Overwriting numexpr_pi.py\n"
     ]
    }
   ],
   "source": [
    "%%writefile numexpr_pi.py\n",
    "\n",
    "import numexpr as ne\n",
    "import numpy as np\n",
    "\n",
    "\n",
    "def numexpr_pi(n_samples):\n",
    "    x = np.random.ranf(n_samples)\n",
    "    y = np.random.ranf(n_samples)\n",
    "    return 4 * ne.evaluate(\"sum(where((x ** 2 + y ** 2) < 1, 1, 0))\") / n_samples\n"
   ]
  },
  {
   "cell_type": "code",
   "execution_count": 16,
   "metadata": {},
   "outputs": [
    {
     "data": {
      "text/plain": [
       "3.1416646"
      ]
     },
     "execution_count": 16,
     "metadata": {},
     "output_type": "execute_result"
    }
   ],
   "source": [
    "from numexpr_pi import numexpr_pi\n",
    "\n",
    "numexpr_pi(n_samples)"
   ]
  },
  {
   "cell_type": "code",
   "execution_count": 17,
   "metadata": {},
   "outputs": [
    {
     "data": {
      "text/plain": [
       "2.5284772113373037"
      ]
     },
     "execution_count": 17,
     "metadata": {},
     "output_type": "execute_result"
    }
   ],
   "source": [
    "import timeit\n",
    "\n",
    "time = timeit.Timer(\"numexpr_pi({})\".format(n_samples),\n",
    "                    \"from numexpr_pi import numexpr_pi\")\n",
    "time.timeit(n_times) / n_times"
   ]
  },
  {
   "cell_type": "markdown",
   "metadata": {},
   "source": [
    "# Numba\n",
    "\n",
    "pip install numba"
   ]
  },
  {
   "cell_type": "code",
   "execution_count": 26,
   "metadata": {},
   "outputs": [
    {
     "name": "stdout",
     "output_type": "stream",
     "text": [
      "Overwriting numba_pi.py\n"
     ]
    }
   ],
   "source": [
    "%%writefile numba_pi.py\n",
    "\n",
    "from numba import njit\n",
    "import numpy as np\n",
    "\n",
    "\n",
    "@njit(parallel=True)\n",
    "def numba_calc_pi(n_samples):\n",
    "    \n",
    "    x = np.random.ranf(n_samples)\n",
    "    y = np.random.ranf(n_samples)\n",
    "    return 4 * np.sum(x ** 2 + y ** 2 < 1) / n_samples\n"
   ]
  },
  {
   "cell_type": "code",
   "execution_count": 19,
   "metadata": {},
   "outputs": [
    {
     "data": {
      "text/plain": [
       "3.1419246"
      ]
     },
     "execution_count": 19,
     "metadata": {},
     "output_type": "execute_result"
    }
   ],
   "source": [
    "from numba_pi import numba_calc_pi\n",
    "\n",
    "numba_calc_pi(n_samples)"
   ]
  },
  {
   "cell_type": "code",
   "execution_count": 20,
   "metadata": {},
   "outputs": [
    {
     "data": {
      "text/plain": [
       "0.35298084500633803"
      ]
     },
     "execution_count": 20,
     "metadata": {},
     "output_type": "execute_result"
    }
   ],
   "source": [
    "import timeit\n",
    "\n",
    "time = timeit.Timer(\"numba_calc_pi({})\".format(n_samples),\n",
    "                    \"from numba_pi import numba_calc_pi\")\n",
    "time.timeit(n_times) / n_times"
   ]
  },
  {
   "cell_type": "markdown",
   "metadata": {},
   "source": [
    "# Conclusion\n",
    "\n",
    "- Numpy ~25x faster (2.2 vs 54 s) than pure python\n",
    "- Joblib + numpy ~50x faster (1 vs 54 s) than pure python. Efficient up to number of phisical processors (speed up = n_phis_cores / 2)\n",
    "- Numexpr ~25x faster (2.2 vs 54 s) than pure python (the same performance as numpy)\n",
    "- Numba ~150x (0.35 vs 54 s) faster than pure python. Just add @njit(parallel=True) decorator!"
   ]
  },
  {
   "cell_type": "code",
   "execution_count": null,
   "metadata": {},
   "outputs": [],
   "source": []
  }
 ],
 "metadata": {
  "kernelspec": {
   "display_name": "Python 3",
   "language": "python",
   "name": "python3"
  },
  "language_info": {
   "codemirror_mode": {
    "name": "ipython",
    "version": 3
   },
   "file_extension": ".py",
   "mimetype": "text/x-python",
   "name": "python",
   "nbconvert_exporter": "python",
   "pygments_lexer": "ipython3",
   "version": "3.6.8"
  }
 },
 "nbformat": 4,
 "nbformat_minor": 4
}
